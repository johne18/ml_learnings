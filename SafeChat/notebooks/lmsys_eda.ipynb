{
 "cells": [
  {
   "cell_type": "code",
   "execution_count": 1,
   "id": "a1b3a359",
   "metadata": {},
   "outputs": [],
   "source": [
    "import numpy as np\n",
    "import pandas as pd\n",
    "from datasets import load_dataset"
   ]
  },
  {
   "cell_type": "code",
   "execution_count": null,
   "id": "5a5ef2e0",
   "metadata": {},
   "outputs": [],
   "source": [
    "# https://huggingface.co/datasets/lmsys/lmsys-chat-1m\n",
    "lmsys_df = load_dataset(\"lmsys/lmsys-chat-1m\")"
   ]
  },
  {
   "cell_type": "code",
   "execution_count": 7,
   "id": "1be39a8e",
   "metadata": {},
   "outputs": [
    {
     "data": {
      "text/plain": [
       "DatasetDict({\n",
       "    train: Dataset({\n",
       "        features: ['conversation_id', 'model', 'conversation', 'turn', 'language', 'openai_moderation', 'redacted'],\n",
       "        num_rows: 1000000\n",
       "    })\n",
       "})"
      ]
     },
     "execution_count": 7,
     "metadata": {},
     "output_type": "execute_result"
    }
   ],
   "source": [
    "lmsys_df"
   ]
  },
  {
   "cell_type": "code",
   "execution_count": 8,
   "id": "32e1cd6b",
   "metadata": {},
   "outputs": [
    {
     "data": {
      "text/html": [
       "<div>\n",
       "<style scoped>\n",
       "    .dataframe tbody tr th:only-of-type {\n",
       "        vertical-align: middle;\n",
       "    }\n",
       "\n",
       "    .dataframe tbody tr th {\n",
       "        vertical-align: top;\n",
       "    }\n",
       "\n",
       "    .dataframe thead th {\n",
       "        text-align: right;\n",
       "    }\n",
       "</style>\n",
       "<table border=\"1\" class=\"dataframe\">\n",
       "  <thead>\n",
       "    <tr style=\"text-align: right;\">\n",
       "      <th></th>\n",
       "      <th>conversation_id</th>\n",
       "      <th>model</th>\n",
       "      <th>conversation</th>\n",
       "      <th>turn</th>\n",
       "      <th>language</th>\n",
       "      <th>openai_moderation</th>\n",
       "      <th>redacted</th>\n",
       "    </tr>\n",
       "  </thead>\n",
       "  <tbody>\n",
       "    <tr>\n",
       "      <th>0</th>\n",
       "      <td>33f01939a744455c869cb234afca47f1</td>\n",
       "      <td>wizardlm-13b</td>\n",
       "      <td>[{'content': 'how can identity protection serv...</td>\n",
       "      <td>1</td>\n",
       "      <td>English</td>\n",
       "      <td>[{'categories': {'harassment': False, 'harassm...</td>\n",
       "      <td>False</td>\n",
       "    </tr>\n",
       "    <tr>\n",
       "      <th>1</th>\n",
       "      <td>1e230e55efea4edab95db9cb87f6a9cb</td>\n",
       "      <td>vicuna-13b</td>\n",
       "      <td>[{'content': 'Beside OFAC's selective sanction...</td>\n",
       "      <td>6</td>\n",
       "      <td>English</td>\n",
       "      <td>[{'categories': {'harassment': False, 'harassm...</td>\n",
       "      <td>False</td>\n",
       "    </tr>\n",
       "    <tr>\n",
       "      <th>2</th>\n",
       "      <td>0f623736051f4a48a506fd5933563cfd</td>\n",
       "      <td>vicuna-13b</td>\n",
       "      <td>[{'content': 'You are the text completion mode...</td>\n",
       "      <td>1</td>\n",
       "      <td>English</td>\n",
       "      <td>[{'categories': {'harassment': False, 'harassm...</td>\n",
       "      <td>False</td>\n",
       "    </tr>\n",
       "  </tbody>\n",
       "</table>\n",
       "</div>"
      ],
      "text/plain": [
       "                    conversation_id         model  \\\n",
       "0  33f01939a744455c869cb234afca47f1  wizardlm-13b   \n",
       "1  1e230e55efea4edab95db9cb87f6a9cb    vicuna-13b   \n",
       "2  0f623736051f4a48a506fd5933563cfd    vicuna-13b   \n",
       "\n",
       "                                        conversation  turn language  \\\n",
       "0  [{'content': 'how can identity protection serv...     1  English   \n",
       "1  [{'content': 'Beside OFAC's selective sanction...     6  English   \n",
       "2  [{'content': 'You are the text completion mode...     1  English   \n",
       "\n",
       "                                   openai_moderation  redacted  \n",
       "0  [{'categories': {'harassment': False, 'harassm...     False  \n",
       "1  [{'categories': {'harassment': False, 'harassm...     False  \n",
       "2  [{'categories': {'harassment': False, 'harassm...     False  "
      ]
     },
     "execution_count": 8,
     "metadata": {},
     "output_type": "execute_result"
    }
   ],
   "source": [
    "train_df = lmsys_df[\"train\"].to_pandas()\n",
    "train_df.head(3)"
   ]
  }
 ],
 "metadata": {
  "kernelspec": {
   "display_name": "venv",
   "language": "python",
   "name": "python3"
  },
  "language_info": {
   "codemirror_mode": {
    "name": "ipython",
    "version": 3
   },
   "file_extension": ".py",
   "mimetype": "text/x-python",
   "name": "python",
   "nbconvert_exporter": "python",
   "pygments_lexer": "ipython3",
   "version": "3.13.7"
  }
 },
 "nbformat": 4,
 "nbformat_minor": 5
}
