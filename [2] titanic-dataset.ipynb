{
 "cells": [
  {
   "cell_type": "code",
   "execution_count": 1,
   "id": "b8e62624",
   "metadata": {
    "_cell_guid": "b1076dfc-b9ad-4769-8c92-a6c4dae69d19",
    "_uuid": "8f2839f25d086af736a60e9eeb907d3b93b6e0e5",
    "execution": {
     "iopub.execute_input": "2025-05-31T23:10:50.093560Z",
     "iopub.status.busy": "2025-05-31T23:10:50.092501Z",
     "iopub.status.idle": "2025-05-31T23:10:52.153713Z",
     "shell.execute_reply": "2025-05-31T23:10:52.152535Z"
    },
    "papermill": {
     "duration": 2.071883,
     "end_time": "2025-05-31T23:10:52.155416",
     "exception": false,
     "start_time": "2025-05-31T23:10:50.083533",
     "status": "completed"
    },
    "tags": []
   },
   "outputs": [
    {
     "name": "stdout",
     "output_type": "stream",
     "text": [
      "/kaggle/input/titanic/train.csv\n",
      "/kaggle/input/titanic/test.csv\n",
      "/kaggle/input/titanic/gender_submission.csv\n"
     ]
    }
   ],
   "source": [
    "import numpy as np\n",
    "import pandas as pd\n",
    "import warnings\n",
    "warnings.filterwarnings(\"ignore\")\n",
    "\n",
    "import os\n",
    "for dirname, _, filenames in os.walk('/kaggle/input'):\n",
    "    for filename in filenames:\n",
    "        print(os.path.join(dirname, filename))"
   ]
  },
  {
   "cell_type": "markdown",
   "id": "bbb53d5d",
   "metadata": {
    "papermill": {
     "duration": 0.005852,
     "end_time": "2025-05-31T23:10:52.168000",
     "exception": false,
     "start_time": "2025-05-31T23:10:52.162148",
     "status": "completed"
    },
    "tags": []
   },
   "source": [
    "EDA\n",
    "="
   ]
  },
  {
   "cell_type": "code",
   "execution_count": 2,
   "id": "49d84f62",
   "metadata": {
    "execution": {
     "iopub.execute_input": "2025-05-31T23:10:52.181578Z",
     "iopub.status.busy": "2025-05-31T23:10:52.181096Z",
     "iopub.status.idle": "2025-05-31T23:10:52.210828Z",
     "shell.execute_reply": "2025-05-31T23:10:52.209479Z"
    },
    "papermill": {
     "duration": 0.0387,
     "end_time": "2025-05-31T23:10:52.212744",
     "exception": false,
     "start_time": "2025-05-31T23:10:52.174044",
     "status": "completed"
    },
    "tags": []
   },
   "outputs": [],
   "source": [
    "train_df = pd.read_csv(\"/kaggle/input/titanic/train.csv\")"
   ]
  },
  {
   "cell_type": "code",
   "execution_count": 3,
   "id": "2c1ba234",
   "metadata": {
    "execution": {
     "iopub.execute_input": "2025-05-31T23:10:52.226474Z",
     "iopub.status.busy": "2025-05-31T23:10:52.226145Z",
     "iopub.status.idle": "2025-05-31T23:10:52.237917Z",
     "shell.execute_reply": "2025-05-31T23:10:52.236775Z"
    },
    "papermill": {
     "duration": 0.021207,
     "end_time": "2025-05-31T23:10:52.240153",
     "exception": false,
     "start_time": "2025-05-31T23:10:52.218946",
     "status": "completed"
    },
    "tags": []
   },
   "outputs": [],
   "source": [
    "test_df = pd.read_csv(\"/kaggle/input/titanic/test.csv\")"
   ]
  },
  {
   "cell_type": "code",
   "execution_count": 4,
   "id": "a3efa66c",
   "metadata": {
    "execution": {
     "iopub.execute_input": "2025-05-31T23:10:52.254556Z",
     "iopub.status.busy": "2025-05-31T23:10:52.254219Z",
     "iopub.status.idle": "2025-05-31T23:10:52.266156Z",
     "shell.execute_reply": "2025-05-31T23:10:52.264995Z"
    },
    "papermill": {
     "duration": 0.021388,
     "end_time": "2025-05-31T23:10:52.267995",
     "exception": false,
     "start_time": "2025-05-31T23:10:52.246607",
     "status": "completed"
    },
    "tags": []
   },
   "outputs": [],
   "source": [
    "gender_submission_df = pd.read_csv(\"/kaggle/input/titanic/gender_submission.csv\")"
   ]
  },
  {
   "cell_type": "code",
   "execution_count": 5,
   "id": "aa2691d7",
   "metadata": {
    "execution": {
     "iopub.execute_input": "2025-05-31T23:10:52.281601Z",
     "iopub.status.busy": "2025-05-31T23:10:52.281244Z",
     "iopub.status.idle": "2025-05-31T23:10:52.293809Z",
     "shell.execute_reply": "2025-05-31T23:10:52.292755Z"
    },
    "papermill": {
     "duration": 0.021185,
     "end_time": "2025-05-31T23:10:52.295372",
     "exception": false,
     "start_time": "2025-05-31T23:10:52.274187",
     "status": "completed"
    },
    "tags": []
   },
   "outputs": [
    {
     "data": {
      "text/plain": [
       "PassengerId      int64\n",
       "Survived         int64\n",
       "Pclass           int64\n",
       "Name            object\n",
       "Sex             object\n",
       "Age            float64\n",
       "SibSp            int64\n",
       "Parch            int64\n",
       "Ticket          object\n",
       "Fare           float64\n",
       "Cabin           object\n",
       "Embarked        object\n",
       "dtype: object"
      ]
     },
     "execution_count": 5,
     "metadata": {},
     "output_type": "execute_result"
    }
   ],
   "source": [
    "train_df.dtypes"
   ]
  },
  {
   "cell_type": "code",
   "execution_count": 6,
   "id": "331b6563",
   "metadata": {
    "execution": {
     "iopub.execute_input": "2025-05-31T23:10:52.309294Z",
     "iopub.status.busy": "2025-05-31T23:10:52.308948Z",
     "iopub.status.idle": "2025-05-31T23:10:52.354309Z",
     "shell.execute_reply": "2025-05-31T23:10:52.353293Z"
    },
    "papermill": {
     "duration": 0.054429,
     "end_time": "2025-05-31T23:10:52.356043",
     "exception": false,
     "start_time": "2025-05-31T23:10:52.301614",
     "status": "completed"
    },
    "tags": []
   },
   "outputs": [
    {
     "data": {
      "text/html": [
       "<div>\n",
       "<style scoped>\n",
       "    .dataframe tbody tr th:only-of-type {\n",
       "        vertical-align: middle;\n",
       "    }\n",
       "\n",
       "    .dataframe tbody tr th {\n",
       "        vertical-align: top;\n",
       "    }\n",
       "\n",
       "    .dataframe thead th {\n",
       "        text-align: right;\n",
       "    }\n",
       "</style>\n",
       "<table border=\"1\" class=\"dataframe\">\n",
       "  <thead>\n",
       "    <tr style=\"text-align: right;\">\n",
       "      <th></th>\n",
       "      <th>PassengerId</th>\n",
       "      <th>Survived</th>\n",
       "      <th>Pclass</th>\n",
       "      <th>Age</th>\n",
       "      <th>SibSp</th>\n",
       "      <th>Parch</th>\n",
       "      <th>Fare</th>\n",
       "    </tr>\n",
       "  </thead>\n",
       "  <tbody>\n",
       "    <tr>\n",
       "      <th>count</th>\n",
       "      <td>891.000000</td>\n",
       "      <td>891.000000</td>\n",
       "      <td>891.000000</td>\n",
       "      <td>714.000000</td>\n",
       "      <td>891.000000</td>\n",
       "      <td>891.000000</td>\n",
       "      <td>891.000000</td>\n",
       "    </tr>\n",
       "    <tr>\n",
       "      <th>mean</th>\n",
       "      <td>446.000000</td>\n",
       "      <td>0.383838</td>\n",
       "      <td>2.308642</td>\n",
       "      <td>29.699118</td>\n",
       "      <td>0.523008</td>\n",
       "      <td>0.381594</td>\n",
       "      <td>32.204208</td>\n",
       "    </tr>\n",
       "    <tr>\n",
       "      <th>std</th>\n",
       "      <td>257.353842</td>\n",
       "      <td>0.486592</td>\n",
       "      <td>0.836071</td>\n",
       "      <td>14.526497</td>\n",
       "      <td>1.102743</td>\n",
       "      <td>0.806057</td>\n",
       "      <td>49.693429</td>\n",
       "    </tr>\n",
       "    <tr>\n",
       "      <th>min</th>\n",
       "      <td>1.000000</td>\n",
       "      <td>0.000000</td>\n",
       "      <td>1.000000</td>\n",
       "      <td>0.420000</td>\n",
       "      <td>0.000000</td>\n",
       "      <td>0.000000</td>\n",
       "      <td>0.000000</td>\n",
       "    </tr>\n",
       "    <tr>\n",
       "      <th>25%</th>\n",
       "      <td>223.500000</td>\n",
       "      <td>0.000000</td>\n",
       "      <td>2.000000</td>\n",
       "      <td>20.125000</td>\n",
       "      <td>0.000000</td>\n",
       "      <td>0.000000</td>\n",
       "      <td>7.910400</td>\n",
       "    </tr>\n",
       "    <tr>\n",
       "      <th>50%</th>\n",
       "      <td>446.000000</td>\n",
       "      <td>0.000000</td>\n",
       "      <td>3.000000</td>\n",
       "      <td>28.000000</td>\n",
       "      <td>0.000000</td>\n",
       "      <td>0.000000</td>\n",
       "      <td>14.454200</td>\n",
       "    </tr>\n",
       "    <tr>\n",
       "      <th>75%</th>\n",
       "      <td>668.500000</td>\n",
       "      <td>1.000000</td>\n",
       "      <td>3.000000</td>\n",
       "      <td>38.000000</td>\n",
       "      <td>1.000000</td>\n",
       "      <td>0.000000</td>\n",
       "      <td>31.000000</td>\n",
       "    </tr>\n",
       "    <tr>\n",
       "      <th>max</th>\n",
       "      <td>891.000000</td>\n",
       "      <td>1.000000</td>\n",
       "      <td>3.000000</td>\n",
       "      <td>80.000000</td>\n",
       "      <td>8.000000</td>\n",
       "      <td>6.000000</td>\n",
       "      <td>512.329200</td>\n",
       "    </tr>\n",
       "  </tbody>\n",
       "</table>\n",
       "</div>"
      ],
      "text/plain": [
       "       PassengerId    Survived      Pclass         Age       SibSp  \\\n",
       "count   891.000000  891.000000  891.000000  714.000000  891.000000   \n",
       "mean    446.000000    0.383838    2.308642   29.699118    0.523008   \n",
       "std     257.353842    0.486592    0.836071   14.526497    1.102743   \n",
       "min       1.000000    0.000000    1.000000    0.420000    0.000000   \n",
       "25%     223.500000    0.000000    2.000000   20.125000    0.000000   \n",
       "50%     446.000000    0.000000    3.000000   28.000000    0.000000   \n",
       "75%     668.500000    1.000000    3.000000   38.000000    1.000000   \n",
       "max     891.000000    1.000000    3.000000   80.000000    8.000000   \n",
       "\n",
       "            Parch        Fare  \n",
       "count  891.000000  891.000000  \n",
       "mean     0.381594   32.204208  \n",
       "std      0.806057   49.693429  \n",
       "min      0.000000    0.000000  \n",
       "25%      0.000000    7.910400  \n",
       "50%      0.000000   14.454200  \n",
       "75%      0.000000   31.000000  \n",
       "max      6.000000  512.329200  "
      ]
     },
     "execution_count": 6,
     "metadata": {},
     "output_type": "execute_result"
    }
   ],
   "source": [
    "numerical_columns = train_df.select_dtypes(include=[\"int64\", \"float64\"])\n",
    "numerical_columns.describe()"
   ]
  },
  {
   "cell_type": "code",
   "execution_count": 7,
   "id": "b9f9121d",
   "metadata": {
    "execution": {
     "iopub.execute_input": "2025-05-31T23:10:52.371052Z",
     "iopub.status.busy": "2025-05-31T23:10:52.370398Z",
     "iopub.status.idle": "2025-05-31T23:10:52.391891Z",
     "shell.execute_reply": "2025-05-31T23:10:52.390677Z"
    },
    "papermill": {
     "duration": 0.030922,
     "end_time": "2025-05-31T23:10:52.393814",
     "exception": false,
     "start_time": "2025-05-31T23:10:52.362892",
     "status": "completed"
    },
    "tags": []
   },
   "outputs": [
    {
     "data": {
      "text/html": [
       "<div>\n",
       "<style scoped>\n",
       "    .dataframe tbody tr th:only-of-type {\n",
       "        vertical-align: middle;\n",
       "    }\n",
       "\n",
       "    .dataframe tbody tr th {\n",
       "        vertical-align: top;\n",
       "    }\n",
       "\n",
       "    .dataframe thead th {\n",
       "        text-align: right;\n",
       "    }\n",
       "</style>\n",
       "<table border=\"1\" class=\"dataframe\">\n",
       "  <thead>\n",
       "    <tr style=\"text-align: right;\">\n",
       "      <th></th>\n",
       "      <th>Name</th>\n",
       "      <th>Sex</th>\n",
       "      <th>Ticket</th>\n",
       "      <th>Cabin</th>\n",
       "      <th>Embarked</th>\n",
       "    </tr>\n",
       "  </thead>\n",
       "  <tbody>\n",
       "    <tr>\n",
       "      <th>count</th>\n",
       "      <td>891</td>\n",
       "      <td>891</td>\n",
       "      <td>891</td>\n",
       "      <td>204</td>\n",
       "      <td>889</td>\n",
       "    </tr>\n",
       "    <tr>\n",
       "      <th>unique</th>\n",
       "      <td>891</td>\n",
       "      <td>2</td>\n",
       "      <td>681</td>\n",
       "      <td>147</td>\n",
       "      <td>3</td>\n",
       "    </tr>\n",
       "    <tr>\n",
       "      <th>top</th>\n",
       "      <td>Braund, Mr. Owen Harris</td>\n",
       "      <td>male</td>\n",
       "      <td>347082</td>\n",
       "      <td>B96 B98</td>\n",
       "      <td>S</td>\n",
       "    </tr>\n",
       "    <tr>\n",
       "      <th>freq</th>\n",
       "      <td>1</td>\n",
       "      <td>577</td>\n",
       "      <td>7</td>\n",
       "      <td>4</td>\n",
       "      <td>644</td>\n",
       "    </tr>\n",
       "  </tbody>\n",
       "</table>\n",
       "</div>"
      ],
      "text/plain": [
       "                           Name   Sex  Ticket    Cabin Embarked\n",
       "count                       891   891     891      204      889\n",
       "unique                      891     2     681      147        3\n",
       "top     Braund, Mr. Owen Harris  male  347082  B96 B98        S\n",
       "freq                          1   577       7        4      644"
      ]
     },
     "execution_count": 7,
     "metadata": {},
     "output_type": "execute_result"
    }
   ],
   "source": [
    "categorical_columns = train_df.select_dtypes(include=[\"object\"])\n",
    "categorical_columns.describe()"
   ]
  },
  {
   "cell_type": "code",
   "execution_count": 8,
   "id": "059469a4",
   "metadata": {
    "execution": {
     "iopub.execute_input": "2025-05-31T23:10:52.408999Z",
     "iopub.status.busy": "2025-05-31T23:10:52.408109Z",
     "iopub.status.idle": "2025-05-31T23:10:52.419089Z",
     "shell.execute_reply": "2025-05-31T23:10:52.418052Z"
    },
    "papermill": {
     "duration": 0.020172,
     "end_time": "2025-05-31T23:10:52.420786",
     "exception": false,
     "start_time": "2025-05-31T23:10:52.400614",
     "status": "completed"
    },
    "tags": []
   },
   "outputs": [
    {
     "data": {
      "text/plain": [
       "Age         177\n",
       "Cabin       687\n",
       "Embarked      2\n",
       "dtype: int64"
      ]
     },
     "execution_count": 8,
     "metadata": {},
     "output_type": "execute_result"
    }
   ],
   "source": [
    "train_df.isna().sum()[train_df.isna().sum() > 0]"
   ]
  },
  {
   "cell_type": "code",
   "execution_count": 9,
   "id": "59e1cebc",
   "metadata": {
    "execution": {
     "iopub.execute_input": "2025-05-31T23:10:52.435566Z",
     "iopub.status.busy": "2025-05-31T23:10:52.435250Z",
     "iopub.status.idle": "2025-05-31T23:10:52.441941Z",
     "shell.execute_reply": "2025-05-31T23:10:52.441089Z"
    },
    "papermill": {
     "duration": 0.015538,
     "end_time": "2025-05-31T23:10:52.443430",
     "exception": false,
     "start_time": "2025-05-31T23:10:52.427892",
     "status": "completed"
    },
    "tags": []
   },
   "outputs": [
    {
     "data": {
      "text/plain": [
       "array(['S', 'C', 'Q', nan], dtype=object)"
      ]
     },
     "execution_count": 9,
     "metadata": {},
     "output_type": "execute_result"
    }
   ],
   "source": [
    "train_df[\"Embarked\"].unique()"
   ]
  },
  {
   "cell_type": "code",
   "execution_count": 10,
   "id": "2f0a115c",
   "metadata": {
    "execution": {
     "iopub.execute_input": "2025-05-31T23:10:52.458012Z",
     "iopub.status.busy": "2025-05-31T23:10:52.457688Z",
     "iopub.status.idle": "2025-05-31T23:10:52.475446Z",
     "shell.execute_reply": "2025-05-31T23:10:52.474469Z"
    },
    "papermill": {
     "duration": 0.026998,
     "end_time": "2025-05-31T23:10:52.477180",
     "exception": false,
     "start_time": "2025-05-31T23:10:52.450182",
     "status": "completed"
    },
    "tags": []
   },
   "outputs": [
    {
     "data": {
      "text/html": [
       "<div>\n",
       "<style scoped>\n",
       "    .dataframe tbody tr th:only-of-type {\n",
       "        vertical-align: middle;\n",
       "    }\n",
       "\n",
       "    .dataframe tbody tr th {\n",
       "        vertical-align: top;\n",
       "    }\n",
       "\n",
       "    .dataframe thead th {\n",
       "        text-align: right;\n",
       "    }\n",
       "</style>\n",
       "<table border=\"1\" class=\"dataframe\">\n",
       "  <thead>\n",
       "    <tr style=\"text-align: right;\">\n",
       "      <th></th>\n",
       "      <th>PassengerId</th>\n",
       "      <th>Survived</th>\n",
       "      <th>Pclass</th>\n",
       "      <th>Name</th>\n",
       "      <th>Sex</th>\n",
       "      <th>Age</th>\n",
       "      <th>SibSp</th>\n",
       "      <th>Parch</th>\n",
       "      <th>Ticket</th>\n",
       "      <th>Fare</th>\n",
       "      <th>Cabin</th>\n",
       "      <th>Embarked</th>\n",
       "    </tr>\n",
       "  </thead>\n",
       "  <tbody>\n",
       "    <tr>\n",
       "      <th>61</th>\n",
       "      <td>62</td>\n",
       "      <td>1</td>\n",
       "      <td>1</td>\n",
       "      <td>Icard, Miss. Amelie</td>\n",
       "      <td>female</td>\n",
       "      <td>38.0</td>\n",
       "      <td>0</td>\n",
       "      <td>0</td>\n",
       "      <td>113572</td>\n",
       "      <td>80.0</td>\n",
       "      <td>B28</td>\n",
       "      <td>NaN</td>\n",
       "    </tr>\n",
       "    <tr>\n",
       "      <th>829</th>\n",
       "      <td>830</td>\n",
       "      <td>1</td>\n",
       "      <td>1</td>\n",
       "      <td>Stone, Mrs. George Nelson (Martha Evelyn)</td>\n",
       "      <td>female</td>\n",
       "      <td>62.0</td>\n",
       "      <td>0</td>\n",
       "      <td>0</td>\n",
       "      <td>113572</td>\n",
       "      <td>80.0</td>\n",
       "      <td>B28</td>\n",
       "      <td>NaN</td>\n",
       "    </tr>\n",
       "  </tbody>\n",
       "</table>\n",
       "</div>"
      ],
      "text/plain": [
       "     PassengerId  Survived  Pclass                                       Name  \\\n",
       "61            62         1       1                        Icard, Miss. Amelie   \n",
       "829          830         1       1  Stone, Mrs. George Nelson (Martha Evelyn)   \n",
       "\n",
       "        Sex   Age  SibSp  Parch  Ticket  Fare Cabin Embarked  \n",
       "61   female  38.0      0      0  113572  80.0   B28      NaN  \n",
       "829  female  62.0      0      0  113572  80.0   B28      NaN  "
      ]
     },
     "execution_count": 10,
     "metadata": {},
     "output_type": "execute_result"
    }
   ],
   "source": [
    "train_df.loc[train_df[\"Embarked\"].isna()]"
   ]
  },
  {
   "cell_type": "code",
   "execution_count": 11,
   "id": "120c005c",
   "metadata": {
    "execution": {
     "iopub.execute_input": "2025-05-31T23:10:52.493079Z",
     "iopub.status.busy": "2025-05-31T23:10:52.492752Z",
     "iopub.status.idle": "2025-05-31T23:10:52.500911Z",
     "shell.execute_reply": "2025-05-31T23:10:52.499373Z"
    },
    "papermill": {
     "duration": 0.019289,
     "end_time": "2025-05-31T23:10:52.503458",
     "exception": false,
     "start_time": "2025-05-31T23:10:52.484169",
     "status": "completed"
    },
    "tags": []
   },
   "outputs": [
    {
     "data": {
      "text/plain": [
       "array([nan, 'C85', 'C123', 'E46', 'G6', 'C103', 'D56', 'A6',\n",
       "       'C23 C25 C27', 'B78', 'D33', 'B30', 'C52', 'B28', 'C83', 'F33',\n",
       "       'F G73', 'E31', 'A5', 'D10 D12', 'D26', 'C110', 'B58 B60', 'E101',\n",
       "       'F E69', 'D47', 'B86', 'F2', 'C2', 'E33', 'B19', 'A7', 'C49', 'F4',\n",
       "       'A32', 'B4', 'B80', 'A31', 'D36', 'D15', 'C93', 'C78', 'D35',\n",
       "       'C87', 'B77', 'E67', 'B94', 'C125', 'C99', 'C118', 'D7', 'A19',\n",
       "       'B49', 'D', 'C22 C26', 'C106', 'C65', 'E36', 'C54',\n",
       "       'B57 B59 B63 B66', 'C7', 'E34', 'C32', 'B18', 'C124', 'C91', 'E40',\n",
       "       'T', 'C128', 'D37', 'B35', 'E50', 'C82', 'B96 B98', 'E10', 'E44',\n",
       "       'A34', 'C104', 'C111', 'C92', 'E38', 'D21', 'E12', 'E63', 'A14',\n",
       "       'B37', 'C30', 'D20', 'B79', 'E25', 'D46', 'B73', 'C95', 'B38',\n",
       "       'B39', 'B22', 'C86', 'C70', 'A16', 'C101', 'C68', 'A10', 'E68',\n",
       "       'B41', 'A20', 'D19', 'D50', 'D9', 'A23', 'B50', 'A26', 'D48',\n",
       "       'E58', 'C126', 'B71', 'B51 B53 B55', 'D49', 'B5', 'B20', 'F G63',\n",
       "       'C62 C64', 'E24', 'C90', 'C45', 'E8', 'B101', 'D45', 'C46', 'D30',\n",
       "       'E121', 'D11', 'E77', 'F38', 'B3', 'D6', 'B82 B84', 'D17', 'A36',\n",
       "       'B102', 'B69', 'E49', 'C47', 'D28', 'E17', 'A24', 'C50', 'B42',\n",
       "       'C148'], dtype=object)"
      ]
     },
     "execution_count": 11,
     "metadata": {},
     "output_type": "execute_result"
    }
   ],
   "source": [
    "train_df[\"Cabin\"].unique()"
   ]
  },
  {
   "cell_type": "code",
   "execution_count": 12,
   "id": "eb2860e8",
   "metadata": {
    "execution": {
     "iopub.execute_input": "2025-05-31T23:10:52.519303Z",
     "iopub.status.busy": "2025-05-31T23:10:52.518977Z",
     "iopub.status.idle": "2025-05-31T23:10:52.532138Z",
     "shell.execute_reply": "2025-05-31T23:10:52.531013Z"
    },
    "papermill": {
     "duration": 0.023359,
     "end_time": "2025-05-31T23:10:52.534292",
     "exception": false,
     "start_time": "2025-05-31T23:10:52.510933",
     "status": "completed"
    },
    "tags": []
   },
   "outputs": [
    {
     "data": {
      "text/plain": [
       "PassengerId    0\n",
       "Survived       0\n",
       "Pclass         0\n",
       "Name           0\n",
       "Sex            0\n",
       "Age            0\n",
       "SibSp          0\n",
       "Parch          0\n",
       "Ticket         0\n",
       "Fare           0\n",
       "Cabin          0\n",
       "Embarked       0\n",
       "dtype: int64"
      ]
     },
     "execution_count": 12,
     "metadata": {},
     "output_type": "execute_result"
    }
   ],
   "source": [
    "# Handle missing values\n",
    "\n",
    "median_age = train_df[\"Age\"].median()\n",
    "median_fare = train_df[\"Fare\"].median()\n",
    "most_common_port = train_df[\"Embarked\"].mode()[0]\n",
    "\n",
    "\n",
    "train_df[\"Age\"].fillna(median_age, inplace=True)\n",
    "train_df[\"Fare\"].fillna(median_fare, inplace=True)\n",
    "train_df[\"Embarked\"].fillna(most_common_port, inplace=True)\n",
    "train_df[\"Cabin\"].fillna(\"Unavailable\", inplace=True)\n",
    "\n",
    "train_df.isna().sum()"
   ]
  },
  {
   "cell_type": "code",
   "execution_count": 13,
   "id": "fea658b1",
   "metadata": {
    "execution": {
     "iopub.execute_input": "2025-05-31T23:10:52.551357Z",
     "iopub.status.busy": "2025-05-31T23:10:52.551026Z",
     "iopub.status.idle": "2025-05-31T23:10:52.562466Z",
     "shell.execute_reply": "2025-05-31T23:10:52.561471Z"
    },
    "papermill": {
     "duration": 0.02198,
     "end_time": "2025-05-31T23:10:52.564257",
     "exception": false,
     "start_time": "2025-05-31T23:10:52.542277",
     "status": "completed"
    },
    "tags": []
   },
   "outputs": [
    {
     "data": {
      "text/plain": [
       "PassengerId    0\n",
       "Pclass         0\n",
       "Name           0\n",
       "Sex            0\n",
       "Age            0\n",
       "SibSp          0\n",
       "Parch          0\n",
       "Ticket         0\n",
       "Fare           0\n",
       "Cabin          0\n",
       "Embarked       0\n",
       "dtype: int64"
      ]
     },
     "execution_count": 13,
     "metadata": {},
     "output_type": "execute_result"
    }
   ],
   "source": [
    "test_df[\"Age\"].fillna(median_age, inplace=True)\n",
    "test_df[\"Fare\"].fillna(median_fare, inplace=True)\n",
    "test_df[\"Embarked\"].fillna(most_common_port, inplace=True)\n",
    "test_df[\"Cabin\"].fillna(\"Unavailable\", inplace=True)\n",
    "\n",
    "test_df.isna().sum()"
   ]
  },
  {
   "cell_type": "code",
   "execution_count": 14,
   "id": "6ce33f9f",
   "metadata": {
    "execution": {
     "iopub.execute_input": "2025-05-31T23:10:52.582459Z",
     "iopub.status.busy": "2025-05-31T23:10:52.582113Z",
     "iopub.status.idle": "2025-05-31T23:10:52.595247Z",
     "shell.execute_reply": "2025-05-31T23:10:52.594026Z"
    },
    "papermill": {
     "duration": 0.024595,
     "end_time": "2025-05-31T23:10:52.597059",
     "exception": false,
     "start_time": "2025-05-31T23:10:52.572464",
     "status": "completed"
    },
    "tags": []
   },
   "outputs": [
    {
     "data": {
      "text/plain": [
       "0"
      ]
     },
     "execution_count": 14,
     "metadata": {},
     "output_type": "execute_result"
    }
   ],
   "source": [
    "train_df.duplicated().sum()"
   ]
  },
  {
   "cell_type": "markdown",
   "id": "1d96423e",
   "metadata": {
    "papermill": {
     "duration": 0.007602,
     "end_time": "2025-05-31T23:10:52.612090",
     "exception": false,
     "start_time": "2025-05-31T23:10:52.604488",
     "status": "completed"
    },
    "tags": []
   },
   "source": [
    "Data Visualizations\n",
    "="
   ]
  },
  {
   "cell_type": "code",
   "execution_count": 15,
   "id": "2ffb2dbc",
   "metadata": {
    "execution": {
     "iopub.execute_input": "2025-05-31T23:10:52.629312Z",
     "iopub.status.busy": "2025-05-31T23:10:52.629009Z",
     "iopub.status.idle": "2025-05-31T23:10:54.762493Z",
     "shell.execute_reply": "2025-05-31T23:10:54.761490Z"
    },
    "papermill": {
     "duration": 2.14427,
     "end_time": "2025-05-31T23:10:54.764369",
     "exception": false,
     "start_time": "2025-05-31T23:10:52.620099",
     "status": "completed"
    },
    "tags": []
   },
   "outputs": [],
   "source": [
    "import seaborn as sns\n",
    "import matplotlib.pyplot as plt"
   ]
  },
  {
   "cell_type": "code",
   "execution_count": 16,
   "id": "208e55f5",
   "metadata": {
    "execution": {
     "iopub.execute_input": "2025-05-31T23:10:54.780346Z",
     "iopub.status.busy": "2025-05-31T23:10:54.779838Z",
     "iopub.status.idle": "2025-05-31T23:10:54.784351Z",
     "shell.execute_reply": "2025-05-31T23:10:54.783563Z"
    },
    "papermill": {
     "duration": 0.014215,
     "end_time": "2025-05-31T23:10:54.786053",
     "exception": false,
     "start_time": "2025-05-31T23:10:54.771838",
     "status": "completed"
    },
    "tags": []
   },
   "outputs": [],
   "source": [
    "# for col in train_df.columns:\n",
    "#     if col != \"Survived\":\n",
    "#         sns.histplot(train_df[train_df[\"Survived\"]==1][col], color=\"tab:blue\")\n",
    "#         sns.histplot(train_df[train_df[\"Survived\"]==0][col], color=\"tab:red\")\n",
    "\n",
    "#         plt.xlabel(col)\n",
    "#         plt.ylabel(\"Count\")\n",
    "#         plt.title(f\"{col} vs. Count\")\n",
    "        \n",
    "#         plt.tight_layout()\n",
    "#         plt.show()"
   ]
  },
  {
   "cell_type": "code",
   "execution_count": 17,
   "id": "0b1920d6",
   "metadata": {
    "execution": {
     "iopub.execute_input": "2025-05-31T23:10:54.802350Z",
     "iopub.status.busy": "2025-05-31T23:10:54.802009Z",
     "iopub.status.idle": "2025-05-31T23:11:10.449099Z",
     "shell.execute_reply": "2025-05-31T23:11:10.448199Z"
    },
    "papermill": {
     "duration": 15.656893,
     "end_time": "2025-05-31T23:11:10.450607",
     "exception": false,
     "start_time": "2025-05-31T23:10:54.793714",
     "status": "completed"
    },
    "tags": []
   },
   "outputs": [
    {
     "data": {
      "image/png": "[encoded data removed]",
      "text/plain": [
       "<Figure size 640x480 with 1 Axes>"
      ]
     },
     "metadata": {},
     "output_type": "display_data"
    },
    {
     "data": {
      "image/png": "[encoded data removed]",
      "text/plain": [
       "<Figure size 640x480 with 1 Axes>"
      ]
     },
     "metadata": {},
     "output_type": "display_data"
    },
    {
     "data": {
      "image/png": "[encoded data removed]",
      "text/plain": [
       "<Figure size 640x480 with 1 Axes>"
      ]
     },
     "metadata": {},
     "output_type": "display_data"
    },
    {
     "data": {
      "image/png": "[encoded data removed]",
      "text/plain": [
       "<Figure size 640x480 with 1 Axes>"
      ]
     },
     "metadata": {},
     "output_type": "display_data"
    },
    {
     "data": {
      "image/png": "[encoded data removed]",
      "text/plain": [
       "<Figure size 640x480 with 1 Axes>"
      ]
     },
     "metadata": {},
     "output_type": "display_data"
    },
    {
     "data": {
      "image/png": "[encoded data removed]",
      "text/plain": [
       "<Figure size 640x480 with 1 Axes>"
      ]
     },
     "metadata": {},
     "output_type": "display_data"
    },
    {
     "data": {
      "image/png": "[encoded data removed]",
      "text/plain": [
       "<Figure size 640x480 with 1 Axes>"
      ]
     },
     "metadata": {},
     "output_type": "display_data"
    },
    {
     "data": {
      "image/png": "[encoded data removed]",
      "text/plain": [
       "<Figure size 640x480 with 1 Axes>"
      ]
     },
     "metadata": {},
     "output_type": "display_data"
    },
    {
     "data": {
      "image/png": "[encoded data removed]",
      "text/plain": [
       "<Figure size 640x480 with 1 Axes>"
      ]
     },
     "metadata": {},
     "output_type": "display_data"
    },
    {
     "data": {
      "image/png": "[encoded data removed]",
      "text/plain": [
       "<Figure size 640x480 with 1 Axes>"
      ]
     },
     "metadata": {},
     "output_type": "display_data"
    },
    {
     "data": {
      "image/png": "[encoded data removed]",
      "text/plain": [
       "<Figure size 640x480 with 1 Axes>"
      ]
     },
     "metadata": {},
     "output_type": "display_data"
    }
   ],
   "source": [
    "# 0 for dead (red)\n",
    "# 1 for alive (blue)\n",
    "for col in train_df.columns:\n",
    "    if col != \"Survived\":\n",
    "        # parameters to consider\n",
    "        # stat=\"density\" -> compare in shape\n",
    "        # alpha -> values between 0 and 1\n",
    "        \n",
    "        sns.histplot(train_df[train_df[\"Survived\"]==1][col], color=\"tab:blue\", stat=\"density\")\n",
    "        sns.histplot(train_df[train_df[\"Survived\"]==0][col], color=\"tab:red\", stat=\"density\")\n",
    "\n",
    "        plt.xlabel(col)\n",
    "        plt.ylabel(\"Count\")\n",
    "        plt.title(f\"{col} vs. Count\")\n",
    "        \n",
    "        plt.tight_layout()\n",
    "        plt.show()"
   ]
  },
  {
   "cell_type": "markdown",
   "id": "cc82904b",
   "metadata": {
    "papermill": {
     "duration": 0.010905,
     "end_time": "2025-05-31T23:11:10.473310",
     "exception": false,
     "start_time": "2025-05-31T23:11:10.462405",
     "status": "completed"
    },
    "tags": []
   },
   "source": [
    "We plot each graph and normalize the data by setting the stat parameter to density for easier comparisons.\n",
    "\n",
    "From the graphs above, there seems to be a significant number of deaths of people who were in 3rd class, male, middle-aged, and had no siblings or spouses aboard."
   ]
  },
  {
   "cell_type": "markdown",
   "id": "ba4564e1",
   "metadata": {
    "papermill": {
     "duration": 0.010878,
     "end_time": "2025-05-31T23:11:10.495368",
     "exception": false,
     "start_time": "2025-05-31T23:11:10.484490",
     "status": "completed"
    },
    "tags": []
   },
   "source": [
    "Modeling\n",
    "="
   ]
  },
  {
   "cell_type": "code",
   "execution_count": 18,
   "id": "5c0e6d3d",
   "metadata": {
    "execution": {
     "iopub.execute_input": "2025-05-31T23:11:10.519307Z",
     "iopub.status.busy": "2025-05-31T23:11:10.518935Z",
     "iopub.status.idle": "2025-05-31T23:11:11.336009Z",
     "shell.execute_reply": "2025-05-31T23:11:11.334762Z"
    },
    "papermill": {
     "duration": 0.831361,
     "end_time": "2025-05-31T23:11:11.337858",
     "exception": false,
     "start_time": "2025-05-31T23:11:10.506497",
     "status": "completed"
    },
    "tags": []
   },
   "outputs": [],
   "source": [
    "# Preprocess categorical variables\n",
    "from sklearn.preprocessing import LabelEncoder\n",
    "\n",
    "# Split data into train and test data\n",
    "from sklearn.model_selection import train_test_split\n",
    "\n",
    "# Models to try\n",
    "from sklearn.ensemble import RandomForestClassifier, GradientBoostingClassifier\n",
    "from sklearn.neighbors import KNeighborsClassifier\n",
    "\n",
    "# Measurements\n",
    "from sklearn.metrics import mean_absolute_error\n",
    "from sklearn.metrics import accuracy_score\n",
    "\n",
    "from sklearn.compose import ColumnTransformer\n",
    "from sklearn.pipeline import Pipeline\n",
    "from sklearn.model_selection import cross_val_score"
   ]
  },
  {
   "cell_type": "code",
   "execution_count": 19,
   "id": "d48bd618",
   "metadata": {
    "execution": {
     "iopub.execute_input": "2025-05-31T23:11:11.361912Z",
     "iopub.status.busy": "2025-05-31T23:11:11.361558Z",
     "iopub.status.idle": "2025-05-31T23:11:11.367969Z",
     "shell.execute_reply": "2025-05-31T23:11:11.366922Z"
    },
    "papermill": {
     "duration": 0.020756,
     "end_time": "2025-05-31T23:11:11.369698",
     "exception": false,
     "start_time": "2025-05-31T23:11:11.348942",
     "status": "completed"
    },
    "tags": []
   },
   "outputs": [],
   "source": [
    "def random_forest_model(x_train, x_val, y_train, y_val, total_trees=50, depth=5, random_state=18):\n",
    "    acc_scores = []\n",
    "    \n",
    "    for num_trees in range(50, total_trees + 1, 50):\n",
    "        model = RandomForestClassifier(n_estimators=num_trees, max_depth=depth, random_state=random_state)\n",
    "        model.fit(x_train, y_train)\n",
    "        \n",
    "        predictions = model.predict(x_val)\n",
    "        \n",
    "        acc_score = accuracy_score(y_val, predictions)\n",
    "        mae_score = mean_absolute_error(y_val, predictions)\n",
    "        \n",
    "        acc_scores.append({\n",
    "            \"Trees\": num_trees,\n",
    "            \"acc_score\": acc_score\n",
    "        })\n",
    "        # print(f\"On average, with n_estimators: {num_trees} we our predictions are off by about ${mae_score}\")\n",
    "\n",
    "\n",
    "\n",
    "    return acc_scores\n",
    "    "
   ]
  },
  {
   "cell_type": "code",
   "execution_count": 20,
   "id": "87769fb1",
   "metadata": {
    "execution": {
     "iopub.execute_input": "2025-05-31T23:11:11.394199Z",
     "iopub.status.busy": "2025-05-31T23:11:11.393865Z",
     "iopub.status.idle": "2025-05-31T23:11:11.399806Z",
     "shell.execute_reply": "2025-05-31T23:11:11.398736Z"
    },
    "papermill": {
     "duration": 0.019854,
     "end_time": "2025-05-31T23:11:11.401485",
     "exception": false,
     "start_time": "2025-05-31T23:11:11.381631",
     "status": "completed"
    },
    "tags": []
   },
   "outputs": [],
   "source": [
    "models = {\n",
    "    \"Gradient Boosting\": GradientBoostingClassifier(),\n",
    "    \"KNN\" : KNeighborsClassifier()\n",
    "}\n",
    "def evaluate_models(x_train, x_val, y_train, y_val):\n",
    "    scores = []\n",
    "\n",
    "    for name, model in models.items():\n",
    "        model.fit(x_train, y_train)\n",
    "        predictions = model.predict(x_val)\n",
    "\n",
    "        score = accuracy_score(y_val, predictions)\n",
    "        scores.append((name, score))\n",
    "\n",
    "    return scores"
   ]
  },
  {
   "cell_type": "markdown",
   "id": "c6b3b0cf",
   "metadata": {
    "papermill": {
     "duration": 0.011804,
     "end_time": "2025-05-31T23:11:11.425871",
     "exception": false,
     "start_time": "2025-05-31T23:11:11.414067",
     "status": "completed"
    },
    "tags": []
   },
   "source": [
    "Modeling with no cross validation\n",
    "* Encode categorical values (Label Encoding)\n",
    "* From the graphs above, there seems to be a significant number of deaths of people who were in 3rd class, male, middle-aged, and had no siblings or spouses aboard."
   ]
  },
  {
   "cell_type": "code",
   "execution_count": 21,
   "id": "45a11ed4",
   "metadata": {
    "execution": {
     "iopub.execute_input": "2025-05-31T23:11:11.449079Z",
     "iopub.status.busy": "2025-05-31T23:11:11.448756Z",
     "iopub.status.idle": "2025-05-31T23:11:11.455761Z",
     "shell.execute_reply": "2025-05-31T23:11:11.454837Z"
    },
    "papermill": {
     "duration": 0.020344,
     "end_time": "2025-05-31T23:11:11.457171",
     "exception": false,
     "start_time": "2025-05-31T23:11:11.436827",
     "status": "completed"
    },
    "tags": []
   },
   "outputs": [],
   "source": [
    "features = [\"Pclass\", \"Age\", \"SibSp\", \"Sex\"]\n",
    "target = [\"Survived\"]\n",
    "label_encoder = LabelEncoder()\n",
    "\n",
    "y_train = train_df[target]\n",
    "y_test = gender_submission_df[target]"
   ]
  },
  {
   "cell_type": "code",
   "execution_count": 22,
   "id": "4c6fd059",
   "metadata": {
    "execution": {
     "iopub.execute_input": "2025-05-31T23:11:11.549687Z",
     "iopub.status.busy": "2025-05-31T23:11:11.549284Z",
     "iopub.status.idle": "2025-05-31T23:11:11.555031Z",
     "shell.execute_reply": "2025-05-31T23:11:11.554159Z"
    },
    "papermill": {
     "duration": 0.088057,
     "end_time": "2025-05-31T23:11:11.556460",
     "exception": false,
     "start_time": "2025-05-31T23:11:11.468403",
     "status": "completed"
    },
    "tags": []
   },
   "outputs": [],
   "source": [
    "train_df.drop(columns=\"Survived\", axis=1, inplace=True)"
   ]
  },
  {
   "cell_type": "code",
   "execution_count": 23,
   "id": "b863be81",
   "metadata": {
    "execution": {
     "iopub.execute_input": "2025-05-31T23:11:11.582777Z",
     "iopub.status.busy": "2025-05-31T23:11:11.582391Z",
     "iopub.status.idle": "2025-05-31T23:11:11.597393Z",
     "shell.execute_reply": "2025-05-31T23:11:11.596545Z"
    },
    "papermill": {
     "duration": 0.030715,
     "end_time": "2025-05-31T23:11:11.598889",
     "exception": false,
     "start_time": "2025-05-31T23:11:11.568174",
     "status": "completed"
    },
    "tags": []
   },
   "outputs": [
    {
     "data": {
      "text/html": [
       "<div>\n",
       "<style scoped>\n",
       "    .dataframe tbody tr th:only-of-type {\n",
       "        vertical-align: middle;\n",
       "    }\n",
       "\n",
       "    .dataframe tbody tr th {\n",
       "        vertical-align: top;\n",
       "    }\n",
       "\n",
       "    .dataframe thead th {\n",
       "        text-align: right;\n",
       "    }\n",
       "</style>\n",
       "<table border=\"1\" class=\"dataframe\">\n",
       "  <thead>\n",
       "    <tr style=\"text-align: right;\">\n",
       "      <th></th>\n",
       "      <th>PassengerId</th>\n",
       "      <th>Pclass</th>\n",
       "      <th>Name</th>\n",
       "      <th>Sex</th>\n",
       "      <th>Age</th>\n",
       "      <th>SibSp</th>\n",
       "      <th>Parch</th>\n",
       "      <th>Ticket</th>\n",
       "      <th>Fare</th>\n",
       "      <th>Cabin</th>\n",
       "      <th>Embarked</th>\n",
       "    </tr>\n",
       "  </thead>\n",
       "  <tbody>\n",
       "    <tr>\n",
       "      <th>0</th>\n",
       "      <td>1</td>\n",
       "      <td>3</td>\n",
       "      <td>Braund, Mr. Owen Harris</td>\n",
       "      <td>male</td>\n",
       "      <td>22.0</td>\n",
       "      <td>1</td>\n",
       "      <td>0</td>\n",
       "      <td>A/5 21171</td>\n",
       "      <td>7.2500</td>\n",
       "      <td>Unavailable</td>\n",
       "      <td>S</td>\n",
       "    </tr>\n",
       "    <tr>\n",
       "      <th>1</th>\n",
       "      <td>2</td>\n",
       "      <td>1</td>\n",
       "      <td>Cumings, Mrs. John Bradley (Florence Briggs Th...</td>\n",
       "      <td>female</td>\n",
       "      <td>38.0</td>\n",
       "      <td>1</td>\n",
       "      <td>0</td>\n",
       "      <td>PC 17599</td>\n",
       "      <td>71.2833</td>\n",
       "      <td>C85</td>\n",
       "      <td>C</td>\n",
       "    </tr>\n",
       "    <tr>\n",
       "      <th>2</th>\n",
       "      <td>3</td>\n",
       "      <td>3</td>\n",
       "      <td>Heikkinen, Miss. Laina</td>\n",
       "      <td>female</td>\n",
       "      <td>26.0</td>\n",
       "      <td>0</td>\n",
       "      <td>0</td>\n",
       "      <td>STON/O2. 3101282</td>\n",
       "      <td>7.9250</td>\n",
       "      <td>Unavailable</td>\n",
       "      <td>S</td>\n",
       "    </tr>\n",
       "  </tbody>\n",
       "</table>\n",
       "</div>"
      ],
      "text/plain": [
       "   PassengerId  Pclass                                               Name  \\\n",
       "0            1       3                            Braund, Mr. Owen Harris   \n",
       "1            2       1  Cumings, Mrs. John Bradley (Florence Briggs Th...   \n",
       "2            3       3                             Heikkinen, Miss. Laina   \n",
       "\n",
       "      Sex   Age  SibSp  Parch            Ticket     Fare        Cabin Embarked  \n",
       "0    male  22.0      1      0         A/5 21171   7.2500  Unavailable        S  \n",
       "1  female  38.0      1      0          PC 17599  71.2833          C85        C  \n",
       "2  female  26.0      0      0  STON/O2. 3101282   7.9250  Unavailable        S  "
      ]
     },
     "execution_count": 23,
     "metadata": {},
     "output_type": "execute_result"
    }
   ],
   "source": [
    "combined_df = pd.concat([train_df, test_df], axis=0)\n",
    "combined_df.reset_index(drop=True, inplace=True)\n",
    "\n",
    "combined_df.head(3)"
   ]
  },
  {
   "cell_type": "code",
   "execution_count": 24,
   "id": "8aae2c6a",
   "metadata": {
    "execution": {
     "iopub.execute_input": "2025-05-31T23:11:11.623599Z",
     "iopub.status.busy": "2025-05-31T23:11:11.623304Z",
     "iopub.status.idle": "2025-05-31T23:11:11.629118Z",
     "shell.execute_reply": "2025-05-31T23:11:11.628035Z"
    },
    "papermill": {
     "duration": 0.019836,
     "end_time": "2025-05-31T23:11:11.630791",
     "exception": false,
     "start_time": "2025-05-31T23:11:11.610955",
     "status": "completed"
    },
    "tags": []
   },
   "outputs": [],
   "source": [
    "# combined_df[\"Sex\"] = label_encoder.fit_transform(combined_df[\"Sex\"])\n",
    "combined_df_encoded = combined_df[\"Sex\"].map({\"male\": 0, \"female\": 1})"
   ]
  },
  {
   "cell_type": "code",
   "execution_count": 25,
   "id": "854740de",
   "metadata": {
    "execution": {
     "iopub.execute_input": "2025-05-31T23:11:11.655142Z",
     "iopub.status.busy": "2025-05-31T23:11:11.654783Z",
     "iopub.status.idle": "2025-05-31T23:11:11.662224Z",
     "shell.execute_reply": "2025-05-31T23:11:11.661255Z"
    },
    "papermill": {
     "duration": 0.021607,
     "end_time": "2025-05-31T23:11:11.663840",
     "exception": false,
     "start_time": "2025-05-31T23:11:11.642233",
     "status": "completed"
    },
    "tags": []
   },
   "outputs": [
    {
     "data": {
      "text/plain": [
       "0       0\n",
       "1       1\n",
       "2       1\n",
       "3       1\n",
       "4       0\n",
       "       ..\n",
       "1304    0\n",
       "1305    1\n",
       "1306    0\n",
       "1307    0\n",
       "1308    0\n",
       "Name: Sex, Length: 1309, dtype: int64"
      ]
     },
     "execution_count": 25,
     "metadata": {},
     "output_type": "execute_result"
    }
   ],
   "source": [
    "combined_df_encoded"
   ]
  },
  {
   "cell_type": "code",
   "execution_count": 26,
   "id": "ca537ac8",
   "metadata": {
    "execution": {
     "iopub.execute_input": "2025-05-31T23:11:11.688768Z",
     "iopub.status.busy": "2025-05-31T23:11:11.687841Z",
     "iopub.status.idle": "2025-05-31T23:11:11.701363Z",
     "shell.execute_reply": "2025-05-31T23:11:11.700362Z"
    },
    "papermill": {
     "duration": 0.027906,
     "end_time": "2025-05-31T23:11:11.703323",
     "exception": false,
     "start_time": "2025-05-31T23:11:11.675417",
     "status": "completed"
    },
    "tags": []
   },
   "outputs": [
    {
     "data": {
      "text/html": [
       "<div>\n",
       "<style scoped>\n",
       "    .dataframe tbody tr th:only-of-type {\n",
       "        vertical-align: middle;\n",
       "    }\n",
       "\n",
       "    .dataframe tbody tr th {\n",
       "        vertical-align: top;\n",
       "    }\n",
       "\n",
       "    .dataframe thead th {\n",
       "        text-align: right;\n",
       "    }\n",
       "</style>\n",
       "<table border=\"1\" class=\"dataframe\">\n",
       "  <thead>\n",
       "    <tr style=\"text-align: right;\">\n",
       "      <th></th>\n",
       "      <th>PassengerId</th>\n",
       "      <th>Pclass</th>\n",
       "      <th>Name</th>\n",
       "      <th>Sex</th>\n",
       "      <th>Age</th>\n",
       "      <th>SibSp</th>\n",
       "      <th>Parch</th>\n",
       "      <th>Ticket</th>\n",
       "      <th>Fare</th>\n",
       "      <th>Cabin</th>\n",
       "      <th>Embarked</th>\n",
       "    </tr>\n",
       "  </thead>\n",
       "  <tbody>\n",
       "    <tr>\n",
       "      <th>0</th>\n",
       "      <td>1</td>\n",
       "      <td>3</td>\n",
       "      <td>Braund, Mr. Owen Harris</td>\n",
       "      <td>0</td>\n",
       "      <td>22.0</td>\n",
       "      <td>1</td>\n",
       "      <td>0</td>\n",
       "      <td>A/5 21171</td>\n",
       "      <td>7.2500</td>\n",
       "      <td>Unavailable</td>\n",
       "      <td>S</td>\n",
       "    </tr>\n",
       "    <tr>\n",
       "      <th>1</th>\n",
       "      <td>2</td>\n",
       "      <td>1</td>\n",
       "      <td>Cumings, Mrs. John Bradley (Florence Briggs Th...</td>\n",
       "      <td>1</td>\n",
       "      <td>38.0</td>\n",
       "      <td>1</td>\n",
       "      <td>0</td>\n",
       "      <td>PC 17599</td>\n",
       "      <td>71.2833</td>\n",
       "      <td>C85</td>\n",
       "      <td>C</td>\n",
       "    </tr>\n",
       "    <tr>\n",
       "      <th>2</th>\n",
       "      <td>3</td>\n",
       "      <td>3</td>\n",
       "      <td>Heikkinen, Miss. Laina</td>\n",
       "      <td>1</td>\n",
       "      <td>26.0</td>\n",
       "      <td>0</td>\n",
       "      <td>0</td>\n",
       "      <td>STON/O2. 3101282</td>\n",
       "      <td>7.9250</td>\n",
       "      <td>Unavailable</td>\n",
       "      <td>S</td>\n",
       "    </tr>\n",
       "  </tbody>\n",
       "</table>\n",
       "</div>"
      ],
      "text/plain": [
       "   PassengerId  Pclass                                               Name  \\\n",
       "0            1       3                            Braund, Mr. Owen Harris   \n",
       "1            2       1  Cumings, Mrs. John Bradley (Florence Briggs Th...   \n",
       "2            3       3                             Heikkinen, Miss. Laina   \n",
       "\n",
       "   Sex   Age  SibSp  Parch            Ticket     Fare        Cabin Embarked  \n",
       "0    0  22.0      1      0         A/5 21171   7.2500  Unavailable        S  \n",
       "1    1  38.0      1      0          PC 17599  71.2833          C85        C  \n",
       "2    1  26.0      0      0  STON/O2. 3101282   7.9250  Unavailable        S  "
      ]
     },
     "execution_count": 26,
     "metadata": {},
     "output_type": "execute_result"
    }
   ],
   "source": [
    "combined_df[\"Sex\"] = combined_df_encoded\n",
    "combined_df.head(3)"
   ]
  },
  {
   "cell_type": "code",
   "execution_count": 27,
   "id": "a0f55d38",
   "metadata": {
    "execution": {
     "iopub.execute_input": "2025-05-31T23:11:11.729749Z",
     "iopub.status.busy": "2025-05-31T23:11:11.729399Z",
     "iopub.status.idle": "2025-05-31T23:11:11.736600Z",
     "shell.execute_reply": "2025-05-31T23:11:11.735645Z"
    },
    "papermill": {
     "duration": 0.021995,
     "end_time": "2025-05-31T23:11:11.738309",
     "exception": false,
     "start_time": "2025-05-31T23:11:11.716314",
     "status": "completed"
    },
    "tags": []
   },
   "outputs": [],
   "source": [
    "x_train = combined_df[features].iloc[:891]\n",
    "x_test = combined_df[features].iloc[891:]"
   ]
  },
  {
   "cell_type": "code",
   "execution_count": 28,
   "id": "7dfd1b81",
   "metadata": {
    "execution": {
     "iopub.execute_input": "2025-05-31T23:11:11.763621Z",
     "iopub.status.busy": "2025-05-31T23:11:11.763235Z",
     "iopub.status.idle": "2025-05-31T23:11:54.901465Z",
     "shell.execute_reply": "2025-05-31T23:11:54.900365Z"
    },
    "papermill": {
     "duration": 43.153045,
     "end_time": "2025-05-31T23:11:54.903333",
     "exception": false,
     "start_time": "2025-05-31T23:11:11.750288",
     "status": "completed"
    },
    "tags": []
   },
   "outputs": [],
   "source": [
    "random_forest_scores = random_forest_model(x_train, x_test, \n",
    "                                           y_train, y_test,\n",
    "                                           total_trees=1500, depth=10)\n",
    "acc_score_df = pd.DataFrame(random_forest_scores)"
   ]
  },
  {
   "cell_type": "code",
   "execution_count": 29,
   "id": "6fe02b85",
   "metadata": {
    "execution": {
     "iopub.execute_input": "2025-05-31T23:11:54.928134Z",
     "iopub.status.busy": "2025-05-31T23:11:54.927778Z",
     "iopub.status.idle": "2025-05-31T23:11:55.185894Z",
     "shell.execute_reply": "2025-05-31T23:11:55.184886Z"
    },
    "papermill": {
     "duration": 0.272159,
     "end_time": "2025-05-31T23:11:55.187465",
     "exception": false,
     "start_time": "2025-05-31T23:11:54.915306",
     "status": "completed"
    },
    "tags": []
   },
   "outputs": [
    {
     "data": {
      "image/png": "[encoded data removed]",
      "text/plain": [
       "<Figure size 1000x600 with 1 Axes>"
      ]
     },
     "metadata": {},
     "output_type": "display_data"
    }
   ],
   "source": [
    "plt.figure(figsize=(10, 6))\n",
    "plt.plot(acc_score_df['Trees'], acc_score_df['acc_score'], marker='o', linestyle='-')\n",
    "plt.title('Random Forest Model Performance (Accuracy Score)')\n",
    "plt.xlabel('Trees')\n",
    "plt.ylabel('Accuracy Score')\n",
    "plt.xticks(rotation=45)\n",
    "plt.grid(True)\n",
    "plt.tight_layout()\n",
    "plt.show()"
   ]
  },
  {
   "cell_type": "code",
   "execution_count": 30,
   "id": "381714a8",
   "metadata": {
    "execution": {
     "iopub.execute_input": "2025-05-31T23:11:55.215038Z",
     "iopub.status.busy": "2025-05-31T23:11:55.214687Z",
     "iopub.status.idle": "2025-05-31T23:11:55.360120Z",
     "shell.execute_reply": "2025-05-31T23:11:55.359060Z"
    },
    "papermill": {
     "duration": 0.161144,
     "end_time": "2025-05-31T23:11:55.361954",
     "exception": false,
     "start_time": "2025-05-31T23:11:55.200810",
     "status": "completed"
    },
    "tags": []
   },
   "outputs": [],
   "source": [
    "evaluation_models_scores = evaluate_models(x_train, x_test, y_train, y_test,)"
   ]
  },
  {
   "cell_type": "code",
   "execution_count": 31,
   "id": "0b7495b8",
   "metadata": {
    "execution": {
     "iopub.execute_input": "2025-05-31T23:11:55.388847Z",
     "iopub.status.busy": "2025-05-31T23:11:55.388026Z",
     "iopub.status.idle": "2025-05-31T23:11:55.394160Z",
     "shell.execute_reply": "2025-05-31T23:11:55.393195Z"
    },
    "papermill": {
     "duration": 0.021162,
     "end_time": "2025-05-31T23:11:55.395618",
     "exception": false,
     "start_time": "2025-05-31T23:11:55.374456",
     "status": "completed"
    },
    "tags": []
   },
   "outputs": [
    {
     "data": {
      "text/plain": [
       "[('Gradient Boosting', 0.9186602870813397), ('KNN', 0.7942583732057417)]"
      ]
     },
     "execution_count": 31,
     "metadata": {},
     "output_type": "execute_result"
    }
   ],
   "source": [
    "evaluation_models_scores"
   ]
  },
  {
   "cell_type": "markdown",
   "id": "6c9f69e2",
   "metadata": {
    "papermill": {
     "duration": 0.012371,
     "end_time": "2025-05-31T23:11:55.420709",
     "exception": false,
     "start_time": "2025-05-31T23:11:55.408338",
     "status": "completed"
    },
    "tags": []
   },
   "source": [
    "Things I've learned\n",
    "="
   ]
  },
  {
   "cell_type": "markdown",
   "id": "ba1326be",
   "metadata": {
    "papermill": {
     "duration": 0.012842,
     "end_time": "2025-05-31T23:11:55.445921",
     "exception": false,
     "start_time": "2025-05-31T23:11:55.433079",
     "status": "completed"
    },
    "tags": []
   },
   "source": [
    "* I've learned the difference between a RandomForestRegressor and RandomForestClassifier... the hard way.\n",
    "* For the task at hand, the classifier model was more appropriate. I was suppose to build a model based on classifying to predict categories rather than predicting continuous variables.\n",
    "* Other classification models that were considered are KNN and GradientBoosting\n",
    "* What I really appreciate about learning new material are the failures. It took me a few days, spread out in between, to figure out why I was getting low accuracy scores. That was because I was using the wrong metric, mean_absolute_error, which is more appropriate for regression. I did some research and found that accuracy_score is more appropriate to evaluate classification models."
   ]
  }
 ],
 "metadata": {
  "kaggle": {
   "accelerator": "none",
   "dataSources": [
    {
     "databundleVersionId": 26502,
     "sourceId": 3136,
     "sourceType": "competition"
    }
   ],
   "dockerImageVersionId": 31040,
   "isGpuEnabled": false,
   "isInternetEnabled": false,
   "language": "python",
   "sourceType": "notebook"
  },
  "kernelspec": {
   "display_name": "Python 3",
   "language": "python",
   "name": "python3"
  },
  "language_info": {
   "codemirror_mode": {
    "name": "ipython",
    "version": 3
   },
   "file_extension": ".py",
   "mimetype": "text/x-python",
   "name": "python",
   "nbconvert_exporter": "python",
   "pygments_lexer": "ipython3",
   "version": "3.11.11"
  },
  "papermill": {
   "default_parameters": {},
   "duration": 72.933819,
   "end_time": "2025-05-31T23:11:56.481156",
   "environment_variables": {},
   "exception": null,
   "input_path": "__notebook__.ipynb",
   "output_path": "__notebook__.ipynb",
   "parameters": {},
   "start_time": "2025-05-31T23:10:43.547337",
   "version": "2.6.0"
  }
 },
 "nbformat": 4,
 "nbformat_minor": 5
}
