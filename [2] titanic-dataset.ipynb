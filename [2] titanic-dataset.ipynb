{
 "cells": [
  {
   "cell_type": "code",
   "execution_count": 1,
   "id": "6ea48c04",
   "metadata": {
    "_cell_guid": "b1076dfc-b9ad-4769-8c92-a6c4dae69d19",
    "_uuid": "8f2839f25d086af736a60e9eeb907d3b93b6e0e5",
    "execution": {
     "iopub.execute_input": "2025-06-01T22:43:56.644773Z",
     "iopub.status.busy": "2025-06-01T22:43:56.644436Z",
     "iopub.status.idle": "2025-06-01T22:43:58.656110Z",
     "shell.execute_reply": "2025-06-01T22:43:58.654434Z"
    },
    "papermill": {
     "duration": 2.024232,
     "end_time": "2025-06-01T22:43:58.659025",
     "exception": false,
     "start_time": "2025-06-01T22:43:56.634793",
     "status": "completed"
    },
    "tags": []
   },
   "outputs": [
    {
     "name": "stdout",
     "output_type": "stream",
     "text": [
      "/kaggle/input/titanic/train.csv\n",
      "/kaggle/input/titanic/test.csv\n",
      "/kaggle/input/titanic/gender_submission.csv\n"
     ]
    }
   ],
   "source": [
    "import numpy as np\n",
    "import pandas as pd\n",
    "import warnings\n",
    "warnings.filterwarnings(\"ignore\")\n",
    "\n",
    "import os\n",
    "for dirname, _, filenames in os.walk('/kaggle/input'):\n",
    "    for filename in filenames:\n",
    "        print(os.path.join(dirname, filename))"
   ]
  },
  {
   "cell_type": "markdown",
   "id": "f717d6eb",
   "metadata": {
    "papermill": {
     "duration": 0.006712,
     "end_time": "2025-06-01T22:43:58.678138",
     "exception": false,
     "start_time": "2025-06-01T22:43:58.671426",
     "status": "completed"
    },
    "tags": []
   },
   "source": [
    "EDA\n",
    "="
   ]
  },
  {
   "cell_type": "code",
   "execution_count": 2,
   "id": "8a662a28",
   "metadata": {
    "execution": {
     "iopub.execute_input": "2025-06-01T22:43:58.693491Z",
     "iopub.status.busy": "2025-06-01T22:43:58.693012Z",
     "iopub.status.idle": "2025-06-01T22:43:58.726132Z",
     "shell.execute_reply": "2025-06-01T22:43:58.725019Z"
    },
    "papermill": {
     "duration": 0.043095,
     "end_time": "2025-06-01T22:43:58.728300",
     "exception": false,
     "start_time": "2025-06-01T22:43:58.685205",
     "status": "completed"
    },
    "tags": []
   },
   "outputs": [],
   "source": [
    "train_df = pd.read_csv(\"/kaggle/input/titanic/train.csv\")"
   ]
  },
  {
   "cell_type": "code",
   "execution_count": 3,
   "id": "7f6a19aa",
   "metadata": {
    "execution": {
     "iopub.execute_input": "2025-06-01T22:43:58.744812Z",
     "iopub.status.busy": "2025-06-01T22:43:58.744487Z",
     "iopub.status.idle": "2025-06-01T22:43:58.756097Z",
     "shell.execute_reply": "2025-06-01T22:43:58.755252Z"
    },
    "papermill": {
     "duration": 0.022517,
     "end_time": "2025-06-01T22:43:58.758273",
     "exception": false,
     "start_time": "2025-06-01T22:43:58.735756",
     "status": "completed"
    },
    "tags": []
   },
   "outputs": [],
   "source": [
    "test_df = pd.read_csv(\"/kaggle/input/titanic/test.csv\")"
   ]
  },
  {
   "cell_type": "code",
   "execution_count": 4,
   "id": "8468c9c7",
   "metadata": {
    "execution": {
     "iopub.execute_input": "2025-06-01T22:43:58.784021Z",
     "iopub.status.busy": "2025-06-01T22:43:58.783623Z",
     "iopub.status.idle": "2025-06-01T22:43:58.793403Z",
     "shell.execute_reply": "2025-06-01T22:43:58.792336Z"
    },
    "papermill": {
     "duration": 0.023178,
     "end_time": "2025-06-01T22:43:58.795867",
     "exception": false,
     "start_time": "2025-06-01T22:43:58.772689",
     "status": "completed"
    },
    "tags": []
   },
   "outputs": [],
   "source": [
    "gender_submission_df = pd.read_csv(\"/kaggle/input/titanic/gender_submission.csv\")"
   ]
  },
  {
   "cell_type": "code",
   "execution_count": 5,
   "id": "59b81680",
   "metadata": {
    "execution": {
     "iopub.execute_input": "2025-06-01T22:43:58.824187Z",
     "iopub.status.busy": "2025-06-01T22:43:58.823130Z",
     "iopub.status.idle": "2025-06-01T22:43:58.840742Z",
     "shell.execute_reply": "2025-06-01T22:43:58.839257Z"
    },
    "papermill": {
     "duration": 0.034278,
     "end_time": "2025-06-01T22:43:58.843490",
     "exception": false,
     "start_time": "2025-06-01T22:43:58.809212",
     "status": "completed"
    },
    "tags": []
   },
   "outputs": [
    {
     "data": {
      "text/plain": [
       "PassengerId      int64\n",
       "Survived         int64\n",
       "Pclass           int64\n",
       "Name            object\n",
       "Sex             object\n",
       "Age            float64\n",
       "SibSp            int64\n",
       "Parch            int64\n",
       "Ticket          object\n",
       "Fare           float64\n",
       "Cabin           object\n",
       "Embarked        object\n",
       "dtype: object"
      ]
     },
     "execution_count": 5,
     "metadata": {},
     "output_type": "execute_result"
    }
   ],
   "source": [
    "train_df.dtypes"
   ]
  },
  {
   "cell_type": "code",
   "execution_count": 6,
   "id": "1a878078",
   "metadata": {
    "execution": {
     "iopub.execute_input": "2025-06-01T22:43:58.864722Z",
     "iopub.status.busy": "2025-06-01T22:43:58.864389Z",
     "iopub.status.idle": "2025-06-01T22:43:58.918519Z",
     "shell.execute_reply": "2025-06-01T22:43:58.917566Z"
    },
    "papermill": {
     "duration": 0.066195,
     "end_time": "2025-06-01T22:43:58.920271",
     "exception": false,
     "start_time": "2025-06-01T22:43:58.854076",
     "status": "completed"
    },
    "tags": []
   },
   "outputs": [
    {
     "data": {
      "text/html": [
       "<div>\n",
       "<style scoped>\n",
       "    .dataframe tbody tr th:only-of-type {\n",
       "        vertical-align: middle;\n",
       "    }\n",
       "\n",
       "    .dataframe tbody tr th {\n",
       "        vertical-align: top;\n",
       "    }\n",
       "\n",
       "    .dataframe thead th {\n",
       "        text-align: right;\n",
       "    }\n",
       "</style>\n",
       "<table border=\"1\" class=\"dataframe\">\n",
       "  <thead>\n",
       "    <tr style=\"text-align: right;\">\n",
       "      <th></th>\n",
       "      <th>PassengerId</th>\n",
       "      <th>Survived</th>\n",
       "      <th>Pclass</th>\n",
       "      <th>Age</th>\n",
       "      <th>SibSp</th>\n",
       "      <th>Parch</th>\n",
       "      <th>Fare</th>\n",
       "    </tr>\n",
       "  </thead>\n",
       "  <tbody>\n",
       "    <tr>\n",
       "      <th>count</th>\n",
       "      <td>891.000000</td>\n",
       "      <td>891.000000</td>\n",
       "      <td>891.000000</td>\n",
       "      <td>714.000000</td>\n",
       "      <td>891.000000</td>\n",
       "      <td>891.000000</td>\n",
       "      <td>891.000000</td>\n",
       "    </tr>\n",
       "    <tr>\n",
       "      <th>mean</th>\n",
       "      <td>446.000000</td>\n",
       "      <td>0.383838</td>\n",
       "      <td>2.308642</td>\n",
       "      <td>29.699118</td>\n",
       "      <td>0.523008</td>\n",
       "      <td>0.381594</td>\n",
       "      <td>32.204208</td>\n",
       "    </tr>\n",
       "    <tr>\n",
       "      <th>std</th>\n",
       "      <td>257.353842</td>\n",
       "      <td>0.486592</td>\n",
       "      <td>0.836071</td>\n",
       "      <td>14.526497</td>\n",
       "      <td>1.102743</td>\n",
       "      <td>0.806057</td>\n",
       "      <td>49.693429</td>\n",
       "    </tr>\n",
       "    <tr>\n",
       "      <th>min</th>\n",
       "      <td>1.000000</td>\n",
       "      <td>0.000000</td>\n",
       "      <td>1.000000</td>\n",
       "      <td>0.420000</td>\n",
       "      <td>0.000000</td>\n",
       "      <td>0.000000</td>\n",
       "      <td>0.000000</td>\n",
       "    </tr>\n",
       "    <tr>\n",
       "      <th>25%</th>\n",
       "      <td>223.500000</td>\n",
       "      <td>0.000000</td>\n",
       "      <td>2.000000</td>\n",
       "      <td>20.125000</td>\n",
       "      <td>0.000000</td>\n",
       "      <td>0.000000</td>\n",
       "      <td>7.910400</td>\n",
       "    </tr>\n",
       "    <tr>\n",
       "      <th>50%</th>\n",
       "      <td>446.000000</td>\n",
       "      <td>0.000000</td>\n",
       "      <td>3.000000</td>\n",
       "      <td>28.000000</td>\n",
       "      <td>0.000000</td>\n",
       "      <td>0.000000</td>\n",
       "      <td>14.454200</td>\n",
       "    </tr>\n",
       "    <tr>\n",
       "      <th>75%</th>\n",
       "      <td>668.500000</td>\n",
       "      <td>1.000000</td>\n",
       "      <td>3.000000</td>\n",
       "      <td>38.000000</td>\n",
       "      <td>1.000000</td>\n",
       "      <td>0.000000</td>\n",
       "      <td>31.000000</td>\n",
       "    </tr>\n",
       "    <tr>\n",
       "      <th>max</th>\n",
       "      <td>891.000000</td>\n",
       "      <td>1.000000</td>\n",
       "      <td>3.000000</td>\n",
       "      <td>80.000000</td>\n",
       "      <td>8.000000</td>\n",
       "      <td>6.000000</td>\n",
       "      <td>512.329200</td>\n",
       "    </tr>\n",
       "  </tbody>\n",
       "</table>\n",
       "</div>"
      ],
      "text/plain": [
       "       PassengerId    Survived      Pclass         Age       SibSp  \\\n",
       "count   891.000000  891.000000  891.000000  714.000000  891.000000   \n",
       "mean    446.000000    0.383838    2.308642   29.699118    0.523008   \n",
       "std     257.353842    0.486592    0.836071   14.526497    1.102743   \n",
       "min       1.000000    0.000000    1.000000    0.420000    0.000000   \n",
       "25%     223.500000    0.000000    2.000000   20.125000    0.000000   \n",
       "50%     446.000000    0.000000    3.000000   28.000000    0.000000   \n",
       "75%     668.500000    1.000000    3.000000   38.000000    1.000000   \n",
       "max     891.000000    1.000000    3.000000   80.000000    8.000000   \n",
       "\n",
       "            Parch        Fare  \n",
       "count  891.000000  891.000000  \n",
       "mean     0.381594   32.204208  \n",
       "std      0.806057   49.693429  \n",
       "min      0.000000    0.000000  \n",
       "25%      0.000000    7.910400  \n",
       "50%      0.000000   14.454200  \n",
       "75%      0.000000   31.000000  \n",
       "max      6.000000  512.329200  "
      ]
     },
     "execution_count": 6,
     "metadata": {},
     "output_type": "execute_result"
    }
   ],
   "source": [
    "numerical_columns = train_df.select_dtypes(include=[\"int64\", \"float64\"])\n",
    "numerical_columns.describe()"
   ]
  },
  {
   "cell_type": "code",
   "execution_count": 7,
   "id": "23323caf",
   "metadata": {
    "execution": {
     "iopub.execute_input": "2025-06-01T22:43:58.939098Z",
     "iopub.status.busy": "2025-06-01T22:43:58.938699Z",
     "iopub.status.idle": "2025-06-01T22:43:58.962748Z",
     "shell.execute_reply": "2025-06-01T22:43:58.961843Z"
    },
    "papermill": {
     "duration": 0.035877,
     "end_time": "2025-06-01T22:43:58.964284",
     "exception": false,
     "start_time": "2025-06-01T22:43:58.928407",
     "status": "completed"
    },
    "tags": []
   },
   "outputs": [
    {
     "data": {
      "text/html": [
       "<div>\n",
       "<style scoped>\n",
       "    .dataframe tbody tr th:only-of-type {\n",
       "        vertical-align: middle;\n",
       "    }\n",
       "\n",
       "    .dataframe tbody tr th {\n",
       "        vertical-align: top;\n",
       "    }\n",
       "\n",
       "    .dataframe thead th {\n",
       "        text-align: right;\n",
       "    }\n",
       "</style>\n",
       "<table border=\"1\" class=\"dataframe\">\n",
       "  <thead>\n",
       "    <tr style=\"text-align: right;\">\n",
       "      <th></th>\n",
       "      <th>Name</th>\n",
       "      <th>Sex</th>\n",
       "      <th>Ticket</th>\n",
       "      <th>Cabin</th>\n",
       "      <th>Embarked</th>\n",
       "    </tr>\n",
       "  </thead>\n",
       "  <tbody>\n",
       "    <tr>\n",
       "      <th>count</th>\n",
       "      <td>891</td>\n",
       "      <td>891</td>\n",
       "      <td>891</td>\n",
       "      <td>204</td>\n",
       "      <td>889</td>\n",
       "    </tr>\n",
       "    <tr>\n",
       "      <th>unique</th>\n",
       "      <td>891</td>\n",
       "      <td>2</td>\n",
       "      <td>681</td>\n",
       "      <td>147</td>\n",
       "      <td>3</td>\n",
       "    </tr>\n",
       "    <tr>\n",
       "      <th>top</th>\n",
       "      <td>Braund, Mr. Owen Harris</td>\n",
       "      <td>male</td>\n",
       "      <td>347082</td>\n",
       "      <td>B96 B98</td>\n",
       "      <td>S</td>\n",
       "    </tr>\n",
       "    <tr>\n",
       "      <th>freq</th>\n",
       "      <td>1</td>\n",
       "      <td>577</td>\n",
       "      <td>7</td>\n",
       "      <td>4</td>\n",
       "      <td>644</td>\n",
       "    </tr>\n",
       "  </tbody>\n",
       "</table>\n",
       "</div>"
      ],
      "text/plain": [
       "                           Name   Sex  Ticket    Cabin Embarked\n",
       "count                       891   891     891      204      889\n",
       "unique                      891     2     681      147        3\n",
       "top     Braund, Mr. Owen Harris  male  347082  B96 B98        S\n",
       "freq                          1   577       7        4      644"
      ]
     },
     "execution_count": 7,
     "metadata": {},
     "output_type": "execute_result"
    }
   ],
   "source": [
    "categorical_columns = train_df.select_dtypes(include=[\"object\"])\n",
    "categorical_columns.describe()"
   ]
  },
  {
   "cell_type": "code",
   "execution_count": 8,
   "id": "4987dec1",
   "metadata": {
    "execution": {
     "iopub.execute_input": "2025-06-01T22:43:58.980413Z",
     "iopub.status.busy": "2025-06-01T22:43:58.980037Z",
     "iopub.status.idle": "2025-06-01T22:43:58.989768Z",
     "shell.execute_reply": "2025-06-01T22:43:58.988748Z"
    },
    "papermill": {
     "duration": 0.019583,
     "end_time": "2025-06-01T22:43:58.991373",
     "exception": false,
     "start_time": "2025-06-01T22:43:58.971790",
     "status": "completed"
    },
    "tags": []
   },
   "outputs": [
    {
     "data": {
      "text/plain": [
       "Age         177\n",
       "Cabin       687\n",
       "Embarked      2\n",
       "dtype: int64"
      ]
     },
     "execution_count": 8,
     "metadata": {},
     "output_type": "execute_result"
    }
   ],
   "source": [
    "train_df.isna().sum()[train_df.isna().sum() > 0]"
   ]
  },
  {
   "cell_type": "code",
   "execution_count": 9,
   "id": "46facc6c",
   "metadata": {
    "execution": {
     "iopub.execute_input": "2025-06-01T22:43:59.008997Z",
     "iopub.status.busy": "2025-06-01T22:43:59.008672Z",
     "iopub.status.idle": "2025-06-01T22:43:59.014919Z",
     "shell.execute_reply": "2025-06-01T22:43:59.014004Z"
    },
    "papermill": {
     "duration": 0.017449,
     "end_time": "2025-06-01T22:43:59.016574",
     "exception": false,
     "start_time": "2025-06-01T22:43:58.999125",
     "status": "completed"
    },
    "tags": []
   },
   "outputs": [
    {
     "data": {
      "text/plain": [
       "array(['S', 'C', 'Q', nan], dtype=object)"
      ]
     },
     "execution_count": 9,
     "metadata": {},
     "output_type": "execute_result"
    }
   ],
   "source": [
    "train_df[\"Embarked\"].unique()"
   ]
  },
  {
   "cell_type": "code",
   "execution_count": 10,
   "id": "42b3b0b9",
   "metadata": {
    "execution": {
     "iopub.execute_input": "2025-06-01T22:43:59.033054Z",
     "iopub.status.busy": "2025-06-01T22:43:59.032744Z",
     "iopub.status.idle": "2025-06-01T22:43:59.050402Z",
     "shell.execute_reply": "2025-06-01T22:43:59.049496Z"
    },
    "papermill": {
     "duration": 0.027631,
     "end_time": "2025-06-01T22:43:59.051881",
     "exception": false,
     "start_time": "2025-06-01T22:43:59.024250",
     "status": "completed"
    },
    "tags": []
   },
   "outputs": [
    {
     "data": {
      "text/html": [
       "<div>\n",
       "<style scoped>\n",
       "    .dataframe tbody tr th:only-of-type {\n",
       "        vertical-align: middle;\n",
       "    }\n",
       "\n",
       "    .dataframe tbody tr th {\n",
       "        vertical-align: top;\n",
       "    }\n",
       "\n",
       "    .dataframe thead th {\n",
       "        text-align: right;\n",
       "    }\n",
       "</style>\n",
       "<table border=\"1\" class=\"dataframe\">\n",
       "  <thead>\n",
       "    <tr style=\"text-align: right;\">\n",
       "      <th></th>\n",
       "      <th>PassengerId</th>\n",
       "      <th>Survived</th>\n",
       "      <th>Pclass</th>\n",
       "      <th>Name</th>\n",
       "      <th>Sex</th>\n",
       "      <th>Age</th>\n",
       "      <th>SibSp</th>\n",
       "      <th>Parch</th>\n",
       "      <th>Ticket</th>\n",
       "      <th>Fare</th>\n",
       "      <th>Cabin</th>\n",
       "      <th>Embarked</th>\n",
       "    </tr>\n",
       "  </thead>\n",
       "  <tbody>\n",
       "    <tr>\n",
       "      <th>61</th>\n",
       "      <td>62</td>\n",
       "      <td>1</td>\n",
       "      <td>1</td>\n",
       "      <td>Icard, Miss. Amelie</td>\n",
       "      <td>female</td>\n",
       "      <td>38.0</td>\n",
       "      <td>0</td>\n",
       "      <td>0</td>\n",
       "      <td>113572</td>\n",
       "      <td>80.0</td>\n",
       "      <td>B28</td>\n",
       "      <td>NaN</td>\n",
       "    </tr>\n",
       "    <tr>\n",
       "      <th>829</th>\n",
       "      <td>830</td>\n",
       "      <td>1</td>\n",
       "      <td>1</td>\n",
       "      <td>Stone, Mrs. George Nelson (Martha Evelyn)</td>\n",
       "      <td>female</td>\n",
       "      <td>62.0</td>\n",
       "      <td>0</td>\n",
       "      <td>0</td>\n",
       "      <td>113572</td>\n",
       "      <td>80.0</td>\n",
       "      <td>B28</td>\n",
       "      <td>NaN</td>\n",
       "    </tr>\n",
       "  </tbody>\n",
       "</table>\n",
       "</div>"
      ],
      "text/plain": [
       "     PassengerId  Survived  Pclass                                       Name  \\\n",
       "61            62         1       1                        Icard, Miss. Amelie   \n",
       "829          830         1       1  Stone, Mrs. George Nelson (Martha Evelyn)   \n",
       "\n",
       "        Sex   Age  SibSp  Parch  Ticket  Fare Cabin Embarked  \n",
       "61   female  38.0      0      0  113572  80.0   B28      NaN  \n",
       "829  female  62.0      0      0  113572  80.0   B28      NaN  "
      ]
     },
     "execution_count": 10,
     "metadata": {},
     "output_type": "execute_result"
    }
   ],
   "source": [
    "train_df.loc[train_df[\"Embarked\"].isna()]"
   ]
  },
  {
   "cell_type": "code",
   "execution_count": 11,
   "id": "7e4389d8",
   "metadata": {
    "execution": {
     "iopub.execute_input": "2025-06-01T22:43:59.068969Z",
     "iopub.status.busy": "2025-06-01T22:43:59.068664Z",
     "iopub.status.idle": "2025-06-01T22:43:59.075387Z",
     "shell.execute_reply": "2025-06-01T22:43:59.074511Z"
    },
    "papermill": {
     "duration": 0.01741,
     "end_time": "2025-06-01T22:43:59.076986",
     "exception": false,
     "start_time": "2025-06-01T22:43:59.059576",
     "status": "completed"
    },
    "tags": []
   },
   "outputs": [
    {
     "data": {
      "text/plain": [
       "array([nan, 'C85', 'C123', 'E46', 'G6', 'C103', 'D56', 'A6',\n",
       "       'C23 C25 C27', 'B78', 'D33', 'B30', 'C52', 'B28', 'C83', 'F33',\n",
       "       'F G73', 'E31', 'A5', 'D10 D12', 'D26', 'C110', 'B58 B60', 'E101',\n",
       "       'F E69', 'D47', 'B86', 'F2', 'C2', 'E33', 'B19', 'A7', 'C49', 'F4',\n",
       "       'A32', 'B4', 'B80', 'A31', 'D36', 'D15', 'C93', 'C78', 'D35',\n",
       "       'C87', 'B77', 'E67', 'B94', 'C125', 'C99', 'C118', 'D7', 'A19',\n",
       "       'B49', 'D', 'C22 C26', 'C106', 'C65', 'E36', 'C54',\n",
       "       'B57 B59 B63 B66', 'C7', 'E34', 'C32', 'B18', 'C124', 'C91', 'E40',\n",
       "       'T', 'C128', 'D37', 'B35', 'E50', 'C82', 'B96 B98', 'E10', 'E44',\n",
       "       'A34', 'C104', 'C111', 'C92', 'E38', 'D21', 'E12', 'E63', 'A14',\n",
       "       'B37', 'C30', 'D20', 'B79', 'E25', 'D46', 'B73', 'C95', 'B38',\n",
       "       'B39', 'B22', 'C86', 'C70', 'A16', 'C101', 'C68', 'A10', 'E68',\n",
       "       'B41', 'A20', 'D19', 'D50', 'D9', 'A23', 'B50', 'A26', 'D48',\n",
       "       'E58', 'C126', 'B71', 'B51 B53 B55', 'D49', 'B5', 'B20', 'F G63',\n",
       "       'C62 C64', 'E24', 'C90', 'C45', 'E8', 'B101', 'D45', 'C46', 'D30',\n",
       "       'E121', 'D11', 'E77', 'F38', 'B3', 'D6', 'B82 B84', 'D17', 'A36',\n",
       "       'B102', 'B69', 'E49', 'C47', 'D28', 'E17', 'A24', 'C50', 'B42',\n",
       "       'C148'], dtype=object)"
      ]
     },
     "execution_count": 11,
     "metadata": {},
     "output_type": "execute_result"
    }
   ],
   "source": [
    "train_df[\"Cabin\"].unique()"
   ]
  },
  {
   "cell_type": "code",
   "execution_count": 12,
   "id": "c5c88b1e",
   "metadata": {
    "execution": {
     "iopub.execute_input": "2025-06-01T22:43:59.093833Z",
     "iopub.status.busy": "2025-06-01T22:43:59.093482Z",
     "iopub.status.idle": "2025-06-01T22:43:59.107187Z",
     "shell.execute_reply": "2025-06-01T22:43:59.106405Z"
    },
    "papermill": {
     "duration": 0.023972,
     "end_time": "2025-06-01T22:43:59.108772",
     "exception": false,
     "start_time": "2025-06-01T22:43:59.084800",
     "status": "completed"
    },
    "tags": []
   },
   "outputs": [
    {
     "data": {
      "text/plain": [
       "PassengerId    0\n",
       "Survived       0\n",
       "Pclass         0\n",
       "Name           0\n",
       "Sex            0\n",
       "Age            0\n",
       "SibSp          0\n",
       "Parch          0\n",
       "Ticket         0\n",
       "Fare           0\n",
       "Cabin          0\n",
       "Embarked       0\n",
       "dtype: int64"
      ]
     },
     "execution_count": 12,
     "metadata": {},
     "output_type": "execute_result"
    }
   ],
   "source": [
    "# Handle missing values\n",
    "\n",
    "mean_age = train_df[\"Age\"].mean()\n",
    "median_fare = train_df[\"Fare\"].median()\n",
    "most_common_port = train_df[\"Embarked\"].mode()[0]\n",
    "\n",
    "\n",
    "train_df[\"Age\"].fillna(mean_age, inplace=True)\n",
    "train_df[\"Fare\"].fillna(median_fare, inplace=True)\n",
    "train_df[\"Embarked\"].fillna(most_common_port, inplace=True)\n",
    "train_df[\"Cabin\"].fillna(\"Unavailable\", inplace=True)\n",
    "\n",
    "train_df.isna().sum()"
   ]
  },
  {
   "cell_type": "code",
   "execution_count": 13,
   "id": "4816cd80",
   "metadata": {
    "execution": {
     "iopub.execute_input": "2025-06-01T22:43:59.126353Z",
     "iopub.status.busy": "2025-06-01T22:43:59.125595Z",
     "iopub.status.idle": "2025-06-01T22:43:59.136342Z",
     "shell.execute_reply": "2025-06-01T22:43:59.135278Z"
    },
    "papermill": {
     "duration": 0.02149,
     "end_time": "2025-06-01T22:43:59.138213",
     "exception": false,
     "start_time": "2025-06-01T22:43:59.116723",
     "status": "completed"
    },
    "tags": []
   },
   "outputs": [
    {
     "data": {
      "text/plain": [
       "PassengerId    0\n",
       "Pclass         0\n",
       "Name           0\n",
       "Sex            0\n",
       "Age            0\n",
       "SibSp          0\n",
       "Parch          0\n",
       "Ticket         0\n",
       "Fare           0\n",
       "Cabin          0\n",
       "Embarked       0\n",
       "dtype: int64"
      ]
     },
     "execution_count": 13,
     "metadata": {},
     "output_type": "execute_result"
    }
   ],
   "source": [
    "test_df[\"Age\"].fillna(mean_age, inplace=True)\n",
    "test_df[\"Fare\"].fillna(median_fare, inplace=True)\n",
    "test_df[\"Embarked\"].fillna(most_common_port, inplace=True)\n",
    "test_df[\"Cabin\"].fillna(\"Unavailable\", inplace=True)\n",
    "\n",
    "test_df.isna().sum()"
   ]
  },
  {
   "cell_type": "code",
   "execution_count": 14,
   "id": "95a67c12",
   "metadata": {
    "execution": {
     "iopub.execute_input": "2025-06-01T22:43:59.155120Z",
     "iopub.status.busy": "2025-06-01T22:43:59.154811Z",
     "iopub.status.idle": "2025-06-01T22:43:59.165025Z",
     "shell.execute_reply": "2025-06-01T22:43:59.163989Z"
    },
    "papermill": {
     "duration": 0.020434,
     "end_time": "2025-06-01T22:43:59.166615",
     "exception": false,
     "start_time": "2025-06-01T22:43:59.146181",
     "status": "completed"
    },
    "tags": []
   },
   "outputs": [
    {
     "data": {
      "text/plain": [
       "0"
      ]
     },
     "execution_count": 14,
     "metadata": {},
     "output_type": "execute_result"
    }
   ],
   "source": [
    "train_df.duplicated().sum()"
   ]
  },
  {
   "cell_type": "markdown",
   "id": "16e9c99a",
   "metadata": {
    "papermill": {
     "duration": 0.007773,
     "end_time": "2025-06-01T22:43:59.182430",
     "exception": false,
     "start_time": "2025-06-01T22:43:59.174657",
     "status": "completed"
    },
    "tags": []
   },
   "source": [
    "Data Visualizations\n",
    "="
   ]
  },
  {
   "cell_type": "code",
   "execution_count": 15,
   "id": "c7089a62",
   "metadata": {
    "execution": {
     "iopub.execute_input": "2025-06-01T22:43:59.200232Z",
     "iopub.status.busy": "2025-06-01T22:43:59.199875Z",
     "iopub.status.idle": "2025-06-01T22:44:01.165048Z",
     "shell.execute_reply": "2025-06-01T22:44:01.164237Z"
    },
    "papermill": {
     "duration": 1.975767,
     "end_time": "2025-06-01T22:44:01.166808",
     "exception": false,
     "start_time": "2025-06-01T22:43:59.191041",
     "status": "completed"
    },
    "tags": []
   },
   "outputs": [],
   "source": [
    "import seaborn as sns\n",
    "import matplotlib.pyplot as plt"
   ]
  },
  {
   "cell_type": "code",
   "execution_count": 16,
   "id": "c6853b5f",
   "metadata": {
    "execution": {
     "iopub.execute_input": "2025-06-01T22:44:01.184822Z",
     "iopub.status.busy": "2025-06-01T22:44:01.184378Z",
     "iopub.status.idle": "2025-06-01T22:44:01.189516Z",
     "shell.execute_reply": "2025-06-01T22:44:01.188155Z"
    },
    "papermill": {
     "duration": 0.016295,
     "end_time": "2025-06-01T22:44:01.191271",
     "exception": false,
     "start_time": "2025-06-01T22:44:01.174976",
     "status": "completed"
    },
    "tags": []
   },
   "outputs": [],
   "source": [
    "# for col in train_df.columns:\n",
    "#     if col != \"Survived\":\n",
    "#         sns.histplot(train_df[train_df[\"Survived\"]==1][col], color=\"tab:blue\")\n",
    "#         sns.histplot(train_df[train_df[\"Survived\"]==0][col], color=\"tab:red\")\n",
    "\n",
    "#         plt.xlabel(col)\n",
    "#         plt.ylabel(\"Count\")\n",
    "#         plt.title(f\"{col} vs. Count\")\n",
    "        \n",
    "#         plt.tight_layout()\n",
    "#         plt.show()"
   ]
  },
  {
   "cell_type": "code",
   "execution_count": 17,
   "id": "f01ad315",
   "metadata": {
    "execution": {
     "iopub.execute_input": "2025-06-01T22:44:01.278144Z",
     "iopub.status.busy": "2025-06-01T22:44:01.277846Z",
     "iopub.status.idle": "2025-06-01T22:44:16.175568Z",
     "shell.execute_reply": "2025-06-01T22:44:16.174568Z"
    },
    "papermill": {
     "duration": 14.908584,
     "end_time": "2025-06-01T22:44:16.177217",
     "exception": false,
     "start_time": "2025-06-01T22:44:01.268633",
     "status": "completed"
    },
    "tags": []
   },
   "outputs": [
    {
     "data": {
      "image/png": "[encoded data removed]",
      "text/plain": [
       "<Figure size 640x480 with 1 Axes>"
      ]
     },
     "metadata": {},
     "output_type": "display_data"
    },
    {
     "data": {
      "image/png": "[encoded data removed]",
      "text/plain": [
       "<Figure size 640x480 with 1 Axes>"
      ]
     },
     "metadata": {},
     "output_type": "display_data"
    },
    {
     "data": {
      "image/png": "[encoded data removed]",
      "text/plain": [
       "<Figure size 640x480 with 1 Axes>"
      ]
     },
     "metadata": {},
     "output_type": "display_data"
    },
    {
     "data": {
      "image/png": "[encoded data removed]",
      "text/plain": [
       "<Figure size 640x480 with 1 Axes>"
      ]
     },
     "metadata": {},
     "output_type": "display_data"
    },
    {
     "data": {
      "image/png": "[encoded data removed]",
      "text/plain": [
       "<Figure size 640x480 with 1 Axes>"
      ]
     },
     "metadata": {},
     "output_type": "display_data"
    },
    {
     "data": {
      "image/png": "[encoded data removed]",
      "text/plain": [
       "<Figure size 640x480 with 1 Axes>"
      ]
     },
     "metadata": {},
     "output_type": "display_data"
    },
    {
     "data": {
      "image/png": "[encoded data removed]",
      "text/plain": [
       "<Figure size 640x480 with 1 Axes>"
      ]
     },
     "metadata": {},
     "output_type": "display_data"
    },
    {
     "data": {
      "image/png": "[encoded data removed]",
      "text/plain": [
       "<Figure size 640x480 with 1 Axes>"
      ]
     },
     "metadata": {},
     "output_type": "display_data"
    },
    {
     "data": {
      "image/png": "[encoded data removed]",
      "text/plain": [
       "<Figure size 640x480 with 1 Axes>"
      ]
     },
     "metadata": {},
     "output_type": "display_data"
    },
    {
     "data": {
      "image/png": "[encoded data removed]",
      "text/plain": [
       "<Figure size 640x480 with 1 Axes>"
      ]
     },
     "metadata": {},
     "output_type": "display_data"
    },
    {
     "data": {
      "image/png": "[encoded data removed]",
      "text/plain": [
       "<Figure size 640x480 with 1 Axes>"
      ]
     },
     "metadata": {},
     "output_type": "display_data"
    }
   ],
   "source": [
    "# 0 for dead (red)\n",
    "# 1 for alive (blue)\n",
    "for col in train_df.columns:\n",
    "    if col != \"Survived\":\n",
    "        # parameters to consider\n",
    "        # stat=\"density\" -> compare in shape\n",
    "        # alpha -> values between 0 and 1\n",
    "        \n",
    "        sns.histplot(train_df[train_df[\"Survived\"]==1][col], color=\"tab:blue\", stat=\"density\")\n",
    "        sns.histplot(train_df[train_df[\"Survived\"]==0][col], color=\"tab:red\", stat=\"density\")\n",
    "\n",
    "        plt.xlabel(col)\n",
    "        plt.ylabel(\"Count\")\n",
    "        plt.title(f\"{col} vs. Count\")\n",
    "        \n",
    "        plt.tight_layout()\n",
    "        plt.show()"
   ]
  },
  {
   "cell_type": "markdown",
   "id": "69fe7946",
   "metadata": {
    "papermill": {
     "duration": 0.012153,
     "end_time": "2025-06-01T22:44:16.201989",
     "exception": false,
     "start_time": "2025-06-01T22:44:16.189836",
     "status": "completed"
    },
    "tags": []
   },
   "source": [
    "We plot each graph and normalize the data by setting the stat parameter to density for easier comparisons.\n",
    "\n",
    "From the graphs above, there seems to be a significant number of deaths of people who were in 3rd class, male, middle-aged, and had no siblings or spouses aboard."
   ]
  },
  {
   "cell_type": "markdown",
   "id": "d57bc8fe",
   "metadata": {
    "papermill": {
     "duration": 0.011673,
     "end_time": "2025-06-01T22:44:16.225903",
     "exception": false,
     "start_time": "2025-06-01T22:44:16.214230",
     "status": "completed"
    },
    "tags": []
   },
   "source": [
    "Modeling\n",
    "="
   ]
  },
  {
   "cell_type": "code",
   "execution_count": 18,
   "id": "7f0c709a",
   "metadata": {
    "execution": {
     "iopub.execute_input": "2025-06-01T22:44:16.251599Z",
     "iopub.status.busy": "2025-06-01T22:44:16.251305Z",
     "iopub.status.idle": "2025-06-01T22:44:17.269507Z",
     "shell.execute_reply": "2025-06-01T22:44:17.268592Z"
    },
    "papermill": {
     "duration": 1.033103,
     "end_time": "2025-06-01T22:44:17.271189",
     "exception": false,
     "start_time": "2025-06-01T22:44:16.238086",
     "status": "completed"
    },
    "tags": []
   },
   "outputs": [],
   "source": [
    "# Preprocess categorical variables\n",
    "from sklearn.preprocessing import LabelEncoder\n",
    "\n",
    "# Split data into train and test data\n",
    "from sklearn.model_selection import train_test_split\n",
    "\n",
    "# Models to try\n",
    "from sklearn.ensemble import RandomForestClassifier, GradientBoostingClassifier\n",
    "from sklearn.neighbors import KNeighborsClassifier\n",
    "\n",
    "# Measurements\n",
    "from sklearn.metrics import mean_absolute_error\n",
    "from sklearn.metrics import accuracy_score\n",
    "\n",
    "from sklearn.compose import ColumnTransformer\n",
    "from sklearn.pipeline import Pipeline\n",
    "from sklearn.model_selection import cross_val_score"
   ]
  },
  {
   "cell_type": "code",
   "execution_count": 19,
   "id": "fdc97f1c",
   "metadata": {
    "execution": {
     "iopub.execute_input": "2025-06-01T22:44:17.296938Z",
     "iopub.status.busy": "2025-06-01T22:44:17.296587Z",
     "iopub.status.idle": "2025-06-01T22:44:17.302598Z",
     "shell.execute_reply": "2025-06-01T22:44:17.301655Z"
    },
    "papermill": {
     "duration": 0.020828,
     "end_time": "2025-06-01T22:44:17.304250",
     "exception": false,
     "start_time": "2025-06-01T22:44:17.283422",
     "status": "completed"
    },
    "tags": []
   },
   "outputs": [],
   "source": [
    "def random_forest_model(x_train, x_val, y_train, y_val, total_trees=50, depth=5, random_state=18):\n",
    "    acc_scores = []\n",
    "    \n",
    "    for num_trees in range(50, total_trees + 1, 50):\n",
    "        model = RandomForestClassifier(n_estimators=num_trees, max_depth=depth, random_state=random_state)\n",
    "        model.fit(x_train, y_train)\n",
    "        \n",
    "        predictions = model.predict(x_val)\n",
    "        \n",
    "        acc_score = accuracy_score(y_val, predictions)\n",
    "        mae_score = mean_absolute_error(y_val, predictions)\n",
    "        \n",
    "        acc_scores.append({\n",
    "            \"Trees\": num_trees,\n",
    "            \"acc_score\": acc_score\n",
    "        })\n",
    "        # print(f\"On average, with n_estimators: {num_trees} we our predictions are off by about ${mae_score}\")\n",
    "\n",
    "\n",
    "\n",
    "    return acc_scores\n",
    "    "
   ]
  },
  {
   "cell_type": "code",
   "execution_count": 20,
   "id": "327f2c4d",
   "metadata": {
    "execution": {
     "iopub.execute_input": "2025-06-01T22:44:17.330041Z",
     "iopub.status.busy": "2025-06-01T22:44:17.329704Z",
     "iopub.status.idle": "2025-06-01T22:44:17.336923Z",
     "shell.execute_reply": "2025-06-01T22:44:17.334766Z"
    },
    "papermill": {
     "duration": 0.022936,
     "end_time": "2025-06-01T22:44:17.339199",
     "exception": false,
     "start_time": "2025-06-01T22:44:17.316263",
     "status": "completed"
    },
    "tags": []
   },
   "outputs": [],
   "source": [
    "models = {\n",
    "    \"Gradient Boosting\": GradientBoostingClassifier(),\n",
    "    \"KNN\" : KNeighborsClassifier()\n",
    "}\n",
    "def evaluate_models(x_train, x_val, y_train, y_val):\n",
    "    scores = []\n",
    "\n",
    "    for name, model in models.items():\n",
    "        model.fit(x_train, y_train)\n",
    "        predictions = model.predict(x_val)\n",
    "\n",
    "        score = accuracy_score(y_val, predictions)\n",
    "        scores.append((name, score))\n",
    "\n",
    "    return scores"
   ]
  },
  {
   "cell_type": "markdown",
   "id": "56e1b37f",
   "metadata": {
    "papermill": {
     "duration": 0.011756,
     "end_time": "2025-06-01T22:44:17.364053",
     "exception": false,
     "start_time": "2025-06-01T22:44:17.352297",
     "status": "completed"
    },
    "tags": []
   },
   "source": [
    "Modeling with no cross validation\n",
    "* Encode categorical values (Label Encoding)\n",
    "* From the graphs above, there seems to be a significant number of deaths of people who were in 3rd class, male, middle-aged, and had no siblings or spouses aboard."
   ]
  },
  {
   "cell_type": "code",
   "execution_count": 21,
   "id": "59f36625",
   "metadata": {
    "execution": {
     "iopub.execute_input": "2025-06-01T22:44:17.391692Z",
     "iopub.status.busy": "2025-06-01T22:44:17.391333Z",
     "iopub.status.idle": "2025-06-01T22:44:17.399846Z",
     "shell.execute_reply": "2025-06-01T22:44:17.398726Z"
    },
    "papermill": {
     "duration": 0.025638,
     "end_time": "2025-06-01T22:44:17.401787",
     "exception": false,
     "start_time": "2025-06-01T22:44:17.376149",
     "status": "completed"
    },
    "tags": []
   },
   "outputs": [],
   "source": [
    "features = [\"Pclass\", \"Age\", \"SibSp\", \"Sex\"]\n",
    "target = [\"Survived\"]\n",
    "label_encoder = LabelEncoder()\n",
    "\n",
    "y_train = train_df[target]\n",
    "y_test = gender_submission_df[target]"
   ]
  },
  {
   "cell_type": "code",
   "execution_count": 22,
   "id": "72ba19fb",
   "metadata": {
    "execution": {
     "iopub.execute_input": "2025-06-01T22:44:17.430972Z",
     "iopub.status.busy": "2025-06-01T22:44:17.430614Z",
     "iopub.status.idle": "2025-06-01T22:44:17.437311Z",
     "shell.execute_reply": "2025-06-01T22:44:17.435995Z"
    },
    "papermill": {
     "duration": 0.023621,
     "end_time": "2025-06-01T22:44:17.439294",
     "exception": false,
     "start_time": "2025-06-01T22:44:17.415673",
     "status": "completed"
    },
    "tags": []
   },
   "outputs": [],
   "source": [
    "train_df.drop(columns=\"Survived\", axis=1, inplace=True)"
   ]
  },
  {
   "cell_type": "code",
   "execution_count": 23,
   "id": "06b35c92",
   "metadata": {
    "execution": {
     "iopub.execute_input": "2025-06-01T22:44:17.467940Z",
     "iopub.status.busy": "2025-06-01T22:44:17.467595Z",
     "iopub.status.idle": "2025-06-01T22:44:17.482999Z",
     "shell.execute_reply": "2025-06-01T22:44:17.482237Z"
    },
    "papermill": {
     "duration": 0.031473,
     "end_time": "2025-06-01T22:44:17.484346",
     "exception": false,
     "start_time": "2025-06-01T22:44:17.452873",
     "status": "completed"
    },
    "tags": []
   },
   "outputs": [
    {
     "data": {
      "text/html": [
       "<div>\n",
       "<style scoped>\n",
       "    .dataframe tbody tr th:only-of-type {\n",
       "        vertical-align: middle;\n",
       "    }\n",
       "\n",
       "    .dataframe tbody tr th {\n",
       "        vertical-align: top;\n",
       "    }\n",
       "\n",
       "    .dataframe thead th {\n",
       "        text-align: right;\n",
       "    }\n",
       "</style>\n",
       "<table border=\"1\" class=\"dataframe\">\n",
       "  <thead>\n",
       "    <tr style=\"text-align: right;\">\n",
       "      <th></th>\n",
       "      <th>PassengerId</th>\n",
       "      <th>Pclass</th>\n",
       "      <th>Name</th>\n",
       "      <th>Sex</th>\n",
       "      <th>Age</th>\n",
       "      <th>SibSp</th>\n",
       "      <th>Parch</th>\n",
       "      <th>Ticket</th>\n",
       "      <th>Fare</th>\n",
       "      <th>Cabin</th>\n",
       "      <th>Embarked</th>\n",
       "    </tr>\n",
       "  </thead>\n",
       "  <tbody>\n",
       "    <tr>\n",
       "      <th>0</th>\n",
       "      <td>1</td>\n",
       "      <td>3</td>\n",
       "      <td>Braund, Mr. Owen Harris</td>\n",
       "      <td>male</td>\n",
       "      <td>22.0</td>\n",
       "      <td>1</td>\n",
       "      <td>0</td>\n",
       "      <td>A/5 21171</td>\n",
       "      <td>7.2500</td>\n",
       "      <td>Unavailable</td>\n",
       "      <td>S</td>\n",
       "    </tr>\n",
       "    <tr>\n",
       "      <th>1</th>\n",
       "      <td>2</td>\n",
       "      <td>1</td>\n",
       "      <td>Cumings, Mrs. John Bradley (Florence Briggs Th...</td>\n",
       "      <td>female</td>\n",
       "      <td>38.0</td>\n",
       "      <td>1</td>\n",
       "      <td>0</td>\n",
       "      <td>PC 17599</td>\n",
       "      <td>71.2833</td>\n",
       "      <td>C85</td>\n",
       "      <td>C</td>\n",
       "    </tr>\n",
       "    <tr>\n",
       "      <th>2</th>\n",
       "      <td>3</td>\n",
       "      <td>3</td>\n",
       "      <td>Heikkinen, Miss. Laina</td>\n",
       "      <td>female</td>\n",
       "      <td>26.0</td>\n",
       "      <td>0</td>\n",
       "      <td>0</td>\n",
       "      <td>STON/O2. 3101282</td>\n",
       "      <td>7.9250</td>\n",
       "      <td>Unavailable</td>\n",
       "      <td>S</td>\n",
       "    </tr>\n",
       "  </tbody>\n",
       "</table>\n",
       "</div>"
      ],
      "text/plain": [
       "   PassengerId  Pclass                                               Name  \\\n",
       "0            1       3                            Braund, Mr. Owen Harris   \n",
       "1            2       1  Cumings, Mrs. John Bradley (Florence Briggs Th...   \n",
       "2            3       3                             Heikkinen, Miss. Laina   \n",
       "\n",
       "      Sex   Age  SibSp  Parch            Ticket     Fare        Cabin Embarked  \n",
       "0    male  22.0      1      0         A/5 21171   7.2500  Unavailable        S  \n",
       "1  female  38.0      1      0          PC 17599  71.2833          C85        C  \n",
       "2  female  26.0      0      0  STON/O2. 3101282   7.9250  Unavailable        S  "
      ]
     },
     "execution_count": 23,
     "metadata": {},
     "output_type": "execute_result"
    }
   ],
   "source": [
    "combined_df = pd.concat([train_df, test_df], axis=0)\n",
    "combined_df.reset_index(drop=True, inplace=True)\n",
    "\n",
    "combined_df.head(3)"
   ]
  },
  {
   "cell_type": "code",
   "execution_count": 24,
   "id": "ce8ed076",
   "metadata": {
    "execution": {
     "iopub.execute_input": "2025-06-01T22:44:17.513089Z",
     "iopub.status.busy": "2025-06-01T22:44:17.512785Z",
     "iopub.status.idle": "2025-06-01T22:44:17.518754Z",
     "shell.execute_reply": "2025-06-01T22:44:17.517392Z"
    },
    "papermill": {
     "duration": 0.022713,
     "end_time": "2025-06-01T22:44:17.521037",
     "exception": false,
     "start_time": "2025-06-01T22:44:17.498324",
     "status": "completed"
    },
    "tags": []
   },
   "outputs": [],
   "source": [
    "combined_df_encoded = label_encoder.fit_transform(combined_df[\"Sex\"])"
   ]
  },
  {
   "cell_type": "code",
   "execution_count": 25,
   "id": "c61e91b6",
   "metadata": {
    "execution": {
     "iopub.execute_input": "2025-06-01T22:44:17.547882Z",
     "iopub.status.busy": "2025-06-01T22:44:17.546995Z",
     "iopub.status.idle": "2025-06-01T22:44:17.554358Z",
     "shell.execute_reply": "2025-06-01T22:44:17.553023Z"
    },
    "papermill": {
     "duration": 0.022617,
     "end_time": "2025-06-01T22:44:17.555997",
     "exception": false,
     "start_time": "2025-06-01T22:44:17.533380",
     "status": "completed"
    },
    "tags": []
   },
   "outputs": [
    {
     "data": {
      "text/plain": [
       "array([1, 0, 0, ..., 1, 1, 1])"
      ]
     },
     "execution_count": 25,
     "metadata": {},
     "output_type": "execute_result"
    }
   ],
   "source": [
    "combined_df_encoded"
   ]
  },
  {
   "cell_type": "code",
   "execution_count": 26,
   "id": "4e46ca69",
   "metadata": {
    "execution": {
     "iopub.execute_input": "2025-06-01T22:44:17.582652Z",
     "iopub.status.busy": "2025-06-01T22:44:17.582314Z",
     "iopub.status.idle": "2025-06-01T22:44:17.595640Z",
     "shell.execute_reply": "2025-06-01T22:44:17.594631Z"
    },
    "papermill": {
     "duration": 0.028337,
     "end_time": "2025-06-01T22:44:17.597202",
     "exception": false,
     "start_time": "2025-06-01T22:44:17.568865",
     "status": "completed"
    },
    "tags": []
   },
   "outputs": [
    {
     "data": {
      "text/html": [
       "<div>\n",
       "<style scoped>\n",
       "    .dataframe tbody tr th:only-of-type {\n",
       "        vertical-align: middle;\n",
       "    }\n",
       "\n",
       "    .dataframe tbody tr th {\n",
       "        vertical-align: top;\n",
       "    }\n",
       "\n",
       "    .dataframe thead th {\n",
       "        text-align: right;\n",
       "    }\n",
       "</style>\n",
       "<table border=\"1\" class=\"dataframe\">\n",
       "  <thead>\n",
       "    <tr style=\"text-align: right;\">\n",
       "      <th></th>\n",
       "      <th>PassengerId</th>\n",
       "      <th>Pclass</th>\n",
       "      <th>Name</th>\n",
       "      <th>Sex</th>\n",
       "      <th>Age</th>\n",
       "      <th>SibSp</th>\n",
       "      <th>Parch</th>\n",
       "      <th>Ticket</th>\n",
       "      <th>Fare</th>\n",
       "      <th>Cabin</th>\n",
       "      <th>Embarked</th>\n",
       "    </tr>\n",
       "  </thead>\n",
       "  <tbody>\n",
       "    <tr>\n",
       "      <th>0</th>\n",
       "      <td>1</td>\n",
       "      <td>3</td>\n",
       "      <td>Braund, Mr. Owen Harris</td>\n",
       "      <td>1</td>\n",
       "      <td>22.0</td>\n",
       "      <td>1</td>\n",
       "      <td>0</td>\n",
       "      <td>A/5 21171</td>\n",
       "      <td>7.2500</td>\n",
       "      <td>Unavailable</td>\n",
       "      <td>S</td>\n",
       "    </tr>\n",
       "    <tr>\n",
       "      <th>1</th>\n",
       "      <td>2</td>\n",
       "      <td>1</td>\n",
       "      <td>Cumings, Mrs. John Bradley (Florence Briggs Th...</td>\n",
       "      <td>0</td>\n",
       "      <td>38.0</td>\n",
       "      <td>1</td>\n",
       "      <td>0</td>\n",
       "      <td>PC 17599</td>\n",
       "      <td>71.2833</td>\n",
       "      <td>C85</td>\n",
       "      <td>C</td>\n",
       "    </tr>\n",
       "    <tr>\n",
       "      <th>2</th>\n",
       "      <td>3</td>\n",
       "      <td>3</td>\n",
       "      <td>Heikkinen, Miss. Laina</td>\n",
       "      <td>0</td>\n",
       "      <td>26.0</td>\n",
       "      <td>0</td>\n",
       "      <td>0</td>\n",
       "      <td>STON/O2. 3101282</td>\n",
       "      <td>7.9250</td>\n",
       "      <td>Unavailable</td>\n",
       "      <td>S</td>\n",
       "    </tr>\n",
       "  </tbody>\n",
       "</table>\n",
       "</div>"
      ],
      "text/plain": [
       "   PassengerId  Pclass                                               Name  \\\n",
       "0            1       3                            Braund, Mr. Owen Harris   \n",
       "1            2       1  Cumings, Mrs. John Bradley (Florence Briggs Th...   \n",
       "2            3       3                             Heikkinen, Miss. Laina   \n",
       "\n",
       "   Sex   Age  SibSp  Parch            Ticket     Fare        Cabin Embarked  \n",
       "0    1  22.0      1      0         A/5 21171   7.2500  Unavailable        S  \n",
       "1    0  38.0      1      0          PC 17599  71.2833          C85        C  \n",
       "2    0  26.0      0      0  STON/O2. 3101282   7.9250  Unavailable        S  "
      ]
     },
     "execution_count": 26,
     "metadata": {},
     "output_type": "execute_result"
    }
   ],
   "source": [
    "combined_df[\"Sex\"] = combined_df_encoded\n",
    "combined_df.head(3)"
   ]
  },
  {
   "cell_type": "code",
   "execution_count": 27,
   "id": "863379b0",
   "metadata": {
    "execution": {
     "iopub.execute_input": "2025-06-01T22:44:17.624096Z",
     "iopub.status.busy": "2025-06-01T22:44:17.623781Z",
     "iopub.status.idle": "2025-06-01T22:44:17.630683Z",
     "shell.execute_reply": "2025-06-01T22:44:17.629618Z"
    },
    "papermill": {
     "duration": 0.022258,
     "end_time": "2025-06-01T22:44:17.632351",
     "exception": false,
     "start_time": "2025-06-01T22:44:17.610093",
     "status": "completed"
    },
    "tags": []
   },
   "outputs": [],
   "source": [
    "x_train = combined_df[features].iloc[:891]\n",
    "x_test = combined_df[features].iloc[891:]"
   ]
  },
  {
   "cell_type": "code",
   "execution_count": 28,
   "id": "b3a9c8f1",
   "metadata": {
    "execution": {
     "iopub.execute_input": "2025-06-01T22:44:17.658594Z",
     "iopub.status.busy": "2025-06-01T22:44:17.658143Z",
     "iopub.status.idle": "2025-06-01T22:44:59.576435Z",
     "shell.execute_reply": "2025-06-01T22:44:59.575649Z"
    },
    "papermill": {
     "duration": 41.933301,
     "end_time": "2025-06-01T22:44:59.578080",
     "exception": false,
     "start_time": "2025-06-01T22:44:17.644779",
     "status": "completed"
    },
    "tags": []
   },
   "outputs": [],
   "source": [
    "random_forest_scores = random_forest_model(x_train, x_test, \n",
    "                                           y_train, y_test,\n",
    "                                           total_trees=1500, depth=10)\n",
    "acc_score_df = pd.DataFrame(random_forest_scores)"
   ]
  },
  {
   "cell_type": "code",
   "execution_count": 29,
   "id": "fb28d3c9",
   "metadata": {
    "execution": {
     "iopub.execute_input": "2025-06-01T22:44:59.604257Z",
     "iopub.status.busy": "2025-06-01T22:44:59.603940Z",
     "iopub.status.idle": "2025-06-01T22:44:59.829847Z",
     "shell.execute_reply": "2025-06-01T22:44:59.828855Z"
    },
    "papermill": {
     "duration": 0.241035,
     "end_time": "2025-06-01T22:44:59.831627",
     "exception": false,
     "start_time": "2025-06-01T22:44:59.590592",
     "status": "completed"
    },
    "tags": []
   },
   "outputs": [
    {
     "data": {
      "image/png": "[encoded data removed]",
      "text/plain": [
       "<Figure size 1000x600 with 1 Axes>"
      ]
     },
     "metadata": {},
     "output_type": "display_data"
    }
   ],
   "source": [
    "plt.figure(figsize=(10, 6))\n",
    "plt.plot(acc_score_df['Trees'], acc_score_df['acc_score'], marker='o', linestyle='-')\n",
    "plt.title('Random Forest Model Performance (Accuracy Score)')\n",
    "plt.xlabel('Trees')\n",
    "plt.ylabel('Accuracy Score')\n",
    "plt.xticks(rotation=45)\n",
    "plt.grid(True)\n",
    "plt.tight_layout()\n",
    "plt.show()"
   ]
  },
  {
   "cell_type": "code",
   "execution_count": 30,
   "id": "216a5ed6",
   "metadata": {
    "execution": {
     "iopub.execute_input": "2025-06-01T22:44:59.859900Z",
     "iopub.status.busy": "2025-06-01T22:44:59.858986Z",
     "iopub.status.idle": "2025-06-01T22:44:59.996970Z",
     "shell.execute_reply": "2025-06-01T22:44:59.995746Z"
    },
    "papermill": {
     "duration": 0.154031,
     "end_time": "2025-06-01T22:44:59.998931",
     "exception": false,
     "start_time": "2025-06-01T22:44:59.844900",
     "status": "completed"
    },
    "tags": []
   },
   "outputs": [],
   "source": [
    "evaluation_models_scores = evaluate_models(x_train, x_test, y_train, y_test)"
   ]
  },
  {
   "cell_type": "code",
   "execution_count": 31,
   "id": "3061f3b1",
   "metadata": {
    "execution": {
     "iopub.execute_input": "2025-06-01T22:45:00.030735Z",
     "iopub.status.busy": "2025-06-01T22:45:00.030377Z",
     "iopub.status.idle": "2025-06-01T22:45:00.036352Z",
     "shell.execute_reply": "2025-06-01T22:45:00.035354Z"
    },
    "papermill": {
     "duration": 0.024152,
     "end_time": "2025-06-01T22:45:00.038549",
     "exception": false,
     "start_time": "2025-06-01T22:45:00.014397",
     "status": "completed"
    },
    "tags": []
   },
   "outputs": [
    {
     "data": {
      "text/plain": [
       "[('Gradient Boosting', 0.9234449760765551), ('KNN', 0.80622009569378)]"
      ]
     },
     "execution_count": 31,
     "metadata": {},
     "output_type": "execute_result"
    }
   ],
   "source": [
    "evaluation_models_scores"
   ]
  },
  {
   "cell_type": "markdown",
   "id": "6356a4d7",
   "metadata": {
    "papermill": {
     "duration": 0.014369,
     "end_time": "2025-06-01T22:45:00.068148",
     "exception": false,
     "start_time": "2025-06-01T22:45:00.053779",
     "status": "completed"
    },
    "tags": []
   },
   "source": [
    "* It seems that the number of trees that are appropriate for a RandomForestClassifier model is 600. The score for 500-700 trees stays consistent with an accuracy of about 86%.\n",
    "* The accuracies for a GradientBoostingClassifier and KNNClassifier model are 92% and 81% respectively.\n",
    "* We will now perform cross validation to make sure our scoring for these models aren't flukes"
   ]
  },
  {
   "cell_type": "markdown",
   "id": "18a0b233",
   "metadata": {
    "papermill": {
     "duration": 0.014003,
     "end_time": "2025-06-01T22:45:00.096650",
     "exception": false,
     "start_time": "2025-06-01T22:45:00.082647",
     "status": "completed"
    },
    "tags": []
   },
   "source": [
    "Cross Validation\n",
    "="
   ]
  },
  {
   "cell_type": "code",
   "execution_count": 32,
   "id": "d309f80f",
   "metadata": {
    "execution": {
     "iopub.execute_input": "2025-06-01T22:45:00.125606Z",
     "iopub.status.busy": "2025-06-01T22:45:00.125284Z",
     "iopub.status.idle": "2025-06-01T22:45:00.129674Z",
     "shell.execute_reply": "2025-06-01T22:45:00.128820Z"
    },
    "papermill": {
     "duration": 0.020646,
     "end_time": "2025-06-01T22:45:00.131138",
     "exception": false,
     "start_time": "2025-06-01T22:45:00.110492",
     "status": "completed"
    },
    "tags": []
   },
   "outputs": [],
   "source": [
    "from sklearn.pipeline import Pipeline\n",
    "from sklearn.model_selection import cross_val_score"
   ]
  },
  {
   "cell_type": "code",
   "execution_count": 33,
   "id": "fefa815f",
   "metadata": {
    "execution": {
     "iopub.execute_input": "2025-06-01T22:45:00.160287Z",
     "iopub.status.busy": "2025-06-01T22:45:00.159034Z",
     "iopub.status.idle": "2025-06-01T22:45:00.164865Z",
     "shell.execute_reply": "2025-06-01T22:45:00.164079Z"
    },
    "papermill": {
     "duration": 0.021747,
     "end_time": "2025-06-01T22:45:00.166472",
     "exception": false,
     "start_time": "2025-06-01T22:45:00.144725",
     "status": "completed"
    },
    "tags": []
   },
   "outputs": [],
   "source": [
    "random_forest_classifier_pipeline = Pipeline(\n",
    "    steps=[(\"model\", RandomForestClassifier(n_estimators=600,random_state=18))])\n",
    "\n",
    "knn_classifier_pipeline = Pipeline(\n",
    "    steps=[(\"model\", KNeighborsClassifier())])\n",
    "\n",
    "gradient_boosting_classifier_pipeline = Pipeline(\n",
    "    steps=[(\"model\", GradientBoostingClassifier())])"
   ]
  },
  {
   "cell_type": "code",
   "execution_count": 34,
   "id": "3efa2afc",
   "metadata": {
    "execution": {
     "iopub.execute_input": "2025-06-01T22:45:00.194772Z",
     "iopub.status.busy": "2025-06-01T22:45:00.194074Z",
     "iopub.status.idle": "2025-06-01T22:45:06.628725Z",
     "shell.execute_reply": "2025-06-01T22:45:06.627857Z"
    },
    "papermill": {
     "duration": 6.450698,
     "end_time": "2025-06-01T22:45:06.630395",
     "exception": false,
     "start_time": "2025-06-01T22:45:00.179697",
     "status": "completed"
    },
    "tags": []
   },
   "outputs": [],
   "source": [
    "x = combined_df[features]\n",
    "y = pd.concat([y_train, y_test], axis=0).reset_index(drop=True)\n",
    "\n",
    "random_forest_classifier_scores = cross_val_score(\n",
    "    random_forest_classifier_pipeline, x, y, cv=5, scoring=\"accuracy\")\n",
    "\n",
    "knn_classifier_scores = cross_val_score(\n",
    "    knn_classifier_pipeline, x, y, cv=5, scoring=\"accuracy\")\n",
    "\n",
    "gradient_boosting_scores = cross_val_score(\n",
    "    gradient_boosting_classifier_pipeline, x, y, cv=5, scoring=\"accuracy\")"
   ]
  },
  {
   "cell_type": "code",
   "execution_count": 35,
   "id": "944779ce",
   "metadata": {
    "execution": {
     "iopub.execute_input": "2025-06-01T22:45:06.658332Z",
     "iopub.status.busy": "2025-06-01T22:45:06.657999Z",
     "iopub.status.idle": "2025-06-01T22:45:06.662585Z",
     "shell.execute_reply": "2025-06-01T22:45:06.661690Z"
    },
    "papermill": {
     "duration": 0.020161,
     "end_time": "2025-06-01T22:45:06.663979",
     "exception": false,
     "start_time": "2025-06-01T22:45:06.643818",
     "status": "completed"
    },
    "tags": []
   },
   "outputs": [],
   "source": [
    "def print_scores(model, scores):\n",
    "    print(f\"Average score for {model}: {scores.mean()}\")"
   ]
  },
  {
   "cell_type": "code",
   "execution_count": 36,
   "id": "806b63c6",
   "metadata": {
    "execution": {
     "iopub.execute_input": "2025-06-01T22:45:06.692012Z",
     "iopub.status.busy": "2025-06-01T22:45:06.691691Z",
     "iopub.status.idle": "2025-06-01T22:45:06.697108Z",
     "shell.execute_reply": "2025-06-01T22:45:06.695947Z"
    },
    "papermill": {
     "duration": 0.021579,
     "end_time": "2025-06-01T22:45:06.698931",
     "exception": false,
     "start_time": "2025-06-01T22:45:06.677352",
     "status": "completed"
    },
    "tags": []
   },
   "outputs": [
    {
     "name": "stdout",
     "output_type": "stream",
     "text": [
      "Average score for RandomForestClassifier: 0.824342663273961\n",
      "Average score for KNN Classifier: 0.8128571846392326\n",
      "Average score for Gradient Boosting: 0.8587435289988592\n"
     ]
    }
   ],
   "source": [
    "print_scores(\"RandomForestClassifier\", random_forest_classifier_scores)\n",
    "print_scores(\"KNN Classifier\", knn_classifier_scores)\n",
    "print_scores(\"Gradient Boosting\", gradient_boosting_scores)"
   ]
  },
  {
   "cell_type": "markdown",
   "id": "d969035b",
   "metadata": {
    "papermill": {
     "duration": 0.013454,
     "end_time": "2025-06-01T22:45:06.726928",
     "exception": false,
     "start_time": "2025-06-01T22:45:06.713474",
     "status": "completed"
    },
    "tags": []
   },
   "source": [
    "* It sems our score for KNN seems to be the more accurate and reliable model, with the average off by about 1% from our cross validation check"
   ]
  },
  {
   "cell_type": "markdown",
   "id": "5e70feac",
   "metadata": {
    "papermill": {
     "duration": 0.013135,
     "end_time": "2025-06-01T22:45:06.753538",
     "exception": false,
     "start_time": "2025-06-01T22:45:06.740403",
     "status": "completed"
    },
    "tags": []
   },
   "source": [
    "What I've learned\n",
    "="
   ]
  },
  {
   "cell_type": "markdown",
   "id": "d311f2c2",
   "metadata": {
    "papermill": {
     "duration": 0.012852,
     "end_time": "2025-06-01T22:45:06.779679",
     "exception": false,
     "start_time": "2025-06-01T22:45:06.766827",
     "status": "completed"
    },
    "tags": []
   },
   "source": [
    "* I've learned the difference between a RandomForestRegressor and RandomForestClassifier... the hard way.\n",
    "* For the task at hand, the classifier model was more appropriate. I was suppose to build a model based on classifying to predict categories rather than predicting continuous variables.\n",
    "* Other classification models that were considered are KNN and GradientBoosting\n",
    "* What I really appreciate about learning new material are the failures. It took me a few days, spread out in between, to figure out why I was getting low accuracy scores. That was because I was using the wrong metric, mean_absolute_error, which is more appropriate for regression. I did some research and found that accuracy_score is more appropriate to evaluate classification models."
   ]
  }
 ],
 "metadata": {
  "kaggle": {
   "accelerator": "none",
   "dataSources": [
    {
     "databundleVersionId": 26502,
     "sourceId": 3136,
     "sourceType": "competition"
    }
   ],
   "dockerImageVersionId": 31040,
   "isGpuEnabled": false,
   "isInternetEnabled": false,
   "language": "python",
   "sourceType": "notebook"
  },
  "kernelspec": {
   "display_name": "Python 3",
   "language": "python",
   "name": "python3"
  },
  "language_info": {
   "codemirror_mode": {
    "name": "ipython",
    "version": 3
   },
   "file_extension": ".py",
   "mimetype": "text/x-python",
   "name": "python",
   "nbconvert_exporter": "python",
   "pygments_lexer": "ipython3",
   "version": "3.11.11"
  },
  "papermill": {
   "default_parameters": {},
   "duration": 76.093956,
   "end_time": "2025-06-01T22:45:07.615276",
   "environment_variables": {},
   "exception": null,
   "input_path": "__notebook__.ipynb",
   "output_path": "__notebook__.ipynb",
   "parameters": {},
   "start_time": "2025-06-01T22:43:51.521320",
   "version": "2.6.0"
  }
 },
 "nbformat": 4,
 "nbformat_minor": 5
}
