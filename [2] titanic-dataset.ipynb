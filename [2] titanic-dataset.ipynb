{
 "cells": [
  {
   "cell_type": "code",
   "execution_count": 1,
   "id": "d8c6cc9f",
   "metadata": {
    "_cell_guid": "b1076dfc-b9ad-4769-8c92-a6c4dae69d19",
    "_uuid": "8f2839f25d086af736a60e9eeb907d3b93b6e0e5",
    "execution": {
     "iopub.execute_input": "2025-05-31T23:17:23.896905Z",
     "iopub.status.busy": "2025-05-31T23:17:23.896491Z",
     "iopub.status.idle": "2025-05-31T23:17:25.747883Z",
     "shell.execute_reply": "2025-05-31T23:17:25.746851Z"
    },
    "papermill": {
     "duration": 1.861008,
     "end_time": "2025-05-31T23:17:25.749463",
     "exception": false,
     "start_time": "2025-05-31T23:17:23.888455",
     "status": "completed"
    },
    "tags": []
   },
   "outputs": [
    {
     "name": "stdout",
     "output_type": "stream",
     "text": [
      "/kaggle/input/titanic/train.csv\n",
      "/kaggle/input/titanic/test.csv\n",
      "/kaggle/input/titanic/gender_submission.csv\n"
     ]
    }
   ],
   "source": [
    "import numpy as np\n",
    "import pandas as pd\n",
    "import warnings\n",
    "warnings.filterwarnings(\"ignore\")\n",
    "\n",
    "import os\n",
    "for dirname, _, filenames in os.walk('/kaggle/input'):\n",
    "    for filename in filenames:\n",
    "        print(os.path.join(dirname, filename))"
   ]
  },
  {
   "cell_type": "markdown",
   "id": "00c4085c",
   "metadata": {
    "papermill": {
     "duration": 0.005563,
     "end_time": "2025-05-31T23:17:25.761412",
     "exception": false,
     "start_time": "2025-05-31T23:17:25.755849",
     "status": "completed"
    },
    "tags": []
   },
   "source": [
    "EDA\n",
    "="
   ]
  },
  {
   "cell_type": "code",
   "execution_count": 2,
   "id": "42aed011",
   "metadata": {
    "execution": {
     "iopub.execute_input": "2025-05-31T23:17:25.774500Z",
     "iopub.status.busy": "2025-05-31T23:17:25.774065Z",
     "iopub.status.idle": "2025-05-31T23:17:25.796847Z",
     "shell.execute_reply": "2025-05-31T23:17:25.795880Z"
    },
    "papermill": {
     "duration": 0.031156,
     "end_time": "2025-05-31T23:17:25.798505",
     "exception": false,
     "start_time": "2025-05-31T23:17:25.767349",
     "status": "completed"
    },
    "tags": []
   },
   "outputs": [],
   "source": [
    "train_df = pd.read_csv(\"/kaggle/input/titanic/train.csv\")"
   ]
  },
  {
   "cell_type": "code",
   "execution_count": 3,
   "id": "daca01f5",
   "metadata": {
    "execution": {
     "iopub.execute_input": "2025-05-31T23:17:25.811621Z",
     "iopub.status.busy": "2025-05-31T23:17:25.811303Z",
     "iopub.status.idle": "2025-05-31T23:17:25.821664Z",
     "shell.execute_reply": "2025-05-31T23:17:25.820978Z"
    },
    "papermill": {
     "duration": 0.018477,
     "end_time": "2025-05-31T23:17:25.823047",
     "exception": false,
     "start_time": "2025-05-31T23:17:25.804570",
     "status": "completed"
    },
    "tags": []
   },
   "outputs": [],
   "source": [
    "test_df = pd.read_csv(\"/kaggle/input/titanic/test.csv\")"
   ]
  },
  {
   "cell_type": "code",
   "execution_count": 4,
   "id": "9f31bfc3",
   "metadata": {
    "execution": {
     "iopub.execute_input": "2025-05-31T23:17:25.836162Z",
     "iopub.status.busy": "2025-05-31T23:17:25.835826Z",
     "iopub.status.idle": "2025-05-31T23:17:25.843499Z",
     "shell.execute_reply": "2025-05-31T23:17:25.842804Z"
    },
    "papermill": {
     "duration": 0.015822,
     "end_time": "2025-05-31T23:17:25.844970",
     "exception": false,
     "start_time": "2025-05-31T23:17:25.829148",
     "status": "completed"
    },
    "tags": []
   },
   "outputs": [],
   "source": [
    "gender_submission_df = pd.read_csv(\"/kaggle/input/titanic/gender_submission.csv\")"
   ]
  },
  {
   "cell_type": "code",
   "execution_count": 5,
   "id": "f4a65aa5",
   "metadata": {
    "execution": {
     "iopub.execute_input": "2025-05-31T23:17:25.857554Z",
     "iopub.status.busy": "2025-05-31T23:17:25.857282Z",
     "iopub.status.idle": "2025-05-31T23:17:25.868821Z",
     "shell.execute_reply": "2025-05-31T23:17:25.868076Z"
    },
    "papermill": {
     "duration": 0.019304,
     "end_time": "2025-05-31T23:17:25.870142",
     "exception": false,
     "start_time": "2025-05-31T23:17:25.850838",
     "status": "completed"
    },
    "tags": []
   },
   "outputs": [
    {
     "data": {
      "text/plain": [
       "PassengerId      int64\n",
       "Survived         int64\n",
       "Pclass           int64\n",
       "Name            object\n",
       "Sex             object\n",
       "Age            float64\n",
       "SibSp            int64\n",
       "Parch            int64\n",
       "Ticket          object\n",
       "Fare           float64\n",
       "Cabin           object\n",
       "Embarked        object\n",
       "dtype: object"
      ]
     },
     "execution_count": 5,
     "metadata": {},
     "output_type": "execute_result"
    }
   ],
   "source": [
    "train_df.dtypes"
   ]
  },
  {
   "cell_type": "code",
   "execution_count": 6,
   "id": "2ed222f1",
   "metadata": {
    "execution": {
     "iopub.execute_input": "2025-05-31T23:17:25.883431Z",
     "iopub.status.busy": "2025-05-31T23:17:25.883111Z",
     "iopub.status.idle": "2025-05-31T23:17:25.924403Z",
     "shell.execute_reply": "2025-05-31T23:17:25.923559Z"
    },
    "papermill": {
     "duration": 0.049611,
     "end_time": "2025-05-31T23:17:25.925791",
     "exception": false,
     "start_time": "2025-05-31T23:17:25.876180",
     "status": "completed"
    },
    "tags": []
   },
   "outputs": [
    {
     "data": {
      "text/html": [
       "<div>\n",
       "<style scoped>\n",
       "    .dataframe tbody tr th:only-of-type {\n",
       "        vertical-align: middle;\n",
       "    }\n",
       "\n",
       "    .dataframe tbody tr th {\n",
       "        vertical-align: top;\n",
       "    }\n",
       "\n",
       "    .dataframe thead th {\n",
       "        text-align: right;\n",
       "    }\n",
       "</style>\n",
       "<table border=\"1\" class=\"dataframe\">\n",
       "  <thead>\n",
       "    <tr style=\"text-align: right;\">\n",
       "      <th></th>\n",
       "      <th>PassengerId</th>\n",
       "      <th>Survived</th>\n",
       "      <th>Pclass</th>\n",
       "      <th>Age</th>\n",
       "      <th>SibSp</th>\n",
       "      <th>Parch</th>\n",
       "      <th>Fare</th>\n",
       "    </tr>\n",
       "  </thead>\n",
       "  <tbody>\n",
       "    <tr>\n",
       "      <th>count</th>\n",
       "      <td>891.000000</td>\n",
       "      <td>891.000000</td>\n",
       "      <td>891.000000</td>\n",
       "      <td>714.000000</td>\n",
       "      <td>891.000000</td>\n",
       "      <td>891.000000</td>\n",
       "      <td>891.000000</td>\n",
       "    </tr>\n",
       "    <tr>\n",
       "      <th>mean</th>\n",
       "      <td>446.000000</td>\n",
       "      <td>0.383838</td>\n",
       "      <td>2.308642</td>\n",
       "      <td>29.699118</td>\n",
       "      <td>0.523008</td>\n",
       "      <td>0.381594</td>\n",
       "      <td>32.204208</td>\n",
       "    </tr>\n",
       "    <tr>\n",
       "      <th>std</th>\n",
       "      <td>257.353842</td>\n",
       "      <td>0.486592</td>\n",
       "      <td>0.836071</td>\n",
       "      <td>14.526497</td>\n",
       "      <td>1.102743</td>\n",
       "      <td>0.806057</td>\n",
       "      <td>49.693429</td>\n",
       "    </tr>\n",
       "    <tr>\n",
       "      <th>min</th>\n",
       "      <td>1.000000</td>\n",
       "      <td>0.000000</td>\n",
       "      <td>1.000000</td>\n",
       "      <td>0.420000</td>\n",
       "      <td>0.000000</td>\n",
       "      <td>0.000000</td>\n",
       "      <td>0.000000</td>\n",
       "    </tr>\n",
       "    <tr>\n",
       "      <th>25%</th>\n",
       "      <td>223.500000</td>\n",
       "      <td>0.000000</td>\n",
       "      <td>2.000000</td>\n",
       "      <td>20.125000</td>\n",
       "      <td>0.000000</td>\n",
       "      <td>0.000000</td>\n",
       "      <td>7.910400</td>\n",
       "    </tr>\n",
       "    <tr>\n",
       "      <th>50%</th>\n",
       "      <td>446.000000</td>\n",
       "      <td>0.000000</td>\n",
       "      <td>3.000000</td>\n",
       "      <td>28.000000</td>\n",
       "      <td>0.000000</td>\n",
       "      <td>0.000000</td>\n",
       "      <td>14.454200</td>\n",
       "    </tr>\n",
       "    <tr>\n",
       "      <th>75%</th>\n",
       "      <td>668.500000</td>\n",
       "      <td>1.000000</td>\n",
       "      <td>3.000000</td>\n",
       "      <td>38.000000</td>\n",
       "      <td>1.000000</td>\n",
       "      <td>0.000000</td>\n",
       "      <td>31.000000</td>\n",
       "    </tr>\n",
       "    <tr>\n",
       "      <th>max</th>\n",
       "      <td>891.000000</td>\n",
       "      <td>1.000000</td>\n",
       "      <td>3.000000</td>\n",
       "      <td>80.000000</td>\n",
       "      <td>8.000000</td>\n",
       "      <td>6.000000</td>\n",
       "      <td>512.329200</td>\n",
       "    </tr>\n",
       "  </tbody>\n",
       "</table>\n",
       "</div>"
      ],
      "text/plain": [
       "       PassengerId    Survived      Pclass         Age       SibSp  \\\n",
       "count   891.000000  891.000000  891.000000  714.000000  891.000000   \n",
       "mean    446.000000    0.383838    2.308642   29.699118    0.523008   \n",
       "std     257.353842    0.486592    0.836071   14.526497    1.102743   \n",
       "min       1.000000    0.000000    1.000000    0.420000    0.000000   \n",
       "25%     223.500000    0.000000    2.000000   20.125000    0.000000   \n",
       "50%     446.000000    0.000000    3.000000   28.000000    0.000000   \n",
       "75%     668.500000    1.000000    3.000000   38.000000    1.000000   \n",
       "max     891.000000    1.000000    3.000000   80.000000    8.000000   \n",
       "\n",
       "            Parch        Fare  \n",
       "count  891.000000  891.000000  \n",
       "mean     0.381594   32.204208  \n",
       "std      0.806057   49.693429  \n",
       "min      0.000000    0.000000  \n",
       "25%      0.000000    7.910400  \n",
       "50%      0.000000   14.454200  \n",
       "75%      0.000000   31.000000  \n",
       "max      6.000000  512.329200  "
      ]
     },
     "execution_count": 6,
     "metadata": {},
     "output_type": "execute_result"
    }
   ],
   "source": [
    "numerical_columns = train_df.select_dtypes(include=[\"int64\", \"float64\"])\n",
    "numerical_columns.describe()"
   ]
  },
  {
   "cell_type": "code",
   "execution_count": 7,
   "id": "63f7ffca",
   "metadata": {
    "execution": {
     "iopub.execute_input": "2025-05-31T23:17:25.944625Z",
     "iopub.status.busy": "2025-05-31T23:17:25.943662Z",
     "iopub.status.idle": "2025-05-31T23:17:25.966413Z",
     "shell.execute_reply": "2025-05-31T23:17:25.965369Z"
    },
    "papermill": {
     "duration": 0.035587,
     "end_time": "2025-05-31T23:17:25.968421",
     "exception": false,
     "start_time": "2025-05-31T23:17:25.932834",
     "status": "completed"
    },
    "tags": []
   },
   "outputs": [
    {
     "data": {
      "text/html": [
       "<div>\n",
       "<style scoped>\n",
       "    .dataframe tbody tr th:only-of-type {\n",
       "        vertical-align: middle;\n",
       "    }\n",
       "\n",
       "    .dataframe tbody tr th {\n",
       "        vertical-align: top;\n",
       "    }\n",
       "\n",
       "    .dataframe thead th {\n",
       "        text-align: right;\n",
       "    }\n",
       "</style>\n",
       "<table border=\"1\" class=\"dataframe\">\n",
       "  <thead>\n",
       "    <tr style=\"text-align: right;\">\n",
       "      <th></th>\n",
       "      <th>Name</th>\n",
       "      <th>Sex</th>\n",
       "      <th>Ticket</th>\n",
       "      <th>Cabin</th>\n",
       "      <th>Embarked</th>\n",
       "    </tr>\n",
       "  </thead>\n",
       "  <tbody>\n",
       "    <tr>\n",
       "      <th>count</th>\n",
       "      <td>891</td>\n",
       "      <td>891</td>\n",
       "      <td>891</td>\n",
       "      <td>204</td>\n",
       "      <td>889</td>\n",
       "    </tr>\n",
       "    <tr>\n",
       "      <th>unique</th>\n",
       "      <td>891</td>\n",
       "      <td>2</td>\n",
       "      <td>681</td>\n",
       "      <td>147</td>\n",
       "      <td>3</td>\n",
       "    </tr>\n",
       "    <tr>\n",
       "      <th>top</th>\n",
       "      <td>Braund, Mr. Owen Harris</td>\n",
       "      <td>male</td>\n",
       "      <td>347082</td>\n",
       "      <td>B96 B98</td>\n",
       "      <td>S</td>\n",
       "    </tr>\n",
       "    <tr>\n",
       "      <th>freq</th>\n",
       "      <td>1</td>\n",
       "      <td>577</td>\n",
       "      <td>7</td>\n",
       "      <td>4</td>\n",
       "      <td>644</td>\n",
       "    </tr>\n",
       "  </tbody>\n",
       "</table>\n",
       "</div>"
      ],
      "text/plain": [
       "                           Name   Sex  Ticket    Cabin Embarked\n",
       "count                       891   891     891      204      889\n",
       "unique                      891     2     681      147        3\n",
       "top     Braund, Mr. Owen Harris  male  347082  B96 B98        S\n",
       "freq                          1   577       7        4      644"
      ]
     },
     "execution_count": 7,
     "metadata": {},
     "output_type": "execute_result"
    }
   ],
   "source": [
    "categorical_columns = train_df.select_dtypes(include=[\"object\"])\n",
    "categorical_columns.describe()"
   ]
  },
  {
   "cell_type": "code",
   "execution_count": 8,
   "id": "ce848f99",
   "metadata": {
    "execution": {
     "iopub.execute_input": "2025-05-31T23:17:25.989222Z",
     "iopub.status.busy": "2025-05-31T23:17:25.988296Z",
     "iopub.status.idle": "2025-05-31T23:17:25.999574Z",
     "shell.execute_reply": "2025-05-31T23:17:25.998735Z"
    },
    "papermill": {
     "duration": 0.020892,
     "end_time": "2025-05-31T23:17:26.001006",
     "exception": false,
     "start_time": "2025-05-31T23:17:25.980114",
     "status": "completed"
    },
    "tags": []
   },
   "outputs": [
    {
     "data": {
      "text/plain": [
       "Age         177\n",
       "Cabin       687\n",
       "Embarked      2\n",
       "dtype: int64"
      ]
     },
     "execution_count": 8,
     "metadata": {},
     "output_type": "execute_result"
    }
   ],
   "source": [
    "train_df.isna().sum()[train_df.isna().sum() > 0]"
   ]
  },
  {
   "cell_type": "code",
   "execution_count": 9,
   "id": "d6614322",
   "metadata": {
    "execution": {
     "iopub.execute_input": "2025-05-31T23:17:26.015629Z",
     "iopub.status.busy": "2025-05-31T23:17:26.015320Z",
     "iopub.status.idle": "2025-05-31T23:17:26.021503Z",
     "shell.execute_reply": "2025-05-31T23:17:26.020640Z"
    },
    "papermill": {
     "duration": 0.014907,
     "end_time": "2025-05-31T23:17:26.022970",
     "exception": false,
     "start_time": "2025-05-31T23:17:26.008063",
     "status": "completed"
    },
    "tags": []
   },
   "outputs": [
    {
     "data": {
      "text/plain": [
       "array(['S', 'C', 'Q', nan], dtype=object)"
      ]
     },
     "execution_count": 9,
     "metadata": {},
     "output_type": "execute_result"
    }
   ],
   "source": [
    "train_df[\"Embarked\"].unique()"
   ]
  },
  {
   "cell_type": "code",
   "execution_count": 10,
   "id": "ca538248",
   "metadata": {
    "execution": {
     "iopub.execute_input": "2025-05-31T23:17:26.045732Z",
     "iopub.status.busy": "2025-05-31T23:17:26.045374Z",
     "iopub.status.idle": "2025-05-31T23:17:26.061788Z",
     "shell.execute_reply": "2025-05-31T23:17:26.060851Z"
    },
    "papermill": {
     "duration": 0.029853,
     "end_time": "2025-05-31T23:17:26.063300",
     "exception": false,
     "start_time": "2025-05-31T23:17:26.033447",
     "status": "completed"
    },
    "tags": []
   },
   "outputs": [
    {
     "data": {
      "text/html": [
       "<div>\n",
       "<style scoped>\n",
       "    .dataframe tbody tr th:only-of-type {\n",
       "        vertical-align: middle;\n",
       "    }\n",
       "\n",
       "    .dataframe tbody tr th {\n",
       "        vertical-align: top;\n",
       "    }\n",
       "\n",
       "    .dataframe thead th {\n",
       "        text-align: right;\n",
       "    }\n",
       "</style>\n",
       "<table border=\"1\" class=\"dataframe\">\n",
       "  <thead>\n",
       "    <tr style=\"text-align: right;\">\n",
       "      <th></th>\n",
       "      <th>PassengerId</th>\n",
       "      <th>Survived</th>\n",
       "      <th>Pclass</th>\n",
       "      <th>Name</th>\n",
       "      <th>Sex</th>\n",
       "      <th>Age</th>\n",
       "      <th>SibSp</th>\n",
       "      <th>Parch</th>\n",
       "      <th>Ticket</th>\n",
       "      <th>Fare</th>\n",
       "      <th>Cabin</th>\n",
       "      <th>Embarked</th>\n",
       "    </tr>\n",
       "  </thead>\n",
       "  <tbody>\n",
       "    <tr>\n",
       "      <th>61</th>\n",
       "      <td>62</td>\n",
       "      <td>1</td>\n",
       "      <td>1</td>\n",
       "      <td>Icard, Miss. Amelie</td>\n",
       "      <td>female</td>\n",
       "      <td>38.0</td>\n",
       "      <td>0</td>\n",
       "      <td>0</td>\n",
       "      <td>113572</td>\n",
       "      <td>80.0</td>\n",
       "      <td>B28</td>\n",
       "      <td>NaN</td>\n",
       "    </tr>\n",
       "    <tr>\n",
       "      <th>829</th>\n",
       "      <td>830</td>\n",
       "      <td>1</td>\n",
       "      <td>1</td>\n",
       "      <td>Stone, Mrs. George Nelson (Martha Evelyn)</td>\n",
       "      <td>female</td>\n",
       "      <td>62.0</td>\n",
       "      <td>0</td>\n",
       "      <td>0</td>\n",
       "      <td>113572</td>\n",
       "      <td>80.0</td>\n",
       "      <td>B28</td>\n",
       "      <td>NaN</td>\n",
       "    </tr>\n",
       "  </tbody>\n",
       "</table>\n",
       "</div>"
      ],
      "text/plain": [
       "     PassengerId  Survived  Pclass                                       Name  \\\n",
       "61            62         1       1                        Icard, Miss. Amelie   \n",
       "829          830         1       1  Stone, Mrs. George Nelson (Martha Evelyn)   \n",
       "\n",
       "        Sex   Age  SibSp  Parch  Ticket  Fare Cabin Embarked  \n",
       "61   female  38.0      0      0  113572  80.0   B28      NaN  \n",
       "829  female  62.0      0      0  113572  80.0   B28      NaN  "
      ]
     },
     "execution_count": 10,
     "metadata": {},
     "output_type": "execute_result"
    }
   ],
   "source": [
    "train_df.loc[train_df[\"Embarked\"].isna()]"
   ]
  },
  {
   "cell_type": "code",
   "execution_count": 11,
   "id": "573ed0cc",
   "metadata": {
    "execution": {
     "iopub.execute_input": "2025-05-31T23:17:26.079737Z",
     "iopub.status.busy": "2025-05-31T23:17:26.079450Z",
     "iopub.status.idle": "2025-05-31T23:17:26.085972Z",
     "shell.execute_reply": "2025-05-31T23:17:26.085220Z"
    },
    "papermill": {
     "duration": 0.016373,
     "end_time": "2025-05-31T23:17:26.087525",
     "exception": false,
     "start_time": "2025-05-31T23:17:26.071152",
     "status": "completed"
    },
    "tags": []
   },
   "outputs": [
    {
     "data": {
      "text/plain": [
       "array([nan, 'C85', 'C123', 'E46', 'G6', 'C103', 'D56', 'A6',\n",
       "       'C23 C25 C27', 'B78', 'D33', 'B30', 'C52', 'B28', 'C83', 'F33',\n",
       "       'F G73', 'E31', 'A5', 'D10 D12', 'D26', 'C110', 'B58 B60', 'E101',\n",
       "       'F E69', 'D47', 'B86', 'F2', 'C2', 'E33', 'B19', 'A7', 'C49', 'F4',\n",
       "       'A32', 'B4', 'B80', 'A31', 'D36', 'D15', 'C93', 'C78', 'D35',\n",
       "       'C87', 'B77', 'E67', 'B94', 'C125', 'C99', 'C118', 'D7', 'A19',\n",
       "       'B49', 'D', 'C22 C26', 'C106', 'C65', 'E36', 'C54',\n",
       "       'B57 B59 B63 B66', 'C7', 'E34', 'C32', 'B18', 'C124', 'C91', 'E40',\n",
       "       'T', 'C128', 'D37', 'B35', 'E50', 'C82', 'B96 B98', 'E10', 'E44',\n",
       "       'A34', 'C104', 'C111', 'C92', 'E38', 'D21', 'E12', 'E63', 'A14',\n",
       "       'B37', 'C30', 'D20', 'B79', 'E25', 'D46', 'B73', 'C95', 'B38',\n",
       "       'B39', 'B22', 'C86', 'C70', 'A16', 'C101', 'C68', 'A10', 'E68',\n",
       "       'B41', 'A20', 'D19', 'D50', 'D9', 'A23', 'B50', 'A26', 'D48',\n",
       "       'E58', 'C126', 'B71', 'B51 B53 B55', 'D49', 'B5', 'B20', 'F G63',\n",
       "       'C62 C64', 'E24', 'C90', 'C45', 'E8', 'B101', 'D45', 'C46', 'D30',\n",
       "       'E121', 'D11', 'E77', 'F38', 'B3', 'D6', 'B82 B84', 'D17', 'A36',\n",
       "       'B102', 'B69', 'E49', 'C47', 'D28', 'E17', 'A24', 'C50', 'B42',\n",
       "       'C148'], dtype=object)"
      ]
     },
     "execution_count": 11,
     "metadata": {},
     "output_type": "execute_result"
    }
   ],
   "source": [
    "train_df[\"Cabin\"].unique()"
   ]
  },
  {
   "cell_type": "code",
   "execution_count": 12,
   "id": "381af396",
   "metadata": {
    "execution": {
     "iopub.execute_input": "2025-05-31T23:17:26.102986Z",
     "iopub.status.busy": "2025-05-31T23:17:26.102133Z",
     "iopub.status.idle": "2025-05-31T23:17:26.117187Z",
     "shell.execute_reply": "2025-05-31T23:17:26.116343Z"
    },
    "papermill": {
     "duration": 0.024429,
     "end_time": "2025-05-31T23:17:26.118825",
     "exception": false,
     "start_time": "2025-05-31T23:17:26.094396",
     "status": "completed"
    },
    "tags": []
   },
   "outputs": [
    {
     "data": {
      "text/plain": [
       "PassengerId    0\n",
       "Survived       0\n",
       "Pclass         0\n",
       "Name           0\n",
       "Sex            0\n",
       "Age            0\n",
       "SibSp          0\n",
       "Parch          0\n",
       "Ticket         0\n",
       "Fare           0\n",
       "Cabin          0\n",
       "Embarked       0\n",
       "dtype: int64"
      ]
     },
     "execution_count": 12,
     "metadata": {},
     "output_type": "execute_result"
    }
   ],
   "source": [
    "# Handle missing values\n",
    "\n",
    "mean_age = train_df[\"Age\"].mean()\n",
    "median_fare = train_df[\"Fare\"].median()\n",
    "most_common_port = train_df[\"Embarked\"].mode()[0]\n",
    "\n",
    "\n",
    "train_df[\"Age\"].fillna(mean_age, inplace=True)\n",
    "train_df[\"Fare\"].fillna(median_fare, inplace=True)\n",
    "train_df[\"Embarked\"].fillna(most_common_port, inplace=True)\n",
    "train_df[\"Cabin\"].fillna(\"Unavailable\", inplace=True)\n",
    "\n",
    "train_df.isna().sum()"
   ]
  },
  {
   "cell_type": "code",
   "execution_count": 13,
   "id": "cdc925ad",
   "metadata": {
    "execution": {
     "iopub.execute_input": "2025-05-31T23:17:26.140708Z",
     "iopub.status.busy": "2025-05-31T23:17:26.140407Z",
     "iopub.status.idle": "2025-05-31T23:17:26.151482Z",
     "shell.execute_reply": "2025-05-31T23:17:26.150659Z"
    },
    "papermill": {
     "duration": 0.022136,
     "end_time": "2025-05-31T23:17:26.152921",
     "exception": false,
     "start_time": "2025-05-31T23:17:26.130785",
     "status": "completed"
    },
    "tags": []
   },
   "outputs": [
    {
     "data": {
      "text/plain": [
       "PassengerId    0\n",
       "Pclass         0\n",
       "Name           0\n",
       "Sex            0\n",
       "Age            0\n",
       "SibSp          0\n",
       "Parch          0\n",
       "Ticket         0\n",
       "Fare           0\n",
       "Cabin          0\n",
       "Embarked       0\n",
       "dtype: int64"
      ]
     },
     "execution_count": 13,
     "metadata": {},
     "output_type": "execute_result"
    }
   ],
   "source": [
    "test_df[\"Age\"].fillna(mean_age, inplace=True)\n",
    "test_df[\"Fare\"].fillna(median_fare, inplace=True)\n",
    "test_df[\"Embarked\"].fillna(most_common_port, inplace=True)\n",
    "test_df[\"Cabin\"].fillna(\"Unavailable\", inplace=True)\n",
    "\n",
    "test_df.isna().sum()"
   ]
  },
  {
   "cell_type": "code",
   "execution_count": 14,
   "id": "e783f521",
   "metadata": {
    "execution": {
     "iopub.execute_input": "2025-05-31T23:17:26.169100Z",
     "iopub.status.busy": "2025-05-31T23:17:26.168197Z",
     "iopub.status.idle": "2025-05-31T23:17:26.185178Z",
     "shell.execute_reply": "2025-05-31T23:17:26.182699Z"
    },
    "papermill": {
     "duration": 0.026994,
     "end_time": "2025-05-31T23:17:26.187016",
     "exception": false,
     "start_time": "2025-05-31T23:17:26.160022",
     "status": "completed"
    },
    "tags": []
   },
   "outputs": [
    {
     "data": {
      "text/plain": [
       "0"
      ]
     },
     "execution_count": 14,
     "metadata": {},
     "output_type": "execute_result"
    }
   ],
   "source": [
    "train_df.duplicated().sum()"
   ]
  },
  {
   "cell_type": "markdown",
   "id": "7993a44a",
   "metadata": {
    "papermill": {
     "duration": 0.011662,
     "end_time": "2025-05-31T23:17:26.211115",
     "exception": false,
     "start_time": "2025-05-31T23:17:26.199453",
     "status": "completed"
    },
    "tags": []
   },
   "source": [
    "Data Visualizations\n",
    "="
   ]
  },
  {
   "cell_type": "code",
   "execution_count": 15,
   "id": "fc195650",
   "metadata": {
    "execution": {
     "iopub.execute_input": "2025-05-31T23:17:26.236393Z",
     "iopub.status.busy": "2025-05-31T23:17:26.236096Z",
     "iopub.status.idle": "2025-05-31T23:17:28.109690Z",
     "shell.execute_reply": "2025-05-31T23:17:28.108752Z"
    },
    "papermill": {
     "duration": 1.88823,
     "end_time": "2025-05-31T23:17:28.111460",
     "exception": false,
     "start_time": "2025-05-31T23:17:26.223230",
     "status": "completed"
    },
    "tags": []
   },
   "outputs": [],
   "source": [
    "import seaborn as sns\n",
    "import matplotlib.pyplot as plt"
   ]
  },
  {
   "cell_type": "code",
   "execution_count": 16,
   "id": "fb241aef",
   "metadata": {
    "execution": {
     "iopub.execute_input": "2025-05-31T23:17:28.127002Z",
     "iopub.status.busy": "2025-05-31T23:17:28.126262Z",
     "iopub.status.idle": "2025-05-31T23:17:28.130188Z",
     "shell.execute_reply": "2025-05-31T23:17:28.129493Z"
    },
    "papermill": {
     "duration": 0.012973,
     "end_time": "2025-05-31T23:17:28.131481",
     "exception": false,
     "start_time": "2025-05-31T23:17:28.118508",
     "status": "completed"
    },
    "tags": []
   },
   "outputs": [],
   "source": [
    "# for col in train_df.columns:\n",
    "#     if col != \"Survived\":\n",
    "#         sns.histplot(train_df[train_df[\"Survived\"]==1][col], color=\"tab:blue\")\n",
    "#         sns.histplot(train_df[train_df[\"Survived\"]==0][col], color=\"tab:red\")\n",
    "\n",
    "#         plt.xlabel(col)\n",
    "#         plt.ylabel(\"Count\")\n",
    "#         plt.title(f\"{col} vs. Count\")\n",
    "        \n",
    "#         plt.tight_layout()\n",
    "#         plt.show()"
   ]
  },
  {
   "cell_type": "code",
   "execution_count": 17,
   "id": "7dac79ad",
   "metadata": {
    "execution": {
     "iopub.execute_input": "2025-05-31T23:17:28.146459Z",
     "iopub.status.busy": "2025-05-31T23:17:28.146160Z",
     "iopub.status.idle": "2025-05-31T23:17:42.325196Z",
     "shell.execute_reply": "2025-05-31T23:17:42.324412Z"
    },
    "papermill": {
     "duration": 14.188259,
     "end_time": "2025-05-31T23:17:42.326672",
     "exception": false,
     "start_time": "2025-05-31T23:17:28.138413",
     "status": "completed"
    },
    "tags": []
   },
   "outputs": [
    {
     "data": {
      "image/png": "[encoded data removed]",
      "text/plain": [
       "<Figure size 640x480 with 1 Axes>"
      ]
     },
     "metadata": {},
     "output_type": "display_data"
    },
    {
     "data": {
      "image/png": "[encoded data removed]",
      "text/plain": [
       "<Figure size 640x480 with 1 Axes>"
      ]
     },
     "metadata": {},
     "output_type": "display_data"
    },
    {
     "data": {
      "image/png": "[encoded data removed]",
      "text/plain": [
       "<Figure size 640x480 with 1 Axes>"
      ]
     },
     "metadata": {},
     "output_type": "display_data"
    },
    {
     "data": {
      "image/png": "[encoded data removed]",
      "text/plain": [
       "<Figure size 640x480 with 1 Axes>"
      ]
     },
     "metadata": {},
     "output_type": "display_data"
    },
    {
     "data": {
      "image/png": "[encoded data removed]",
      "text/plain": [
       "<Figure size 640x480 with 1 Axes>"
      ]
     },
     "metadata": {},
     "output_type": "display_data"
    },
    {
     "data": {
      "image/png": "[encoded data removed]",
      "text/plain": [
       "<Figure size 640x480 with 1 Axes>"
      ]
     },
     "metadata": {},
     "output_type": "display_data"
    },
    {
     "data": {
      "image/png": "[encoded data removed]",
      "text/plain": [
       "<Figure size 640x480 with 1 Axes>"
      ]
     },
     "metadata": {},
     "output_type": "display_data"
    },
    {
     "data": {
      "image/png": "[encoded data removed]",
      "text/plain": [
       "<Figure size 640x480 with 1 Axes>"
      ]
     },
     "metadata": {},
     "output_type": "display_data"
    },
    {
     "data": {
      "image/png": "[encoded data removed]",
      "text/plain": [
       "<Figure size 640x480 with 1 Axes>"
      ]
     },
     "metadata": {},
     "output_type": "display_data"
    },
    {
     "data": {
      "image/png": "[encoded data removed]",
      "text/plain": [
       "<Figure size 640x480 with 1 Axes>"
      ]
     },
     "metadata": {},
     "output_type": "display_data"
    },
    {
     "data": {
      "image/png": "[encoded data removed]",
      "text/plain": [
       "<Figure size 640x480 with 1 Axes>"
      ]
     },
     "metadata": {},
     "output_type": "display_data"
    }
   ],
   "source": [
    "# 0 for dead (red)\n",
    "# 1 for alive (blue)\n",
    "for col in train_df.columns:\n",
    "    if col != \"Survived\":\n",
    "        # parameters to consider\n",
    "        # stat=\"density\" -> compare in shape\n",
    "        # alpha -> values between 0 and 1\n",
    "        \n",
    "        sns.histplot(train_df[train_df[\"Survived\"]==1][col], color=\"tab:blue\", stat=\"density\")\n",
    "        sns.histplot(train_df[train_df[\"Survived\"]==0][col], color=\"tab:red\", stat=\"density\")\n",
    "\n",
    "        plt.xlabel(col)\n",
    "        plt.ylabel(\"Count\")\n",
    "        plt.title(f\"{col} vs. Count\")\n",
    "        \n",
    "        plt.tight_layout()\n",
    "        plt.show()"
   ]
  },
  {
   "cell_type": "markdown",
   "id": "49a10077",
   "metadata": {
    "papermill": {
     "duration": 0.01056,
     "end_time": "2025-05-31T23:17:42.348846",
     "exception": false,
     "start_time": "2025-05-31T23:17:42.338286",
     "status": "completed"
    },
    "tags": []
   },
   "source": [
    "We plot each graph and normalize the data by setting the stat parameter to density for easier comparisons.\n",
    "\n",
    "From the graphs above, there seems to be a significant number of deaths of people who were in 3rd class, male, middle-aged, and had no siblings or spouses aboard."
   ]
  },
  {
   "cell_type": "markdown",
   "id": "d4bd8a73",
   "metadata": {
    "papermill": {
     "duration": 0.011365,
     "end_time": "2025-05-31T23:17:42.371238",
     "exception": false,
     "start_time": "2025-05-31T23:17:42.359873",
     "status": "completed"
    },
    "tags": []
   },
   "source": [
    "Modeling\n",
    "="
   ]
  },
  {
   "cell_type": "code",
   "execution_count": 18,
   "id": "226c784c",
   "metadata": {
    "execution": {
     "iopub.execute_input": "2025-05-31T23:17:42.394183Z",
     "iopub.status.busy": "2025-05-31T23:17:42.393866Z",
     "iopub.status.idle": "2025-05-31T23:17:43.046860Z",
     "shell.execute_reply": "2025-05-31T23:17:43.046087Z"
    },
    "papermill": {
     "duration": 0.66649,
     "end_time": "2025-05-31T23:17:43.048462",
     "exception": false,
     "start_time": "2025-05-31T23:17:42.381972",
     "status": "completed"
    },
    "tags": []
   },
   "outputs": [],
   "source": [
    "# Preprocess categorical variables\n",
    "from sklearn.preprocessing import LabelEncoder\n",
    "\n",
    "# Split data into train and test data\n",
    "from sklearn.model_selection import train_test_split\n",
    "\n",
    "# Models to try\n",
    "from sklearn.ensemble import RandomForestClassifier, GradientBoostingClassifier\n",
    "from sklearn.neighbors import KNeighborsClassifier\n",
    "\n",
    "# Measurements\n",
    "from sklearn.metrics import mean_absolute_error\n",
    "from sklearn.metrics import accuracy_score\n",
    "\n",
    "from sklearn.compose import ColumnTransformer\n",
    "from sklearn.pipeline import Pipeline\n",
    "from sklearn.model_selection import cross_val_score"
   ]
  },
  {
   "cell_type": "code",
   "execution_count": 19,
   "id": "e594350a",
   "metadata": {
    "execution": {
     "iopub.execute_input": "2025-05-31T23:17:43.073007Z",
     "iopub.status.busy": "2025-05-31T23:17:43.072163Z",
     "iopub.status.idle": "2025-05-31T23:17:43.078184Z",
     "shell.execute_reply": "2025-05-31T23:17:43.077363Z"
    },
    "papermill": {
     "duration": 0.01988,
     "end_time": "2025-05-31T23:17:43.079574",
     "exception": false,
     "start_time": "2025-05-31T23:17:43.059694",
     "status": "completed"
    },
    "tags": []
   },
   "outputs": [],
   "source": [
    "def random_forest_model(x_train, x_val, y_train, y_val, total_trees=50, depth=5, random_state=18):\n",
    "    acc_scores = []\n",
    "    \n",
    "    for num_trees in range(50, total_trees + 1, 50):\n",
    "        model = RandomForestClassifier(n_estimators=num_trees, max_depth=depth, random_state=random_state)\n",
    "        model.fit(x_train, y_train)\n",
    "        \n",
    "        predictions = model.predict(x_val)\n",
    "        \n",
    "        acc_score = accuracy_score(y_val, predictions)\n",
    "        mae_score = mean_absolute_error(y_val, predictions)\n",
    "        \n",
    "        acc_scores.append({\n",
    "            \"Trees\": num_trees,\n",
    "            \"acc_score\": acc_score\n",
    "        })\n",
    "        # print(f\"On average, with n_estimators: {num_trees} we our predictions are off by about ${mae_score}\")\n",
    "\n",
    "\n",
    "\n",
    "    return acc_scores\n",
    "    "
   ]
  },
  {
   "cell_type": "code",
   "execution_count": 20,
   "id": "544510f6",
   "metadata": {
    "execution": {
     "iopub.execute_input": "2025-05-31T23:17:43.102837Z",
     "iopub.status.busy": "2025-05-31T23:17:43.102506Z",
     "iopub.status.idle": "2025-05-31T23:17:43.107814Z",
     "shell.execute_reply": "2025-05-31T23:17:43.107090Z"
    },
    "papermill": {
     "duration": 0.018776,
     "end_time": "2025-05-31T23:17:43.109333",
     "exception": false,
     "start_time": "2025-05-31T23:17:43.090557",
     "status": "completed"
    },
    "tags": []
   },
   "outputs": [],
   "source": [
    "models = {\n",
    "    \"Gradient Boosting\": GradientBoostingClassifier(),\n",
    "    \"KNN\" : KNeighborsClassifier()\n",
    "}\n",
    "def evaluate_models(x_train, x_val, y_train, y_val):\n",
    "    scores = []\n",
    "\n",
    "    for name, model in models.items():\n",
    "        model.fit(x_train, y_train)\n",
    "        predictions = model.predict(x_val)\n",
    "\n",
    "        score = accuracy_score(y_val, predictions)\n",
    "        scores.append((name, score))\n",
    "\n",
    "    return scores"
   ]
  },
  {
   "cell_type": "markdown",
   "id": "6447b6fa",
   "metadata": {
    "papermill": {
     "duration": 0.010624,
     "end_time": "2025-05-31T23:17:43.130839",
     "exception": false,
     "start_time": "2025-05-31T23:17:43.120215",
     "status": "completed"
    },
    "tags": []
   },
   "source": [
    "Modeling with no cross validation\n",
    "* Encode categorical values (Label Encoding)\n",
    "* From the graphs above, there seems to be a significant number of deaths of people who were in 3rd class, male, middle-aged, and had no siblings or spouses aboard."
   ]
  },
  {
   "cell_type": "code",
   "execution_count": 21,
   "id": "f1e17909",
   "metadata": {
    "execution": {
     "iopub.execute_input": "2025-05-31T23:17:43.154704Z",
     "iopub.status.busy": "2025-05-31T23:17:43.153868Z",
     "iopub.status.idle": "2025-05-31T23:17:43.159886Z",
     "shell.execute_reply": "2025-05-31T23:17:43.159248Z"
    },
    "papermill": {
     "duration": 0.01923,
     "end_time": "2025-05-31T23:17:43.161163",
     "exception": false,
     "start_time": "2025-05-31T23:17:43.141933",
     "status": "completed"
    },
    "tags": []
   },
   "outputs": [],
   "source": [
    "features = [\"Pclass\", \"Age\", \"SibSp\", \"Sex\"]\n",
    "target = [\"Survived\"]\n",
    "label_encoder = LabelEncoder()\n",
    "\n",
    "y_train = train_df[target]\n",
    "y_test = gender_submission_df[target]"
   ]
  },
  {
   "cell_type": "code",
   "execution_count": 22,
   "id": "6fcbebdf",
   "metadata": {
    "execution": {
     "iopub.execute_input": "2025-05-31T23:17:43.251709Z",
     "iopub.status.busy": "2025-05-31T23:17:43.250769Z",
     "iopub.status.idle": "2025-05-31T23:17:43.256229Z",
     "shell.execute_reply": "2025-05-31T23:17:43.255520Z"
    },
    "papermill": {
     "duration": 0.085592,
     "end_time": "2025-05-31T23:17:43.257616",
     "exception": false,
     "start_time": "2025-05-31T23:17:43.172024",
     "status": "completed"
    },
    "tags": []
   },
   "outputs": [],
   "source": [
    "train_df.drop(columns=\"Survived\", axis=1, inplace=True)"
   ]
  },
  {
   "cell_type": "code",
   "execution_count": 23,
   "id": "cfec2b4e",
   "metadata": {
    "execution": {
     "iopub.execute_input": "2025-05-31T23:17:43.281291Z",
     "iopub.status.busy": "2025-05-31T23:17:43.280924Z",
     "iopub.status.idle": "2025-05-31T23:17:43.295810Z",
     "shell.execute_reply": "2025-05-31T23:17:43.295088Z"
    },
    "papermill": {
     "duration": 0.028465,
     "end_time": "2025-05-31T23:17:43.297285",
     "exception": false,
     "start_time": "2025-05-31T23:17:43.268820",
     "status": "completed"
    },
    "tags": []
   },
   "outputs": [
    {
     "data": {
      "text/html": [
       "<div>\n",
       "<style scoped>\n",
       "    .dataframe tbody tr th:only-of-type {\n",
       "        vertical-align: middle;\n",
       "    }\n",
       "\n",
       "    .dataframe tbody tr th {\n",
       "        vertical-align: top;\n",
       "    }\n",
       "\n",
       "    .dataframe thead th {\n",
       "        text-align: right;\n",
       "    }\n",
       "</style>\n",
       "<table border=\"1\" class=\"dataframe\">\n",
       "  <thead>\n",
       "    <tr style=\"text-align: right;\">\n",
       "      <th></th>\n",
       "      <th>PassengerId</th>\n",
       "      <th>Pclass</th>\n",
       "      <th>Name</th>\n",
       "      <th>Sex</th>\n",
       "      <th>Age</th>\n",
       "      <th>SibSp</th>\n",
       "      <th>Parch</th>\n",
       "      <th>Ticket</th>\n",
       "      <th>Fare</th>\n",
       "      <th>Cabin</th>\n",
       "      <th>Embarked</th>\n",
       "    </tr>\n",
       "  </thead>\n",
       "  <tbody>\n",
       "    <tr>\n",
       "      <th>0</th>\n",
       "      <td>1</td>\n",
       "      <td>3</td>\n",
       "      <td>Braund, Mr. Owen Harris</td>\n",
       "      <td>male</td>\n",
       "      <td>22.0</td>\n",
       "      <td>1</td>\n",
       "      <td>0</td>\n",
       "      <td>A/5 21171</td>\n",
       "      <td>7.2500</td>\n",
       "      <td>Unavailable</td>\n",
       "      <td>S</td>\n",
       "    </tr>\n",
       "    <tr>\n",
       "      <th>1</th>\n",
       "      <td>2</td>\n",
       "      <td>1</td>\n",
       "      <td>Cumings, Mrs. John Bradley (Florence Briggs Th...</td>\n",
       "      <td>female</td>\n",
       "      <td>38.0</td>\n",
       "      <td>1</td>\n",
       "      <td>0</td>\n",
       "      <td>PC 17599</td>\n",
       "      <td>71.2833</td>\n",
       "      <td>C85</td>\n",
       "      <td>C</td>\n",
       "    </tr>\n",
       "    <tr>\n",
       "      <th>2</th>\n",
       "      <td>3</td>\n",
       "      <td>3</td>\n",
       "      <td>Heikkinen, Miss. Laina</td>\n",
       "      <td>female</td>\n",
       "      <td>26.0</td>\n",
       "      <td>0</td>\n",
       "      <td>0</td>\n",
       "      <td>STON/O2. 3101282</td>\n",
       "      <td>7.9250</td>\n",
       "      <td>Unavailable</td>\n",
       "      <td>S</td>\n",
       "    </tr>\n",
       "  </tbody>\n",
       "</table>\n",
       "</div>"
      ],
      "text/plain": [
       "   PassengerId  Pclass                                               Name  \\\n",
       "0            1       3                            Braund, Mr. Owen Harris   \n",
       "1            2       1  Cumings, Mrs. John Bradley (Florence Briggs Th...   \n",
       "2            3       3                             Heikkinen, Miss. Laina   \n",
       "\n",
       "      Sex   Age  SibSp  Parch            Ticket     Fare        Cabin Embarked  \n",
       "0    male  22.0      1      0         A/5 21171   7.2500  Unavailable        S  \n",
       "1  female  38.0      1      0          PC 17599  71.2833          C85        C  \n",
       "2  female  26.0      0      0  STON/O2. 3101282   7.9250  Unavailable        S  "
      ]
     },
     "execution_count": 23,
     "metadata": {},
     "output_type": "execute_result"
    }
   ],
   "source": [
    "combined_df = pd.concat([train_df, test_df], axis=0)\n",
    "combined_df.reset_index(drop=True, inplace=True)\n",
    "\n",
    "combined_df.head(3)"
   ]
  },
  {
   "cell_type": "code",
   "execution_count": 24,
   "id": "fd29ea27",
   "metadata": {
    "execution": {
     "iopub.execute_input": "2025-05-31T23:17:43.320900Z",
     "iopub.status.busy": "2025-05-31T23:17:43.320600Z",
     "iopub.status.idle": "2025-05-31T23:17:43.325892Z",
     "shell.execute_reply": "2025-05-31T23:17:43.324993Z"
    },
    "papermill": {
     "duration": 0.018647,
     "end_time": "2025-05-31T23:17:43.327341",
     "exception": false,
     "start_time": "2025-05-31T23:17:43.308694",
     "status": "completed"
    },
    "tags": []
   },
   "outputs": [],
   "source": [
    "# combined_df[\"Sex\"] = label_encoder.fit_transform(combined_df[\"Sex\"])\n",
    "combined_df_encoded = combined_df[\"Sex\"].map({\"male\": 0, \"female\": 1})"
   ]
  },
  {
   "cell_type": "code",
   "execution_count": 25,
   "id": "6524bc50",
   "metadata": {
    "execution": {
     "iopub.execute_input": "2025-05-31T23:17:43.350852Z",
     "iopub.status.busy": "2025-05-31T23:17:43.350192Z",
     "iopub.status.idle": "2025-05-31T23:17:43.356300Z",
     "shell.execute_reply": "2025-05-31T23:17:43.355566Z"
    },
    "papermill": {
     "duration": 0.019269,
     "end_time": "2025-05-31T23:17:43.357776",
     "exception": false,
     "start_time": "2025-05-31T23:17:43.338507",
     "status": "completed"
    },
    "tags": []
   },
   "outputs": [
    {
     "data": {
      "text/plain": [
       "0       0\n",
       "1       1\n",
       "2       1\n",
       "3       1\n",
       "4       0\n",
       "       ..\n",
       "1304    0\n",
       "1305    1\n",
       "1306    0\n",
       "1307    0\n",
       "1308    0\n",
       "Name: Sex, Length: 1309, dtype: int64"
      ]
     },
     "execution_count": 25,
     "metadata": {},
     "output_type": "execute_result"
    }
   ],
   "source": [
    "combined_df_encoded"
   ]
  },
  {
   "cell_type": "code",
   "execution_count": 26,
   "id": "a4ed94da",
   "metadata": {
    "execution": {
     "iopub.execute_input": "2025-05-31T23:17:43.381870Z",
     "iopub.status.busy": "2025-05-31T23:17:43.381512Z",
     "iopub.status.idle": "2025-05-31T23:17:43.393828Z",
     "shell.execute_reply": "2025-05-31T23:17:43.393099Z"
    },
    "papermill": {
     "duration": 0.026257,
     "end_time": "2025-05-31T23:17:43.395165",
     "exception": false,
     "start_time": "2025-05-31T23:17:43.368908",
     "status": "completed"
    },
    "tags": []
   },
   "outputs": [
    {
     "data": {
      "text/html": [
       "<div>\n",
       "<style scoped>\n",
       "    .dataframe tbody tr th:only-of-type {\n",
       "        vertical-align: middle;\n",
       "    }\n",
       "\n",
       "    .dataframe tbody tr th {\n",
       "        vertical-align: top;\n",
       "    }\n",
       "\n",
       "    .dataframe thead th {\n",
       "        text-align: right;\n",
       "    }\n",
       "</style>\n",
       "<table border=\"1\" class=\"dataframe\">\n",
       "  <thead>\n",
       "    <tr style=\"text-align: right;\">\n",
       "      <th></th>\n",
       "      <th>PassengerId</th>\n",
       "      <th>Pclass</th>\n",
       "      <th>Name</th>\n",
       "      <th>Sex</th>\n",
       "      <th>Age</th>\n",
       "      <th>SibSp</th>\n",
       "      <th>Parch</th>\n",
       "      <th>Ticket</th>\n",
       "      <th>Fare</th>\n",
       "      <th>Cabin</th>\n",
       "      <th>Embarked</th>\n",
       "    </tr>\n",
       "  </thead>\n",
       "  <tbody>\n",
       "    <tr>\n",
       "      <th>0</th>\n",
       "      <td>1</td>\n",
       "      <td>3</td>\n",
       "      <td>Braund, Mr. Owen Harris</td>\n",
       "      <td>0</td>\n",
       "      <td>22.0</td>\n",
       "      <td>1</td>\n",
       "      <td>0</td>\n",
       "      <td>A/5 21171</td>\n",
       "      <td>7.2500</td>\n",
       "      <td>Unavailable</td>\n",
       "      <td>S</td>\n",
       "    </tr>\n",
       "    <tr>\n",
       "      <th>1</th>\n",
       "      <td>2</td>\n",
       "      <td>1</td>\n",
       "      <td>Cumings, Mrs. John Bradley (Florence Briggs Th...</td>\n",
       "      <td>1</td>\n",
       "      <td>38.0</td>\n",
       "      <td>1</td>\n",
       "      <td>0</td>\n",
       "      <td>PC 17599</td>\n",
       "      <td>71.2833</td>\n",
       "      <td>C85</td>\n",
       "      <td>C</td>\n",
       "    </tr>\n",
       "    <tr>\n",
       "      <th>2</th>\n",
       "      <td>3</td>\n",
       "      <td>3</td>\n",
       "      <td>Heikkinen, Miss. Laina</td>\n",
       "      <td>1</td>\n",
       "      <td>26.0</td>\n",
       "      <td>0</td>\n",
       "      <td>0</td>\n",
       "      <td>STON/O2. 3101282</td>\n",
       "      <td>7.9250</td>\n",
       "      <td>Unavailable</td>\n",
       "      <td>S</td>\n",
       "    </tr>\n",
       "  </tbody>\n",
       "</table>\n",
       "</div>"
      ],
      "text/plain": [
       "   PassengerId  Pclass                                               Name  \\\n",
       "0            1       3                            Braund, Mr. Owen Harris   \n",
       "1            2       1  Cumings, Mrs. John Bradley (Florence Briggs Th...   \n",
       "2            3       3                             Heikkinen, Miss. Laina   \n",
       "\n",
       "   Sex   Age  SibSp  Parch            Ticket     Fare        Cabin Embarked  \n",
       "0    0  22.0      1      0         A/5 21171   7.2500  Unavailable        S  \n",
       "1    1  38.0      1      0          PC 17599  71.2833          C85        C  \n",
       "2    1  26.0      0      0  STON/O2. 3101282   7.9250  Unavailable        S  "
      ]
     },
     "execution_count": 26,
     "metadata": {},
     "output_type": "execute_result"
    }
   ],
   "source": [
    "combined_df[\"Sex\"] = combined_df_encoded\n",
    "combined_df.head(3)"
   ]
  },
  {
   "cell_type": "code",
   "execution_count": 27,
   "id": "b9333d5c",
   "metadata": {
    "execution": {
     "iopub.execute_input": "2025-05-31T23:17:43.419173Z",
     "iopub.status.busy": "2025-05-31T23:17:43.418837Z",
     "iopub.status.idle": "2025-05-31T23:17:43.660617Z",
     "shell.execute_reply": "2025-05-31T23:17:43.659737Z"
    },
    "papermill": {
     "duration": 0.255759,
     "end_time": "2025-05-31T23:17:43.662169",
     "exception": false,
     "start_time": "2025-05-31T23:17:43.406410",
     "status": "completed"
    },
    "tags": []
   },
   "outputs": [],
   "source": [
    "x_train = combined_df[features].iloc[:891]\n",
    "x_test = combined_df[features].iloc[891:]"
   ]
  },
  {
   "cell_type": "code",
   "execution_count": 28,
   "id": "de1f14c1",
   "metadata": {
    "execution": {
     "iopub.execute_input": "2025-05-31T23:17:43.688346Z",
     "iopub.status.busy": "2025-05-31T23:17:43.687990Z",
     "iopub.status.idle": "2025-05-31T23:18:24.255945Z",
     "shell.execute_reply": "2025-05-31T23:18:24.254970Z"
    },
    "papermill": {
     "duration": 40.582214,
     "end_time": "2025-05-31T23:18:24.257823",
     "exception": false,
     "start_time": "2025-05-31T23:17:43.675609",
     "status": "completed"
    },
    "tags": []
   },
   "outputs": [],
   "source": [
    "random_forest_scores = random_forest_model(x_train, x_test, \n",
    "                                           y_train, y_test,\n",
    "                                           total_trees=1500, depth=10)\n",
    "acc_score_df = pd.DataFrame(random_forest_scores)"
   ]
  },
  {
   "cell_type": "code",
   "execution_count": 29,
   "id": "3b8d87b6",
   "metadata": {
    "execution": {
     "iopub.execute_input": "2025-05-31T23:18:24.281978Z",
     "iopub.status.busy": "2025-05-31T23:18:24.281663Z",
     "iopub.status.idle": "2025-05-31T23:18:24.524437Z",
     "shell.execute_reply": "2025-05-31T23:18:24.523460Z"
    },
    "papermill": {
     "duration": 0.256538,
     "end_time": "2025-05-31T23:18:24.526140",
     "exception": false,
     "start_time": "2025-05-31T23:18:24.269602",
     "status": "completed"
    },
    "tags": []
   },
   "outputs": [
    {
     "data": {
      "image/png": "[encoded data removed]",
      "text/plain": [
       "<Figure size 1000x600 with 1 Axes>"
      ]
     },
     "metadata": {},
     "output_type": "display_data"
    }
   ],
   "source": [
    "plt.figure(figsize=(10, 6))\n",
    "plt.plot(acc_score_df['Trees'], acc_score_df['acc_score'], marker='o', linestyle='-')\n",
    "plt.title('Random Forest Model Performance (Accuracy Score)')\n",
    "plt.xlabel('Trees')\n",
    "plt.ylabel('Accuracy Score')\n",
    "plt.xticks(rotation=45)\n",
    "plt.grid(True)\n",
    "plt.tight_layout()\n",
    "plt.show()"
   ]
  },
  {
   "cell_type": "code",
   "execution_count": 30,
   "id": "6dda6eea",
   "metadata": {
    "execution": {
     "iopub.execute_input": "2025-05-31T23:18:24.553567Z",
     "iopub.status.busy": "2025-05-31T23:18:24.553242Z",
     "iopub.status.idle": "2025-05-31T23:18:24.688923Z",
     "shell.execute_reply": "2025-05-31T23:18:24.688165Z"
    },
    "papermill": {
     "duration": 0.15124,
     "end_time": "2025-05-31T23:18:24.690594",
     "exception": false,
     "start_time": "2025-05-31T23:18:24.539354",
     "status": "completed"
    },
    "tags": []
   },
   "outputs": [],
   "source": [
    "evaluation_models_scores = evaluate_models(x_train, x_test, y_train, y_test,)"
   ]
  },
  {
   "cell_type": "code",
   "execution_count": 31,
   "id": "f40644d9",
   "metadata": {
    "execution": {
     "iopub.execute_input": "2025-05-31T23:18:24.716625Z",
     "iopub.status.busy": "2025-05-31T23:18:24.715969Z",
     "iopub.status.idle": "2025-05-31T23:18:24.721601Z",
     "shell.execute_reply": "2025-05-31T23:18:24.720770Z"
    },
    "papermill": {
     "duration": 0.020144,
     "end_time": "2025-05-31T23:18:24.722925",
     "exception": false,
     "start_time": "2025-05-31T23:18:24.702781",
     "status": "completed"
    },
    "tags": []
   },
   "outputs": [
    {
     "data": {
      "text/plain": [
       "[('Gradient Boosting', 0.9234449760765551), ('KNN', 0.80622009569378)]"
      ]
     },
     "execution_count": 31,
     "metadata": {},
     "output_type": "execute_result"
    }
   ],
   "source": [
    "evaluation_models_scores"
   ]
  },
  {
   "cell_type": "markdown",
   "id": "6b4a634f",
   "metadata": {
    "papermill": {
     "duration": 0.012339,
     "end_time": "2025-05-31T23:18:24.747855",
     "exception": false,
     "start_time": "2025-05-31T23:18:24.735516",
     "status": "completed"
    },
    "tags": []
   },
   "source": [
    "Things I've learned\n",
    "="
   ]
  },
  {
   "cell_type": "markdown",
   "id": "c1068f7d",
   "metadata": {
    "papermill": {
     "duration": 0.011958,
     "end_time": "2025-05-31T23:18:24.772219",
     "exception": false,
     "start_time": "2025-05-31T23:18:24.760261",
     "status": "completed"
    },
    "tags": []
   },
   "source": [
    "* I've learned the difference between a RandomForestRegressor and RandomForestClassifier... the hard way.\n",
    "* For the task at hand, the classifier model was more appropriate. I was suppose to build a model based on classifying to predict categories rather than predicting continuous variables.\n",
    "* Other classification models that were considered are KNN and GradientBoosting\n",
    "* What I really appreciate about learning new material are the failures. It took me a few days, spread out in between, to figure out why I was getting low accuracy scores. That was because I was using the wrong metric, mean_absolute_error, which is more appropriate for regression. I did some research and found that accuracy_score is more appropriate to evaluate classification models."
   ]
  }
 ],
 "metadata": {
  "kaggle": {
   "accelerator": "none",
   "dataSources": [
    {
     "databundleVersionId": 26502,
     "sourceId": 3136,
     "sourceType": "competition"
    }
   ],
   "dockerImageVersionId": 31040,
   "isGpuEnabled": false,
   "isInternetEnabled": false,
   "language": "python",
   "sourceType": "notebook"
  },
  "kernelspec": {
   "display_name": "Python 3",
   "language": "python",
   "name": "python3"
  },
  "language_info": {
   "codemirror_mode": {
    "name": "ipython",
    "version": 3
   },
   "file_extension": ".py",
   "mimetype": "text/x-python",
   "name": "python",
   "nbconvert_exporter": "python",
   "pygments_lexer": "ipython3",
   "version": "3.11.11"
  },
  "papermill": {
   "default_parameters": {},
   "duration": 66.338858,
   "end_time": "2025-05-31T23:18:25.607178",
   "environment_variables": {},
   "exception": null,
   "input_path": "__notebook__.ipynb",
   "output_path": "__notebook__.ipynb",
   "parameters": {},
   "start_time": "2025-05-31T23:17:19.268320",
   "version": "2.6.0"
  }
 },
 "nbformat": 4,
 "nbformat_minor": 5
}
