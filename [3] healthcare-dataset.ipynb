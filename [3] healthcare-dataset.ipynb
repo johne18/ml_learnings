{
 "cells": [
  {
   "cell_type": "code",
   "execution_count": 1,
   "id": "48a7819a",
   "metadata": {
    "_cell_guid": "b1076dfc-b9ad-4769-8c92-a6c4dae69d19",
    "_uuid": "8f2839f25d086af736a60e9eeb907d3b93b6e0e5",
    "execution": {
     "iopub.execute_input": "2025-07-07T00:25:48.630297Z",
     "iopub.status.busy": "2025-07-07T00:25:48.629972Z",
     "iopub.status.idle": "2025-07-07T00:25:50.569132Z",
     "shell.execute_reply": "2025-07-07T00:25:50.568150Z"
    },
    "papermill": {
     "duration": 1.947511,
     "end_time": "2025-07-07T00:25:50.570675",
     "exception": false,
     "start_time": "2025-07-07T00:25:48.623164",
     "status": "completed"
    },
    "tags": []
   },
   "outputs": [
    {
     "name": "stdout",
     "output_type": "stream",
     "text": [
      "/kaggle/input/healthcare-dataset/healthcare_dataset.csv\n"
     ]
    }
   ],
   "source": [
    "import warnings\n",
    "warnings.filterwarnings(\"ignore\")\n",
    "import numpy as np\n",
    "import pandas as pd \n",
    "\n",
    "import os\n",
    "for dirname, _, filenames in os.walk('/kaggle/input'):\n",
    "    for filename in filenames:\n",
    "        print(os.path.join(dirname, filename))"
   ]
  },
  {
   "cell_type": "code",
   "execution_count": 2,
   "id": "5ec6d6b8",
   "metadata": {
    "execution": {
     "iopub.execute_input": "2025-07-07T00:25:50.582601Z",
     "iopub.status.busy": "2025-07-07T00:25:50.582182Z",
     "iopub.status.idle": "2025-07-07T00:25:50.998009Z",
     "shell.execute_reply": "2025-07-07T00:25:50.996758Z"
    },
    "papermill": {
     "duration": 0.424132,
     "end_time": "2025-07-07T00:25:51.000205",
     "exception": false,
     "start_time": "2025-07-07T00:25:50.576073",
     "status": "completed"
    },
    "tags": []
   },
   "outputs": [],
   "source": [
    "df = pd.read_csv(\"/kaggle/input/healthcare-dataset/healthcare_dataset.csv\")"
   ]
  },
  {
   "cell_type": "code",
   "execution_count": 3,
   "id": "e03b816a",
   "metadata": {
    "execution": {
     "iopub.execute_input": "2025-07-07T00:25:51.013692Z",
     "iopub.status.busy": "2025-07-07T00:25:51.013311Z",
     "iopub.status.idle": "2025-07-07T00:25:51.045532Z",
     "shell.execute_reply": "2025-07-07T00:25:51.044685Z"
    },
    "papermill": {
     "duration": 0.039645,
     "end_time": "2025-07-07T00:25:51.046904",
     "exception": false,
     "start_time": "2025-07-07T00:25:51.007259",
     "status": "completed"
    },
    "tags": []
   },
   "outputs": [
    {
     "data": {
      "text/html": [
       "<div>\n",
       "<style scoped>\n",
       "    .dataframe tbody tr th:only-of-type {\n",
       "        vertical-align: middle;\n",
       "    }\n",
       "\n",
       "    .dataframe tbody tr th {\n",
       "        vertical-align: top;\n",
       "    }\n",
       "\n",
       "    .dataframe thead th {\n",
       "        text-align: right;\n",
       "    }\n",
       "</style>\n",
       "<table border=\"1\" class=\"dataframe\">\n",
       "  <thead>\n",
       "    <tr style=\"text-align: right;\">\n",
       "      <th></th>\n",
       "      <th>Name</th>\n",
       "      <th>Age</th>\n",
       "      <th>Gender</th>\n",
       "      <th>Blood Type</th>\n",
       "      <th>Medical Condition</th>\n",
       "      <th>Date of Admission</th>\n",
       "      <th>Doctor</th>\n",
       "      <th>Hospital</th>\n",
       "      <th>Insurance Provider</th>\n",
       "      <th>Billing Amount</th>\n",
       "      <th>Room Number</th>\n",
       "      <th>Admission Type</th>\n",
       "      <th>Discharge Date</th>\n",
       "      <th>Medication</th>\n",
       "      <th>Test Results</th>\n",
       "    </tr>\n",
       "  </thead>\n",
       "  <tbody>\n",
       "    <tr>\n",
       "      <th>0</th>\n",
       "      <td>Bobby JacksOn</td>\n",
       "      <td>30</td>\n",
       "      <td>Male</td>\n",
       "      <td>B-</td>\n",
       "      <td>Cancer</td>\n",
       "      <td>2024-01-31</td>\n",
       "      <td>Matthew Smith</td>\n",
       "      <td>Sons and Miller</td>\n",
       "      <td>Blue Cross</td>\n",
       "      <td>18856.281306</td>\n",
       "      <td>328</td>\n",
       "      <td>Urgent</td>\n",
       "      <td>2024-02-02</td>\n",
       "      <td>Paracetamol</td>\n",
       "      <td>Normal</td>\n",
       "    </tr>\n",
       "    <tr>\n",
       "      <th>1</th>\n",
       "      <td>LesLie TErRy</td>\n",
       "      <td>62</td>\n",
       "      <td>Male</td>\n",
       "      <td>A+</td>\n",
       "      <td>Obesity</td>\n",
       "      <td>2019-08-20</td>\n",
       "      <td>Samantha Davies</td>\n",
       "      <td>Kim Inc</td>\n",
       "      <td>Medicare</td>\n",
       "      <td>33643.327287</td>\n",
       "      <td>265</td>\n",
       "      <td>Emergency</td>\n",
       "      <td>2019-08-26</td>\n",
       "      <td>Ibuprofen</td>\n",
       "      <td>Inconclusive</td>\n",
       "    </tr>\n",
       "    <tr>\n",
       "      <th>2</th>\n",
       "      <td>DaNnY sMitH</td>\n",
       "      <td>76</td>\n",
       "      <td>Female</td>\n",
       "      <td>A-</td>\n",
       "      <td>Obesity</td>\n",
       "      <td>2022-09-22</td>\n",
       "      <td>Tiffany Mitchell</td>\n",
       "      <td>Cook PLC</td>\n",
       "      <td>Aetna</td>\n",
       "      <td>27955.096079</td>\n",
       "      <td>205</td>\n",
       "      <td>Emergency</td>\n",
       "      <td>2022-10-07</td>\n",
       "      <td>Aspirin</td>\n",
       "      <td>Normal</td>\n",
       "    </tr>\n",
       "    <tr>\n",
       "      <th>3</th>\n",
       "      <td>andrEw waTtS</td>\n",
       "      <td>28</td>\n",
       "      <td>Female</td>\n",
       "      <td>O+</td>\n",
       "      <td>Diabetes</td>\n",
       "      <td>2020-11-18</td>\n",
       "      <td>Kevin Wells</td>\n",
       "      <td>Hernandez Rogers and Vang,</td>\n",
       "      <td>Medicare</td>\n",
       "      <td>37909.782410</td>\n",
       "      <td>450</td>\n",
       "      <td>Elective</td>\n",
       "      <td>2020-12-18</td>\n",
       "      <td>Ibuprofen</td>\n",
       "      <td>Abnormal</td>\n",
       "    </tr>\n",
       "    <tr>\n",
       "      <th>4</th>\n",
       "      <td>adrIENNE bEll</td>\n",
       "      <td>43</td>\n",
       "      <td>Female</td>\n",
       "      <td>AB+</td>\n",
       "      <td>Cancer</td>\n",
       "      <td>2022-09-19</td>\n",
       "      <td>Kathleen Hanna</td>\n",
       "      <td>White-White</td>\n",
       "      <td>Aetna</td>\n",
       "      <td>14238.317814</td>\n",
       "      <td>458</td>\n",
       "      <td>Urgent</td>\n",
       "      <td>2022-10-09</td>\n",
       "      <td>Penicillin</td>\n",
       "      <td>Abnormal</td>\n",
       "    </tr>\n",
       "  </tbody>\n",
       "</table>\n",
       "</div>"
      ],
      "text/plain": [
       "            Name  Age  Gender Blood Type Medical Condition Date of Admission  \\\n",
       "0  Bobby JacksOn   30    Male         B-            Cancer        2024-01-31   \n",
       "1   LesLie TErRy   62    Male         A+           Obesity        2019-08-20   \n",
       "2    DaNnY sMitH   76  Female         A-           Obesity        2022-09-22   \n",
       "3   andrEw waTtS   28  Female         O+          Diabetes        2020-11-18   \n",
       "4  adrIENNE bEll   43  Female        AB+            Cancer        2022-09-19   \n",
       "\n",
       "             Doctor                    Hospital Insurance Provider  \\\n",
       "0     Matthew Smith             Sons and Miller         Blue Cross   \n",
       "1   Samantha Davies                     Kim Inc           Medicare   \n",
       "2  Tiffany Mitchell                    Cook PLC              Aetna   \n",
       "3       Kevin Wells  Hernandez Rogers and Vang,           Medicare   \n",
       "4    Kathleen Hanna                 White-White              Aetna   \n",
       "\n",
       "   Billing Amount  Room Number Admission Type Discharge Date   Medication  \\\n",
       "0    18856.281306          328         Urgent     2024-02-02  Paracetamol   \n",
       "1    33643.327287          265      Emergency     2019-08-26    Ibuprofen   \n",
       "2    27955.096079          205      Emergency     2022-10-07      Aspirin   \n",
       "3    37909.782410          450       Elective     2020-12-18    Ibuprofen   \n",
       "4    14238.317814          458         Urgent     2022-10-09   Penicillin   \n",
       "\n",
       "   Test Results  \n",
       "0        Normal  \n",
       "1  Inconclusive  \n",
       "2        Normal  \n",
       "3      Abnormal  \n",
       "4      Abnormal  "
      ]
     },
     "execution_count": 3,
     "metadata": {},
     "output_type": "execute_result"
    }
   ],
   "source": [
    "df.head(5)"
   ]
  },
  {
   "cell_type": "markdown",
   "id": "cb9db90a",
   "metadata": {
    "papermill": {
     "duration": 0.005071,
     "end_time": "2025-07-07T00:25:51.057079",
     "exception": false,
     "start_time": "2025-07-07T00:25:51.052008",
     "status": "completed"
    },
    "tags": []
   },
   "source": [
    "# EDA"
   ]
  },
  {
   "cell_type": "code",
   "execution_count": 4,
   "id": "007afab1",
   "metadata": {
    "execution": {
     "iopub.execute_input": "2025-07-07T00:25:51.069243Z",
     "iopub.status.busy": "2025-07-07T00:25:51.068881Z",
     "iopub.status.idle": "2025-07-07T00:25:51.078423Z",
     "shell.execute_reply": "2025-07-07T00:25:51.077589Z"
    },
    "papermill": {
     "duration": 0.018324,
     "end_time": "2025-07-07T00:25:51.080776",
     "exception": false,
     "start_time": "2025-07-07T00:25:51.062452",
     "status": "completed"
    },
    "tags": []
   },
   "outputs": [],
   "source": [
    "numerical_columns = df.select_dtypes(include=[\"int64\", \"float64\"])\n",
    "categorical_columns = df.select_dtypes(include=[\"object\"])"
   ]
  },
  {
   "cell_type": "code",
   "execution_count": 5,
   "id": "1f591f36",
   "metadata": {
    "execution": {
     "iopub.execute_input": "2025-07-07T00:25:51.092087Z",
     "iopub.status.busy": "2025-07-07T00:25:51.091718Z",
     "iopub.status.idle": "2025-07-07T00:25:51.127765Z",
     "shell.execute_reply": "2025-07-07T00:25:51.126720Z"
    },
    "papermill": {
     "duration": 0.043541,
     "end_time": "2025-07-07T00:25:51.129438",
     "exception": false,
     "start_time": "2025-07-07T00:25:51.085897",
     "status": "completed"
    },
    "tags": []
   },
   "outputs": [
    {
     "data": {
      "text/html": [
       "<div>\n",
       "<style scoped>\n",
       "    .dataframe tbody tr th:only-of-type {\n",
       "        vertical-align: middle;\n",
       "    }\n",
       "\n",
       "    .dataframe tbody tr th {\n",
       "        vertical-align: top;\n",
       "    }\n",
       "\n",
       "    .dataframe thead th {\n",
       "        text-align: right;\n",
       "    }\n",
       "</style>\n",
       "<table border=\"1\" class=\"dataframe\">\n",
       "  <thead>\n",
       "    <tr style=\"text-align: right;\">\n",
       "      <th></th>\n",
       "      <th>Age</th>\n",
       "      <th>Billing Amount</th>\n",
       "      <th>Room Number</th>\n",
       "    </tr>\n",
       "  </thead>\n",
       "  <tbody>\n",
       "    <tr>\n",
       "      <th>count</th>\n",
       "      <td>55500.000000</td>\n",
       "      <td>55500.000000</td>\n",
       "      <td>55500.000000</td>\n",
       "    </tr>\n",
       "    <tr>\n",
       "      <th>mean</th>\n",
       "      <td>51.539459</td>\n",
       "      <td>25539.316097</td>\n",
       "      <td>301.134829</td>\n",
       "    </tr>\n",
       "    <tr>\n",
       "      <th>std</th>\n",
       "      <td>19.602454</td>\n",
       "      <td>14211.454431</td>\n",
       "      <td>115.243069</td>\n",
       "    </tr>\n",
       "    <tr>\n",
       "      <th>min</th>\n",
       "      <td>13.000000</td>\n",
       "      <td>-2008.492140</td>\n",
       "      <td>101.000000</td>\n",
       "    </tr>\n",
       "    <tr>\n",
       "      <th>25%</th>\n",
       "      <td>35.000000</td>\n",
       "      <td>13241.224652</td>\n",
       "      <td>202.000000</td>\n",
       "    </tr>\n",
       "    <tr>\n",
       "      <th>50%</th>\n",
       "      <td>52.000000</td>\n",
       "      <td>25538.069376</td>\n",
       "      <td>302.000000</td>\n",
       "    </tr>\n",
       "    <tr>\n",
       "      <th>75%</th>\n",
       "      <td>68.000000</td>\n",
       "      <td>37820.508436</td>\n",
       "      <td>401.000000</td>\n",
       "    </tr>\n",
       "    <tr>\n",
       "      <th>max</th>\n",
       "      <td>89.000000</td>\n",
       "      <td>52764.276736</td>\n",
       "      <td>500.000000</td>\n",
       "    </tr>\n",
       "  </tbody>\n",
       "</table>\n",
       "</div>"
      ],
      "text/plain": [
       "                Age  Billing Amount   Room Number\n",
       "count  55500.000000    55500.000000  55500.000000\n",
       "mean      51.539459    25539.316097    301.134829\n",
       "std       19.602454    14211.454431    115.243069\n",
       "min       13.000000    -2008.492140    101.000000\n",
       "25%       35.000000    13241.224652    202.000000\n",
       "50%       52.000000    25538.069376    302.000000\n",
       "75%       68.000000    37820.508436    401.000000\n",
       "max       89.000000    52764.276736    500.000000"
      ]
     },
     "execution_count": 5,
     "metadata": {},
     "output_type": "execute_result"
    }
   ],
   "source": [
    "numerical_columns.describe()"
   ]
  },
  {
   "cell_type": "markdown",
   "id": "e311051f",
   "metadata": {
    "papermill": {
     "duration": 0.008414,
     "end_time": "2025-07-07T00:25:51.145844",
     "exception": false,
     "start_time": "2025-07-07T00:25:51.137430",
     "status": "completed"
    },
    "tags": []
   },
   "source": [
    "It seems that Age and Billing would be the only numerical columns that would help modeling since room number doesn't convey any medical or clinical meaning. Hopefully, doctors at any hospital treat everyone equally regardless of their room number :)"
   ]
  },
  {
   "cell_type": "code",
   "execution_count": 6,
   "id": "89b427c5",
   "metadata": {
    "execution": {
     "iopub.execute_input": "2025-07-07T00:25:51.163667Z",
     "iopub.status.busy": "2025-07-07T00:25:51.163253Z",
     "iopub.status.idle": "2025-07-07T00:25:51.368915Z",
     "shell.execute_reply": "2025-07-07T00:25:51.368038Z"
    },
    "papermill": {
     "duration": 0.215611,
     "end_time": "2025-07-07T00:25:51.370505",
     "exception": false,
     "start_time": "2025-07-07T00:25:51.154894",
     "status": "completed"
    },
    "tags": []
   },
   "outputs": [
    {
     "data": {
      "text/html": [
       "<div>\n",
       "<style scoped>\n",
       "    .dataframe tbody tr th:only-of-type {\n",
       "        vertical-align: middle;\n",
       "    }\n",
       "\n",
       "    .dataframe tbody tr th {\n",
       "        vertical-align: top;\n",
       "    }\n",
       "\n",
       "    .dataframe thead th {\n",
       "        text-align: right;\n",
       "    }\n",
       "</style>\n",
       "<table border=\"1\" class=\"dataframe\">\n",
       "  <thead>\n",
       "    <tr style=\"text-align: right;\">\n",
       "      <th></th>\n",
       "      <th>Name</th>\n",
       "      <th>Gender</th>\n",
       "      <th>Blood Type</th>\n",
       "      <th>Medical Condition</th>\n",
       "      <th>Date of Admission</th>\n",
       "      <th>Doctor</th>\n",
       "      <th>Hospital</th>\n",
       "      <th>Insurance Provider</th>\n",
       "      <th>Admission Type</th>\n",
       "      <th>Discharge Date</th>\n",
       "      <th>Medication</th>\n",
       "      <th>Test Results</th>\n",
       "    </tr>\n",
       "  </thead>\n",
       "  <tbody>\n",
       "    <tr>\n",
       "      <th>count</th>\n",
       "      <td>55500</td>\n",
       "      <td>55500</td>\n",
       "      <td>55500</td>\n",
       "      <td>55500</td>\n",
       "      <td>55500</td>\n",
       "      <td>55500</td>\n",
       "      <td>55500</td>\n",
       "      <td>55500</td>\n",
       "      <td>55500</td>\n",
       "      <td>55500</td>\n",
       "      <td>55500</td>\n",
       "      <td>55500</td>\n",
       "    </tr>\n",
       "    <tr>\n",
       "      <th>unique</th>\n",
       "      <td>49992</td>\n",
       "      <td>2</td>\n",
       "      <td>8</td>\n",
       "      <td>6</td>\n",
       "      <td>1827</td>\n",
       "      <td>40341</td>\n",
       "      <td>39876</td>\n",
       "      <td>5</td>\n",
       "      <td>3</td>\n",
       "      <td>1856</td>\n",
       "      <td>5</td>\n",
       "      <td>3</td>\n",
       "    </tr>\n",
       "    <tr>\n",
       "      <th>top</th>\n",
       "      <td>DAvId muNoZ</td>\n",
       "      <td>Male</td>\n",
       "      <td>A-</td>\n",
       "      <td>Arthritis</td>\n",
       "      <td>2024-03-16</td>\n",
       "      <td>Michael Smith</td>\n",
       "      <td>LLC Smith</td>\n",
       "      <td>Cigna</td>\n",
       "      <td>Elective</td>\n",
       "      <td>2020-03-15</td>\n",
       "      <td>Lipitor</td>\n",
       "      <td>Abnormal</td>\n",
       "    </tr>\n",
       "    <tr>\n",
       "      <th>freq</th>\n",
       "      <td>3</td>\n",
       "      <td>27774</td>\n",
       "      <td>6969</td>\n",
       "      <td>9308</td>\n",
       "      <td>50</td>\n",
       "      <td>27</td>\n",
       "      <td>44</td>\n",
       "      <td>11249</td>\n",
       "      <td>18655</td>\n",
       "      <td>53</td>\n",
       "      <td>11140</td>\n",
       "      <td>18627</td>\n",
       "    </tr>\n",
       "  </tbody>\n",
       "</table>\n",
       "</div>"
      ],
      "text/plain": [
       "               Name Gender Blood Type Medical Condition Date of Admission  \\\n",
       "count         55500  55500      55500             55500             55500   \n",
       "unique        49992      2          8                 6              1827   \n",
       "top     DAvId muNoZ   Male         A-         Arthritis        2024-03-16   \n",
       "freq              3  27774       6969              9308                50   \n",
       "\n",
       "               Doctor   Hospital Insurance Provider Admission Type  \\\n",
       "count           55500      55500              55500          55500   \n",
       "unique          40341      39876                  5              3   \n",
       "top     Michael Smith  LLC Smith              Cigna       Elective   \n",
       "freq               27         44              11249          18655   \n",
       "\n",
       "       Discharge Date Medication Test Results  \n",
       "count           55500      55500        55500  \n",
       "unique           1856          5            3  \n",
       "top        2020-03-15    Lipitor     Abnormal  \n",
       "freq               53      11140        18627  "
      ]
     },
     "execution_count": 6,
     "metadata": {},
     "output_type": "execute_result"
    }
   ],
   "source": [
    "categorical_columns.describe()"
   ]
  },
  {
   "cell_type": "markdown",
   "id": "82db78f6",
   "metadata": {
    "papermill": {
     "duration": 0.004781,
     "end_time": "2025-07-07T00:25:51.380715",
     "exception": false,
     "start_time": "2025-07-07T00:25:51.375934",
     "status": "completed"
    },
    "tags": []
   },
   "source": [
    "As stated by the provider of this dataset, we can treat this dataset as a Multi-class Classification problem to solve for the Test Results columns. "
   ]
  },
  {
   "cell_type": "code",
   "execution_count": 7,
   "id": "c7d93d9c",
   "metadata": {
    "execution": {
     "iopub.execute_input": "2025-07-07T00:25:51.392308Z",
     "iopub.status.busy": "2025-07-07T00:25:51.392026Z",
     "iopub.status.idle": "2025-07-07T00:25:51.406013Z",
     "shell.execute_reply": "2025-07-07T00:25:51.405118Z"
    },
    "papermill": {
     "duration": 0.021395,
     "end_time": "2025-07-07T00:25:51.407566",
     "exception": false,
     "start_time": "2025-07-07T00:25:51.386171",
     "status": "completed"
    },
    "tags": []
   },
   "outputs": [
    {
     "data": {
      "text/plain": [
       "Blood Type\n",
       "A+     6956\n",
       "A-     6969\n",
       "AB+    6947\n",
       "AB-    6945\n",
       "B+     6945\n",
       "B-     6944\n",
       "O+     6917\n",
       "O-     6877\n",
       "dtype: int64"
      ]
     },
     "execution_count": 7,
     "metadata": {},
     "output_type": "execute_result"
    }
   ],
   "source": [
    "df.groupby(\"Blood Type\").size()"
   ]
  },
  {
   "cell_type": "code",
   "execution_count": 8,
   "id": "31cff112",
   "metadata": {
    "execution": {
     "iopub.execute_input": "2025-07-07T00:25:51.420030Z",
     "iopub.status.busy": "2025-07-07T00:25:51.419685Z",
     "iopub.status.idle": "2025-07-07T00:25:51.709671Z",
     "shell.execute_reply": "2025-07-07T00:25:51.708769Z"
    },
    "papermill": {
     "duration": 0.298125,
     "end_time": "2025-07-07T00:25:51.711243",
     "exception": false,
     "start_time": "2025-07-07T00:25:51.413118",
     "status": "completed"
    },
    "tags": []
   },
   "outputs": [
    {
     "data": {
      "text/html": [
       "<div>\n",
       "<style scoped>\n",
       "    .dataframe tbody tr th:only-of-type {\n",
       "        vertical-align: middle;\n",
       "    }\n",
       "\n",
       "    .dataframe tbody tr th {\n",
       "        vertical-align: top;\n",
       "    }\n",
       "\n",
       "    .dataframe thead th {\n",
       "        text-align: right;\n",
       "    }\n",
       "</style>\n",
       "<table border=\"1\" class=\"dataframe\">\n",
       "  <thead>\n",
       "    <tr style=\"text-align: right;\">\n",
       "      <th></th>\n",
       "      <th>Name</th>\n",
       "      <th>Age</th>\n",
       "      <th>Gender</th>\n",
       "      <th>Blood Type</th>\n",
       "      <th>Medical Condition</th>\n",
       "      <th>Date of Admission</th>\n",
       "      <th>Doctor</th>\n",
       "      <th>Hospital</th>\n",
       "      <th>Insurance Provider</th>\n",
       "      <th>Billing Amount</th>\n",
       "      <th>Room Number</th>\n",
       "      <th>Admission Type</th>\n",
       "      <th>Discharge Date</th>\n",
       "      <th>Medication</th>\n",
       "      <th>Test Results</th>\n",
       "      <th>size</th>\n",
       "    </tr>\n",
       "  </thead>\n",
       "  <tbody>\n",
       "    <tr>\n",
       "      <th>50</th>\n",
       "      <td>ABIgaIL YOung</td>\n",
       "      <td>41</td>\n",
       "      <td>Female</td>\n",
       "      <td>O+</td>\n",
       "      <td>Hypertension</td>\n",
       "      <td>2022-12-15</td>\n",
       "      <td>Edward Kramer</td>\n",
       "      <td>Moore-Mcdaniel</td>\n",
       "      <td>UnitedHealthcare</td>\n",
       "      <td>1983.568297</td>\n",
       "      <td>192</td>\n",
       "      <td>Elective</td>\n",
       "      <td>2023-01-13</td>\n",
       "      <td>Ibuprofen</td>\n",
       "      <td>Normal</td>\n",
       "      <td>2</td>\n",
       "    </tr>\n",
       "    <tr>\n",
       "      <th>195</th>\n",
       "      <td>ALIcia taYLoR</td>\n",
       "      <td>78</td>\n",
       "      <td>Male</td>\n",
       "      <td>O+</td>\n",
       "      <td>Asthma</td>\n",
       "      <td>2022-09-18</td>\n",
       "      <td>Dawn Burton</td>\n",
       "      <td>Wright LLC</td>\n",
       "      <td>Aetna</td>\n",
       "      <td>31465.274979</td>\n",
       "      <td>149</td>\n",
       "      <td>Elective</td>\n",
       "      <td>2022-10-15</td>\n",
       "      <td>Aspirin</td>\n",
       "      <td>Inconclusive</td>\n",
       "      <td>2</td>\n",
       "    </tr>\n",
       "    <tr>\n",
       "      <th>563</th>\n",
       "      <td>AMy GREEN</td>\n",
       "      <td>79</td>\n",
       "      <td>Female</td>\n",
       "      <td>B+</td>\n",
       "      <td>Obesity</td>\n",
       "      <td>2021-03-30</td>\n",
       "      <td>Brett Johnson</td>\n",
       "      <td>Taylor-Williamson</td>\n",
       "      <td>UnitedHealthcare</td>\n",
       "      <td>23402.358491</td>\n",
       "      <td>249</td>\n",
       "      <td>Elective</td>\n",
       "      <td>2021-04-27</td>\n",
       "      <td>Penicillin</td>\n",
       "      <td>Abnormal</td>\n",
       "      <td>2</td>\n",
       "    </tr>\n",
       "  </tbody>\n",
       "</table>\n",
       "</div>"
      ],
      "text/plain": [
       "              Name  Age  Gender Blood Type Medical Condition  \\\n",
       "50   ABIgaIL YOung   41  Female         O+      Hypertension   \n",
       "195  ALIcia taYLoR   78    Male         O+            Asthma   \n",
       "563      AMy GREEN   79  Female         B+           Obesity   \n",
       "\n",
       "    Date of Admission         Doctor           Hospital Insurance Provider  \\\n",
       "50         2022-12-15  Edward Kramer     Moore-Mcdaniel   UnitedHealthcare   \n",
       "195        2022-09-18    Dawn Burton         Wright LLC              Aetna   \n",
       "563        2021-03-30  Brett Johnson  Taylor-Williamson   UnitedHealthcare   \n",
       "\n",
       "     Billing Amount  Room Number Admission Type Discharge Date  Medication  \\\n",
       "50      1983.568297          192       Elective     2023-01-13   Ibuprofen   \n",
       "195    31465.274979          149       Elective     2022-10-15     Aspirin   \n",
       "563    23402.358491          249       Elective     2021-04-27  Penicillin   \n",
       "\n",
       "     Test Results  size  \n",
       "50         Normal     2  \n",
       "195  Inconclusive     2  \n",
       "563      Abnormal     2  "
      ]
     },
     "execution_count": 8,
     "metadata": {},
     "output_type": "execute_result"
    }
   ],
   "source": [
    "grouped_df = df.groupby(df.columns.tolist(), as_index=False).size()\n",
    "grouped_df.loc[grouped_df[\"size\"] > 1].head(3)"
   ]
  },
  {
   "cell_type": "code",
   "execution_count": 9,
   "id": "2b7eb9e0",
   "metadata": {
    "execution": {
     "iopub.execute_input": "2025-07-07T00:25:51.723382Z",
     "iopub.status.busy": "2025-07-07T00:25:51.723084Z",
     "iopub.status.idle": "2025-07-07T00:25:51.811067Z",
     "shell.execute_reply": "2025-07-07T00:25:51.810007Z"
    },
    "papermill": {
     "duration": 0.095878,
     "end_time": "2025-07-07T00:25:51.812663",
     "exception": false,
     "start_time": "2025-07-07T00:25:51.716785",
     "status": "completed"
    },
    "tags": []
   },
   "outputs": [
    {
     "data": {
      "text/html": [
       "<div>\n",
       "<style scoped>\n",
       "    .dataframe tbody tr th:only-of-type {\n",
       "        vertical-align: middle;\n",
       "    }\n",
       "\n",
       "    .dataframe tbody tr th {\n",
       "        vertical-align: top;\n",
       "    }\n",
       "\n",
       "    .dataframe thead th {\n",
       "        text-align: right;\n",
       "    }\n",
       "</style>\n",
       "<table border=\"1\" class=\"dataframe\">\n",
       "  <thead>\n",
       "    <tr style=\"text-align: right;\">\n",
       "      <th></th>\n",
       "      <th>Name</th>\n",
       "      <th>Age</th>\n",
       "      <th>Gender</th>\n",
       "      <th>Blood Type</th>\n",
       "      <th>Medical Condition</th>\n",
       "      <th>Date of Admission</th>\n",
       "      <th>Doctor</th>\n",
       "      <th>Hospital</th>\n",
       "      <th>Insurance Provider</th>\n",
       "      <th>Billing Amount</th>\n",
       "      <th>Room Number</th>\n",
       "      <th>Admission Type</th>\n",
       "      <th>Discharge Date</th>\n",
       "      <th>Medication</th>\n",
       "      <th>Test Results</th>\n",
       "    </tr>\n",
       "  </thead>\n",
       "  <tbody>\n",
       "    <tr>\n",
       "      <th>42407</th>\n",
       "      <td>ABIgaIL YOung</td>\n",
       "      <td>41</td>\n",
       "      <td>Female</td>\n",
       "      <td>O+</td>\n",
       "      <td>Hypertension</td>\n",
       "      <td>2022-12-15</td>\n",
       "      <td>Edward Kramer</td>\n",
       "      <td>Moore-Mcdaniel</td>\n",
       "      <td>UnitedHealthcare</td>\n",
       "      <td>1983.568297</td>\n",
       "      <td>192</td>\n",
       "      <td>Elective</td>\n",
       "      <td>2023-01-13</td>\n",
       "      <td>Ibuprofen</td>\n",
       "      <td>Normal</td>\n",
       "    </tr>\n",
       "  </tbody>\n",
       "</table>\n",
       "</div>"
      ],
      "text/plain": [
       "                Name  Age  Gender Blood Type Medical Condition  \\\n",
       "42407  ABIgaIL YOung   41  Female         O+      Hypertension   \n",
       "\n",
       "      Date of Admission         Doctor        Hospital Insurance Provider  \\\n",
       "42407        2022-12-15  Edward Kramer  Moore-Mcdaniel   UnitedHealthcare   \n",
       "\n",
       "       Billing Amount  Room Number Admission Type Discharge Date Medication  \\\n",
       "42407     1983.568297          192       Elective     2023-01-13  Ibuprofen   \n",
       "\n",
       "      Test Results  \n",
       "42407       Normal  "
      ]
     },
     "execution_count": 9,
     "metadata": {},
     "output_type": "execute_result"
    }
   ],
   "source": [
    "df_deduped = df.drop_duplicates()\n",
    "df_deduped.loc[df_deduped[\"Name\"] == \"ABIgaIL YOung\"]"
   ]
  },
  {
   "cell_type": "code",
   "execution_count": 10,
   "id": "aa3aad76",
   "metadata": {
    "execution": {
     "iopub.execute_input": "2025-07-07T00:25:51.826562Z",
     "iopub.status.busy": "2025-07-07T00:25:51.826249Z",
     "iopub.status.idle": "2025-07-07T00:25:51.908972Z",
     "shell.execute_reply": "2025-07-07T00:25:51.908047Z"
    },
    "papermill": {
     "duration": 0.091485,
     "end_time": "2025-07-07T00:25:51.910591",
     "exception": false,
     "start_time": "2025-07-07T00:25:51.819106",
     "status": "completed"
    },
    "tags": []
   },
   "outputs": [],
   "source": [
    "df.drop_duplicates(inplace=True)"
   ]
  },
  {
   "cell_type": "code",
   "execution_count": 11,
   "id": "afb050c3",
   "metadata": {
    "execution": {
     "iopub.execute_input": "2025-07-07T00:25:51.923791Z",
     "iopub.status.busy": "2025-07-07T00:25:51.922944Z",
     "iopub.status.idle": "2025-07-07T00:25:51.941097Z",
     "shell.execute_reply": "2025-07-07T00:25:51.940058Z"
    },
    "papermill": {
     "duration": 0.026208,
     "end_time": "2025-07-07T00:25:51.942511",
     "exception": false,
     "start_time": "2025-07-07T00:25:51.916303",
     "status": "completed"
    },
    "tags": []
   },
   "outputs": [
    {
     "data": {
      "text/html": [
       "<div>\n",
       "<style scoped>\n",
       "    .dataframe tbody tr th:only-of-type {\n",
       "        vertical-align: middle;\n",
       "    }\n",
       "\n",
       "    .dataframe tbody tr th {\n",
       "        vertical-align: top;\n",
       "    }\n",
       "\n",
       "    .dataframe thead th {\n",
       "        text-align: right;\n",
       "    }\n",
       "</style>\n",
       "<table border=\"1\" class=\"dataframe\">\n",
       "  <thead>\n",
       "    <tr style=\"text-align: right;\">\n",
       "      <th></th>\n",
       "      <th>Name</th>\n",
       "      <th>Age</th>\n",
       "      <th>Gender</th>\n",
       "      <th>Blood Type</th>\n",
       "      <th>Medical Condition</th>\n",
       "      <th>Date of Admission</th>\n",
       "      <th>Doctor</th>\n",
       "      <th>Hospital</th>\n",
       "      <th>Insurance Provider</th>\n",
       "      <th>Billing Amount</th>\n",
       "      <th>Room Number</th>\n",
       "      <th>Admission Type</th>\n",
       "      <th>Discharge Date</th>\n",
       "      <th>Medication</th>\n",
       "      <th>Test Results</th>\n",
       "    </tr>\n",
       "  </thead>\n",
       "  <tbody>\n",
       "    <tr>\n",
       "      <th>42407</th>\n",
       "      <td>ABIgaIL YOung</td>\n",
       "      <td>41</td>\n",
       "      <td>Female</td>\n",
       "      <td>O+</td>\n",
       "      <td>Hypertension</td>\n",
       "      <td>2022-12-15</td>\n",
       "      <td>Edward Kramer</td>\n",
       "      <td>Moore-Mcdaniel</td>\n",
       "      <td>UnitedHealthcare</td>\n",
       "      <td>1983.568297</td>\n",
       "      <td>192</td>\n",
       "      <td>Elective</td>\n",
       "      <td>2023-01-13</td>\n",
       "      <td>Ibuprofen</td>\n",
       "      <td>Normal</td>\n",
       "    </tr>\n",
       "  </tbody>\n",
       "</table>\n",
       "</div>"
      ],
      "text/plain": [
       "                Name  Age  Gender Blood Type Medical Condition  \\\n",
       "42407  ABIgaIL YOung   41  Female         O+      Hypertension   \n",
       "\n",
       "      Date of Admission         Doctor        Hospital Insurance Provider  \\\n",
       "42407        2022-12-15  Edward Kramer  Moore-Mcdaniel   UnitedHealthcare   \n",
       "\n",
       "       Billing Amount  Room Number Admission Type Discharge Date Medication  \\\n",
       "42407     1983.568297          192       Elective     2023-01-13  Ibuprofen   \n",
       "\n",
       "      Test Results  \n",
       "42407       Normal  "
      ]
     },
     "execution_count": 11,
     "metadata": {},
     "output_type": "execute_result"
    }
   ],
   "source": [
    "df.loc[df[\"Name\"] == \"ABIgaIL YOung\"]"
   ]
  },
  {
   "cell_type": "code",
   "execution_count": 12,
   "id": "8aef8ec5",
   "metadata": {
    "execution": {
     "iopub.execute_input": "2025-07-07T00:25:51.955758Z",
     "iopub.status.busy": "2025-07-07T00:25:51.954991Z",
     "iopub.status.idle": "2025-07-07T00:25:52.029151Z",
     "shell.execute_reply": "2025-07-07T00:25:52.028063Z"
    },
    "papermill": {
     "duration": 0.082351,
     "end_time": "2025-07-07T00:25:52.030802",
     "exception": false,
     "start_time": "2025-07-07T00:25:51.948451",
     "status": "completed"
    },
    "tags": []
   },
   "outputs": [
    {
     "data": {
      "text/plain": [
       "0"
      ]
     },
     "execution_count": 12,
     "metadata": {},
     "output_type": "execute_result"
    }
   ],
   "source": [
    "df.duplicated().sum()"
   ]
  },
  {
   "cell_type": "markdown",
   "id": "648d1039",
   "metadata": {
    "papermill": {
     "duration": 0.005764,
     "end_time": "2025-07-07T00:25:52.042477",
     "exception": false,
     "start_time": "2025-07-07T00:25:52.036713",
     "status": "completed"
    },
    "tags": []
   },
   "source": [
    "# Data Visualizations"
   ]
  },
  {
   "cell_type": "code",
   "execution_count": 13,
   "id": "00406dcd",
   "metadata": {
    "execution": {
     "iopub.execute_input": "2025-07-07T00:25:52.055420Z",
     "iopub.status.busy": "2025-07-07T00:25:52.055082Z",
     "iopub.status.idle": "2025-07-07T00:25:54.012257Z",
     "shell.execute_reply": "2025-07-07T00:25:54.011289Z"
    },
    "papermill": {
     "duration": 1.965572,
     "end_time": "2025-07-07T00:25:54.013843",
     "exception": false,
     "start_time": "2025-07-07T00:25:52.048271",
     "status": "completed"
    },
    "tags": []
   },
   "outputs": [],
   "source": [
    "import seaborn as sns\n",
    "import matplotlib.pyplot as plt"
   ]
  },
  {
   "cell_type": "code",
   "execution_count": 14,
   "id": "fe2ba258",
   "metadata": {
    "execution": {
     "iopub.execute_input": "2025-07-07T00:25:54.027714Z",
     "iopub.status.busy": "2025-07-07T00:25:54.027208Z",
     "iopub.status.idle": "2025-07-07T00:25:54.035837Z",
     "shell.execute_reply": "2025-07-07T00:25:54.035048Z"
    },
    "papermill": {
     "duration": 0.01708,
     "end_time": "2025-07-07T00:25:54.037261",
     "exception": false,
     "start_time": "2025-07-07T00:25:54.020181",
     "status": "completed"
    },
    "tags": []
   },
   "outputs": [
    {
     "data": {
      "text/plain": [
       "Age\n",
       "13    14\n",
       "14    18\n",
       "15    28\n",
       "dtype: int64"
      ]
     },
     "execution_count": 14,
     "metadata": {},
     "output_type": "execute_result"
    }
   ],
   "source": [
    "df.groupby(\"Age\").size().head(3)"
   ]
  },
  {
   "cell_type": "code",
   "execution_count": 15,
   "id": "74d22fab",
   "metadata": {
    "execution": {
     "iopub.execute_input": "2025-07-07T00:25:54.052270Z",
     "iopub.status.busy": "2025-07-07T00:25:54.051945Z",
     "iopub.status.idle": "2025-07-07T00:25:54.062453Z",
     "shell.execute_reply": "2025-07-07T00:25:54.061242Z"
    },
    "papermill": {
     "duration": 0.01962,
     "end_time": "2025-07-07T00:25:54.064097",
     "exception": false,
     "start_time": "2025-07-07T00:25:54.044477",
     "status": "completed"
    },
    "tags": []
   },
   "outputs": [
    {
     "data": {
      "text/html": [
       "<div>\n",
       "<style scoped>\n",
       "    .dataframe tbody tr th:only-of-type {\n",
       "        vertical-align: middle;\n",
       "    }\n",
       "\n",
       "    .dataframe tbody tr th {\n",
       "        vertical-align: top;\n",
       "    }\n",
       "\n",
       "    .dataframe thead th {\n",
       "        text-align: right;\n",
       "    }\n",
       "</style>\n",
       "<table border=\"1\" class=\"dataframe\">\n",
       "  <thead>\n",
       "    <tr style=\"text-align: right;\">\n",
       "      <th></th>\n",
       "      <th>Age</th>\n",
       "      <th>Count</th>\n",
       "    </tr>\n",
       "  </thead>\n",
       "  <tbody>\n",
       "    <tr>\n",
       "      <th>0</th>\n",
       "      <td>13</td>\n",
       "      <td>14</td>\n",
       "    </tr>\n",
       "    <tr>\n",
       "      <th>1</th>\n",
       "      <td>14</td>\n",
       "      <td>18</td>\n",
       "    </tr>\n",
       "    <tr>\n",
       "      <th>2</th>\n",
       "      <td>15</td>\n",
       "      <td>28</td>\n",
       "    </tr>\n",
       "    <tr>\n",
       "      <th>3</th>\n",
       "      <td>16</td>\n",
       "      <td>24</td>\n",
       "    </tr>\n",
       "    <tr>\n",
       "      <th>4</th>\n",
       "      <td>17</td>\n",
       "      <td>32</td>\n",
       "    </tr>\n",
       "    <tr>\n",
       "      <th>5</th>\n",
       "      <td>18</td>\n",
       "      <td>770</td>\n",
       "    </tr>\n",
       "    <tr>\n",
       "      <th>6</th>\n",
       "      <td>19</td>\n",
       "      <td>791</td>\n",
       "    </tr>\n",
       "    <tr>\n",
       "      <th>7</th>\n",
       "      <td>20</td>\n",
       "      <td>744</td>\n",
       "    </tr>\n",
       "    <tr>\n",
       "      <th>8</th>\n",
       "      <td>21</td>\n",
       "      <td>817</td>\n",
       "    </tr>\n",
       "    <tr>\n",
       "      <th>9</th>\n",
       "      <td>22</td>\n",
       "      <td>810</td>\n",
       "    </tr>\n",
       "  </tbody>\n",
       "</table>\n",
       "</div>"
      ],
      "text/plain": [
       "   Age  Count\n",
       "0   13     14\n",
       "1   14     18\n",
       "2   15     28\n",
       "3   16     24\n",
       "4   17     32\n",
       "5   18    770\n",
       "6   19    791\n",
       "7   20    744\n",
       "8   21    817\n",
       "9   22    810"
      ]
     },
     "execution_count": 15,
     "metadata": {},
     "output_type": "execute_result"
    }
   ],
   "source": [
    "df.groupby(\"Age\").size().reset_index(name=\"Count\").head(10)"
   ]
  },
  {
   "cell_type": "code",
   "execution_count": 16,
   "id": "a98fd7be",
   "metadata": {
    "execution": {
     "iopub.execute_input": "2025-07-07T00:25:54.077585Z",
     "iopub.status.busy": "2025-07-07T00:25:54.077309Z",
     "iopub.status.idle": "2025-07-07T00:25:54.082761Z",
     "shell.execute_reply": "2025-07-07T00:25:54.082121Z"
    },
    "papermill": {
     "duration": 0.01485,
     "end_time": "2025-07-07T00:25:54.085207",
     "exception": false,
     "start_time": "2025-07-07T00:25:54.070357",
     "status": "completed"
    },
    "tags": []
   },
   "outputs": [
    {
     "data": {
      "text/plain": [
       "Index(['Name', 'Age', 'Gender', 'Blood Type', 'Medical Condition',\n",
       "       'Date of Admission', 'Doctor', 'Hospital', 'Insurance Provider',\n",
       "       'Billing Amount', 'Room Number', 'Admission Type', 'Discharge Date',\n",
       "       'Medication', 'Test Results'],\n",
       "      dtype='object')"
      ]
     },
     "execution_count": 16,
     "metadata": {},
     "output_type": "execute_result"
    }
   ],
   "source": [
    "df.columns"
   ]
  },
  {
   "cell_type": "code",
   "execution_count": 17,
   "id": "658a912f",
   "metadata": {
    "execution": {
     "iopub.execute_input": "2025-07-07T00:25:54.101508Z",
     "iopub.status.busy": "2025-07-07T00:25:54.101189Z",
     "iopub.status.idle": "2025-07-07T00:25:54.134025Z",
     "shell.execute_reply": "2025-07-07T00:25:54.133024Z"
    },
    "papermill": {
     "duration": 0.043353,
     "end_time": "2025-07-07T00:25:54.135380",
     "exception": false,
     "start_time": "2025-07-07T00:25:54.092027",
     "status": "completed"
    },
    "tags": []
   },
   "outputs": [
    {
     "name": "stdout",
     "output_type": "stream",
     "text": [
      "0        2 days\n",
      "1        6 days\n",
      "2       15 days\n",
      "3       30 days\n",
      "4       20 days\n",
      "          ...  \n",
      "55495   30 days\n",
      "55496    9 days\n",
      "55497   28 days\n",
      "55498    6 days\n",
      "55499   27 days\n",
      "Length: 54966, dtype: timedelta64[ns]\n"
     ]
    }
   ],
   "source": [
    "test_date_one = pd.to_datetime(df[\"Date of Admission\"])\n",
    "test_date_two = pd.to_datetime(df[\"Discharge Date\"])\n",
    "\n",
    "print(test_date_two - test_date_one)"
   ]
  },
  {
   "cell_type": "code",
   "execution_count": 18,
   "id": "c0602f05",
   "metadata": {
    "execution": {
     "iopub.execute_input": "2025-07-07T00:25:54.151429Z",
     "iopub.status.busy": "2025-07-07T00:25:54.150805Z",
     "iopub.status.idle": "2025-07-07T00:25:54.200795Z",
     "shell.execute_reply": "2025-07-07T00:25:54.200024Z"
    },
    "papermill": {
     "duration": 0.059933,
     "end_time": "2025-07-07T00:25:54.202342",
     "exception": false,
     "start_time": "2025-07-07T00:25:54.142409",
     "status": "completed"
    },
    "tags": []
   },
   "outputs": [
    {
     "data": {
      "text/html": [
       "<div>\n",
       "<style scoped>\n",
       "    .dataframe tbody tr th:only-of-type {\n",
       "        vertical-align: middle;\n",
       "    }\n",
       "\n",
       "    .dataframe tbody tr th {\n",
       "        vertical-align: top;\n",
       "    }\n",
       "\n",
       "    .dataframe thead th {\n",
       "        text-align: right;\n",
       "    }\n",
       "</style>\n",
       "<table border=\"1\" class=\"dataframe\">\n",
       "  <thead>\n",
       "    <tr style=\"text-align: right;\">\n",
       "      <th></th>\n",
       "      <th>Name</th>\n",
       "      <th>Age</th>\n",
       "      <th>Gender</th>\n",
       "      <th>Blood Type</th>\n",
       "      <th>Medical Condition</th>\n",
       "      <th>Date of Admission</th>\n",
       "      <th>Doctor</th>\n",
       "      <th>Hospital</th>\n",
       "      <th>Insurance Provider</th>\n",
       "      <th>Billing Amount</th>\n",
       "      <th>Room Number</th>\n",
       "      <th>Admission Type</th>\n",
       "      <th>Discharge Date</th>\n",
       "      <th>Medication</th>\n",
       "      <th>Test Results</th>\n",
       "      <th>Days in Hospital</th>\n",
       "    </tr>\n",
       "  </thead>\n",
       "  <tbody>\n",
       "    <tr>\n",
       "      <th>0</th>\n",
       "      <td>Bobby JacksOn</td>\n",
       "      <td>30</td>\n",
       "      <td>Male</td>\n",
       "      <td>B-</td>\n",
       "      <td>Cancer</td>\n",
       "      <td>2024-01-31</td>\n",
       "      <td>Matthew Smith</td>\n",
       "      <td>Sons and Miller</td>\n",
       "      <td>Blue Cross</td>\n",
       "      <td>18856.281306</td>\n",
       "      <td>328</td>\n",
       "      <td>Urgent</td>\n",
       "      <td>2024-02-02</td>\n",
       "      <td>Paracetamol</td>\n",
       "      <td>Normal</td>\n",
       "      <td>2</td>\n",
       "    </tr>\n",
       "    <tr>\n",
       "      <th>1</th>\n",
       "      <td>LesLie TErRy</td>\n",
       "      <td>62</td>\n",
       "      <td>Male</td>\n",
       "      <td>A+</td>\n",
       "      <td>Obesity</td>\n",
       "      <td>2019-08-20</td>\n",
       "      <td>Samantha Davies</td>\n",
       "      <td>Kim Inc</td>\n",
       "      <td>Medicare</td>\n",
       "      <td>33643.327287</td>\n",
       "      <td>265</td>\n",
       "      <td>Emergency</td>\n",
       "      <td>2019-08-26</td>\n",
       "      <td>Ibuprofen</td>\n",
       "      <td>Inconclusive</td>\n",
       "      <td>6</td>\n",
       "    </tr>\n",
       "    <tr>\n",
       "      <th>2</th>\n",
       "      <td>DaNnY sMitH</td>\n",
       "      <td>76</td>\n",
       "      <td>Female</td>\n",
       "      <td>A-</td>\n",
       "      <td>Obesity</td>\n",
       "      <td>2022-09-22</td>\n",
       "      <td>Tiffany Mitchell</td>\n",
       "      <td>Cook PLC</td>\n",
       "      <td>Aetna</td>\n",
       "      <td>27955.096079</td>\n",
       "      <td>205</td>\n",
       "      <td>Emergency</td>\n",
       "      <td>2022-10-07</td>\n",
       "      <td>Aspirin</td>\n",
       "      <td>Normal</td>\n",
       "      <td>15</td>\n",
       "    </tr>\n",
       "  </tbody>\n",
       "</table>\n",
       "</div>"
      ],
      "text/plain": [
       "            Name  Age  Gender Blood Type Medical Condition Date of Admission  \\\n",
       "0  Bobby JacksOn   30    Male         B-            Cancer        2024-01-31   \n",
       "1   LesLie TErRy   62    Male         A+           Obesity        2019-08-20   \n",
       "2    DaNnY sMitH   76  Female         A-           Obesity        2022-09-22   \n",
       "\n",
       "             Doctor         Hospital Insurance Provider  Billing Amount  \\\n",
       "0     Matthew Smith  Sons and Miller         Blue Cross    18856.281306   \n",
       "1   Samantha Davies          Kim Inc           Medicare    33643.327287   \n",
       "2  Tiffany Mitchell         Cook PLC              Aetna    27955.096079   \n",
       "\n",
       "   Room Number Admission Type Discharge Date   Medication  Test Results  \\\n",
       "0          328         Urgent     2024-02-02  Paracetamol        Normal   \n",
       "1          265      Emergency     2019-08-26    Ibuprofen  Inconclusive   \n",
       "2          205      Emergency     2022-10-07      Aspirin        Normal   \n",
       "\n",
       "   Days in Hospital  \n",
       "0                 2  \n",
       "1                 6  \n",
       "2                15  "
      ]
     },
     "execution_count": 18,
     "metadata": {},
     "output_type": "execute_result"
    }
   ],
   "source": [
    "df_copy = df.copy()\n",
    "df_copy[\"Date of Admission\"] = pd.to_datetime(df_copy[\"Date of Admission\"])\n",
    "df_copy[\"Discharge Date\"] = pd.to_datetime(df_copy[\"Discharge Date\"])\n",
    "df_copy[\"Days in Hospital\"] = (df_copy[\"Discharge Date\"] - df_copy[\"Date of Admission\"])\n",
    "df_copy[\"Days in Hospital\"] = df_copy[\"Days in Hospital\"].dt.days\n",
    "\n",
    "df_copy.head(3)"
   ]
  },
  {
   "cell_type": "code",
   "execution_count": 19,
   "id": "a4f314d8",
   "metadata": {
    "execution": {
     "iopub.execute_input": "2025-07-07T00:25:54.217209Z",
     "iopub.status.busy": "2025-07-07T00:25:54.216460Z",
     "iopub.status.idle": "2025-07-07T00:25:54.229462Z",
     "shell.execute_reply": "2025-07-07T00:25:54.228567Z"
    },
    "papermill": {
     "duration": 0.021954,
     "end_time": "2025-07-07T00:25:54.231155",
     "exception": false,
     "start_time": "2025-07-07T00:25:54.209201",
     "status": "completed"
    },
    "tags": []
   },
   "outputs": [],
   "source": [
    "# Drop columns on axis=1 (columns)\n",
    "df_copy.drop([\"Name\", \"Doctor\", \"Date of Admission\", \"Discharge Date\"], axis=1, inplace=True)\n",
    "cols_to_graph = [\n",
    "    \"Age\",\n",
    "    \"Gender\",\n",
    "    \"Blood Type\",\n",
    "    \"Medical Condition\",\n",
    "    \"Insurance Provider\",\n",
    "    \"Admission Type\",\n",
    "    \"Medication\",\n",
    "    \"Test Results\",\n",
    "    \"Days in Hospital\"\n",
    "]"
   ]
  },
  {
   "cell_type": "code",
   "execution_count": 20,
   "id": "c30834d3",
   "metadata": {
    "execution": {
     "iopub.execute_input": "2025-07-07T00:25:54.245401Z",
     "iopub.status.busy": "2025-07-07T00:25:54.244617Z",
     "iopub.status.idle": "2025-07-07T00:25:56.972128Z",
     "shell.execute_reply": "2025-07-07T00:25:56.971051Z"
    },
    "papermill": {
     "duration": 2.736283,
     "end_time": "2025-07-07T00:25:56.973745",
     "exception": false,
     "start_time": "2025-07-07T00:25:54.237462",
     "status": "completed"
    },
    "tags": []
   },
   "outputs": [
    {
     "data": {
      "image/png": "[encoded data removed]",
      "text/plain": [
       "<Figure size 1800x500 with 1 Axes>"
      ]
     },
     "metadata": {},
     "output_type": "display_data"
    },
    {
     "data": {
      "image/png": "[encoded data removed]",
      "text/plain": [
       "<Figure size 1800x500 with 1 Axes>"
      ]
     },
     "metadata": {},
     "output_type": "display_data"
    },
    {
     "data": {
      "image/png": "[encoded data removed]",
      "text/plain": [
       "<Figure size 1800x500 with 1 Axes>"
      ]
     },
     "metadata": {},
     "output_type": "display_data"
    },
    {
     "data": {
      "image/png": "[encoded data removed]",
      "text/plain": [
       "<Figure size 1800x500 with 1 Axes>"
      ]
     },
     "metadata": {},
     "output_type": "display_data"
    },
    {
     "data": {
      "image/png": "[encoded data removed]",
      "text/plain": [
       "<Figure size 1800x500 with 1 Axes>"
      ]
     },
     "metadata": {},
     "output_type": "display_data"
    },
    {
     "data": {
      "image/png": "[encoded data removed]",
      "text/plain": [
       "<Figure size 1800x500 with 1 Axes>"
      ]
     },
     "metadata": {},
     "output_type": "display_data"
    },
    {
     "data": {
      "image/png": "[encoded data removed]",
      "text/plain": [
       "<Figure size 1800x500 with 1 Axes>"
      ]
     },
     "metadata": {},
     "output_type": "display_data"
    },
    {
     "data": {
      "image/png": "[encoded data removed]",
      "text/plain": [
       "<Figure size 1800x500 with 1 Axes>"
      ]
     },
     "metadata": {},
     "output_type": "display_data"
    },
    {
     "data": {
      "image/png": "[encoded data removed]",
      "text/plain": [
       "<Figure size 1800x500 with 1 Axes>"
      ]
     },
     "metadata": {},
     "output_type": "display_data"
    }
   ],
   "source": [
    "for col in cols_to_graph:\n",
    "    plt.figure(figsize=(18,5))\n",
    "    grouped_df = df_copy.groupby(col).size().reset_index(name=\"Count\")\n",
    "    sns.barplot(data=grouped_df, x=col, y=\"Count\", palette=\"magma\")\n",
    "    plt.title(f\"{col} vs Count\")\n",
    "    plt.xlabel(col)\n",
    "    plt.ylabel(\"Count\")\n",
    "    plt.tight_layout()\n",
    "    plt.show()"
   ]
  },
  {
   "cell_type": "code",
   "execution_count": 21,
   "id": "4b91573f",
   "metadata": {
    "execution": {
     "iopub.execute_input": "2025-07-07T00:25:56.997068Z",
     "iopub.status.busy": "2025-07-07T00:25:56.996734Z",
     "iopub.status.idle": "2025-07-07T00:25:57.002406Z",
     "shell.execute_reply": "2025-07-07T00:25:57.001541Z"
    },
    "papermill": {
     "duration": 0.018433,
     "end_time": "2025-07-07T00:25:57.003789",
     "exception": false,
     "start_time": "2025-07-07T00:25:56.985356",
     "status": "completed"
    },
    "tags": []
   },
   "outputs": [
    {
     "data": {
      "text/plain": [
       "{'Billing Amount', 'Hospital', 'Room Number'}"
      ]
     },
     "execution_count": 21,
     "metadata": {},
     "output_type": "execute_result"
    }
   ],
   "source": [
    "set(df_copy.columns.tolist()) - set(cols_to_graph)"
   ]
  },
  {
   "cell_type": "markdown",
   "id": "a33f11d6",
   "metadata": {
    "papermill": {
     "duration": 0.011114,
     "end_time": "2025-07-07T00:25:57.026600",
     "exception": false,
     "start_time": "2025-07-07T00:25:57.015486",
     "status": "completed"
    },
    "tags": []
   },
   "source": [
    "The graphs above seem to be evenly distributed, with the exception of Age whose lower tail ranges from 13-17 and the upper tail ranges from 86-89."
   ]
  },
  {
   "cell_type": "markdown",
   "id": "1b564115",
   "metadata": {
    "papermill": {
     "duration": 0.012292,
     "end_time": "2025-07-07T00:25:57.050464",
     "exception": false,
     "start_time": "2025-07-07T00:25:57.038172",
     "status": "completed"
    },
    "tags": []
   },
   "source": [
    "To analyze/model\n",
    "- Expenses by hospital\n",
    "- Expenses by gender\n",
    "- Expenses by number of days in hospital\n",
    "- number of days in hospital based on medical condition\n",
    "- Medical condition expenses and classification/clustering"
   ]
  },
  {
   "cell_type": "markdown",
   "id": "eebf1c44",
   "metadata": {
    "papermill": {
     "duration": 0.011343,
     "end_time": "2025-07-07T00:25:57.073106",
     "exception": false,
     "start_time": "2025-07-07T00:25:57.061763",
     "status": "completed"
    },
    "tags": []
   },
   "source": [
    "Columns:\n",
    "- \"Age\",\n",
    "- \"Gender\",\n",
    "- \"Blood Type\",\n",
    "- \"Medical Condition\",\n",
    "- \"Insurance Provider\",\n",
    "- \"Admission Type\",\n",
    "- \"Medication\",\n",
    "- \"Test Results\",\n",
    "- \"Days in Hospital\",\n",
    "- \"Billing Amount\",\n",
    "- \"Hospital\",\n",
    "- \"Room Number\""
   ]
  },
  {
   "cell_type": "markdown",
   "id": "ee1222d4",
   "metadata": {
    "papermill": {
     "duration": 0.010078,
     "end_time": "2025-07-07T00:25:57.095505",
     "exception": false,
     "start_time": "2025-07-07T00:25:57.085427",
     "status": "completed"
    },
    "tags": []
   },
   "source": [
    "# Modeling"
   ]
  },
  {
   "cell_type": "code",
   "execution_count": 22,
   "id": "d8353439",
   "metadata": {
    "execution": {
     "iopub.execute_input": "2025-07-07T00:25:57.121412Z",
     "iopub.status.busy": "2025-07-07T00:25:57.121095Z",
     "iopub.status.idle": "2025-07-07T00:25:58.328863Z",
     "shell.execute_reply": "2025-07-07T00:25:58.327997Z"
    },
    "papermill": {
     "duration": 1.221253,
     "end_time": "2025-07-07T00:25:58.330579",
     "exception": false,
     "start_time": "2025-07-07T00:25:57.109326",
     "status": "completed"
    },
    "tags": []
   },
   "outputs": [],
   "source": [
    "# Preprocess categorical variables\n",
    "from sklearn.preprocessing import LabelEncoder\n",
    "\n",
    "# Split data into train and test data\n",
    "from sklearn.model_selection import train_test_split\n",
    "\n",
    "# Models to try\n",
    "from sklearn.ensemble import RandomForestRegressor\n",
    "from xgboost import XGBRegressor\n",
    "\n",
    "# Measurements\n",
    "from sklearn.metrics import mean_absolute_error"
   ]
  }
 ],
 "metadata": {
  "kaggle": {
   "accelerator": "none",
   "dataSources": [
    {
     "datasetId": 3934836,
     "sourceId": 8356547,
     "sourceType": "datasetVersion"
    }
   ],
   "dockerImageVersionId": 31040,
   "isGpuEnabled": false,
   "isInternetEnabled": false,
   "language": "python",
   "sourceType": "notebook"
  },
  "kernelspec": {
   "display_name": "Python 3",
   "language": "python",
   "name": "python3"
  },
  "language_info": {
   "codemirror_mode": {
    "name": "ipython",
    "version": 3
   },
   "file_extension": ".py",
   "mimetype": "text/x-python",
   "name": "python",
   "nbconvert_exporter": "python",
   "pygments_lexer": "ipython3",
   "version": "3.11.11"
  },
  "papermill": {
   "default_parameters": {},
   "duration": 15.499214,
   "end_time": "2025-07-07T00:25:59.163805",
   "environment_variables": {},
   "exception": null,
   "input_path": "__notebook__.ipynb",
   "output_path": "__notebook__.ipynb",
   "parameters": {},
   "start_time": "2025-07-07T00:25:43.664591",
   "version": "2.6.0"
  }
 },
 "nbformat": 4,
 "nbformat_minor": 5
}
