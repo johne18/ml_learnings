{
 "cells": [
  {
   "cell_type": "markdown",
   "id": "074a5303",
   "metadata": {
    "papermill": {
     "duration": 0.004425,
     "end_time": "2025-07-05T19:58:35.738250",
     "exception": false,
     "start_time": "2025-07-05T19:58:35.733825",
     "status": "completed"
    },
    "tags": []
   },
   "source": [
    "# Goals\n",
    "- Regression Models (Random Forest, XGBoost) to predict billing amount\n",
    "- Classification models (Random Forest, XGBoost, KNN) to predict medical condition\n",
    "- Clustering (K-Means) (?)"
   ]
  },
  {
   "cell_type": "code",
   "execution_count": 1,
   "id": "b56b522d",
   "metadata": {
    "_cell_guid": "b1076dfc-b9ad-4769-8c92-a6c4dae69d19",
    "_uuid": "8f2839f25d086af736a60e9eeb907d3b93b6e0e5",
    "execution": {
     "iopub.execute_input": "2025-07-05T19:58:35.746909Z",
     "iopub.status.busy": "2025-07-05T19:58:35.746590Z",
     "iopub.status.idle": "2025-07-05T19:58:37.567407Z",
     "shell.execute_reply": "2025-07-05T19:58:37.566398Z"
    },
    "papermill": {
     "duration": 1.826757,
     "end_time": "2025-07-05T19:58:37.568810",
     "exception": false,
     "start_time": "2025-07-05T19:58:35.742053",
     "status": "completed"
    },
    "tags": []
   },
   "outputs": [
    {
     "name": "stdout",
     "output_type": "stream",
     "text": [
      "/kaggle/input/healthcare-dataset/healthcare_dataset.csv\n"
     ]
    }
   ],
   "source": [
    "# This Python 3 environment comes with many helpful analytics libraries installed\n",
    "# It is defined by the kaggle/python Docker image: https://github.com/kaggle/docker-python\n",
    "# For example, here's several helpful packages to load\n",
    "\n",
    "import numpy as np # linear algebra\n",
    "import pandas as pd # data processing, CSV file I/O (e.g. pd.read_csv)\n",
    "\n",
    "# Input data files are available in the read-only \"../input/\" directory\n",
    "# For example, running this (by clicking run or pressing Shift+Enter) will list all files under the input directory\n",
    "\n",
    "import os\n",
    "for dirname, _, filenames in os.walk('/kaggle/input'):\n",
    "    for filename in filenames:\n",
    "        print(os.path.join(dirname, filename))\n",
    "\n",
    "# You can write up to 20GB to the current directory (/kaggle/working/) that gets preserved as output when you create a version using \"Save & Run All\" \n",
    "# You can also write temporary files to /kaggle/temp/, but they won't be saved outside of the current session"
   ]
  },
  {
   "cell_type": "code",
   "execution_count": 2,
   "id": "806a80ed",
   "metadata": {
    "execution": {
     "iopub.execute_input": "2025-07-05T19:58:37.577858Z",
     "iopub.status.busy": "2025-07-05T19:58:37.577424Z",
     "iopub.status.idle": "2025-07-05T19:58:37.892793Z",
     "shell.execute_reply": "2025-07-05T19:58:37.891918Z"
    },
    "papermill": {
     "duration": 0.321443,
     "end_time": "2025-07-05T19:58:37.894244",
     "exception": false,
     "start_time": "2025-07-05T19:58:37.572801",
     "status": "completed"
    },
    "tags": []
   },
   "outputs": [],
   "source": [
    "df = pd.read_csv(\"/kaggle/input/healthcare-dataset/healthcare_dataset.csv\")"
   ]
  },
  {
   "cell_type": "code",
   "execution_count": 3,
   "id": "9e969800",
   "metadata": {
    "execution": {
     "iopub.execute_input": "2025-07-05T19:58:37.903221Z",
     "iopub.status.busy": "2025-07-05T19:58:37.902924Z",
     "iopub.status.idle": "2025-07-05T19:58:37.929936Z",
     "shell.execute_reply": "2025-07-05T19:58:37.928996Z"
    },
    "papermill": {
     "duration": 0.033316,
     "end_time": "2025-07-05T19:58:37.931643",
     "exception": false,
     "start_time": "2025-07-05T19:58:37.898327",
     "status": "completed"
    },
    "tags": []
   },
   "outputs": [
    {
     "data": {
      "text/html": [
       "<div>\n",
       "<style scoped>\n",
       "    .dataframe tbody tr th:only-of-type {\n",
       "        vertical-align: middle;\n",
       "    }\n",
       "\n",
       "    .dataframe tbody tr th {\n",
       "        vertical-align: top;\n",
       "    }\n",
       "\n",
       "    .dataframe thead th {\n",
       "        text-align: right;\n",
       "    }\n",
       "</style>\n",
       "<table border=\"1\" class=\"dataframe\">\n",
       "  <thead>\n",
       "    <tr style=\"text-align: right;\">\n",
       "      <th></th>\n",
       "      <th>Name</th>\n",
       "      <th>Age</th>\n",
       "      <th>Gender</th>\n",
       "      <th>Blood Type</th>\n",
       "      <th>Medical Condition</th>\n",
       "      <th>Date of Admission</th>\n",
       "      <th>Doctor</th>\n",
       "      <th>Hospital</th>\n",
       "      <th>Insurance Provider</th>\n",
       "      <th>Billing Amount</th>\n",
       "      <th>Room Number</th>\n",
       "      <th>Admission Type</th>\n",
       "      <th>Discharge Date</th>\n",
       "      <th>Medication</th>\n",
       "      <th>Test Results</th>\n",
       "    </tr>\n",
       "  </thead>\n",
       "  <tbody>\n",
       "    <tr>\n",
       "      <th>0</th>\n",
       "      <td>Bobby JacksOn</td>\n",
       "      <td>30</td>\n",
       "      <td>Male</td>\n",
       "      <td>B-</td>\n",
       "      <td>Cancer</td>\n",
       "      <td>2024-01-31</td>\n",
       "      <td>Matthew Smith</td>\n",
       "      <td>Sons and Miller</td>\n",
       "      <td>Blue Cross</td>\n",
       "      <td>18856.281306</td>\n",
       "      <td>328</td>\n",
       "      <td>Urgent</td>\n",
       "      <td>2024-02-02</td>\n",
       "      <td>Paracetamol</td>\n",
       "      <td>Normal</td>\n",
       "    </tr>\n",
       "    <tr>\n",
       "      <th>1</th>\n",
       "      <td>LesLie TErRy</td>\n",
       "      <td>62</td>\n",
       "      <td>Male</td>\n",
       "      <td>A+</td>\n",
       "      <td>Obesity</td>\n",
       "      <td>2019-08-20</td>\n",
       "      <td>Samantha Davies</td>\n",
       "      <td>Kim Inc</td>\n",
       "      <td>Medicare</td>\n",
       "      <td>33643.327287</td>\n",
       "      <td>265</td>\n",
       "      <td>Emergency</td>\n",
       "      <td>2019-08-26</td>\n",
       "      <td>Ibuprofen</td>\n",
       "      <td>Inconclusive</td>\n",
       "    </tr>\n",
       "    <tr>\n",
       "      <th>2</th>\n",
       "      <td>DaNnY sMitH</td>\n",
       "      <td>76</td>\n",
       "      <td>Female</td>\n",
       "      <td>A-</td>\n",
       "      <td>Obesity</td>\n",
       "      <td>2022-09-22</td>\n",
       "      <td>Tiffany Mitchell</td>\n",
       "      <td>Cook PLC</td>\n",
       "      <td>Aetna</td>\n",
       "      <td>27955.096079</td>\n",
       "      <td>205</td>\n",
       "      <td>Emergency</td>\n",
       "      <td>2022-10-07</td>\n",
       "      <td>Aspirin</td>\n",
       "      <td>Normal</td>\n",
       "    </tr>\n",
       "    <tr>\n",
       "      <th>3</th>\n",
       "      <td>andrEw waTtS</td>\n",
       "      <td>28</td>\n",
       "      <td>Female</td>\n",
       "      <td>O+</td>\n",
       "      <td>Diabetes</td>\n",
       "      <td>2020-11-18</td>\n",
       "      <td>Kevin Wells</td>\n",
       "      <td>Hernandez Rogers and Vang,</td>\n",
       "      <td>Medicare</td>\n",
       "      <td>37909.782410</td>\n",
       "      <td>450</td>\n",
       "      <td>Elective</td>\n",
       "      <td>2020-12-18</td>\n",
       "      <td>Ibuprofen</td>\n",
       "      <td>Abnormal</td>\n",
       "    </tr>\n",
       "    <tr>\n",
       "      <th>4</th>\n",
       "      <td>adrIENNE bEll</td>\n",
       "      <td>43</td>\n",
       "      <td>Female</td>\n",
       "      <td>AB+</td>\n",
       "      <td>Cancer</td>\n",
       "      <td>2022-09-19</td>\n",
       "      <td>Kathleen Hanna</td>\n",
       "      <td>White-White</td>\n",
       "      <td>Aetna</td>\n",
       "      <td>14238.317814</td>\n",
       "      <td>458</td>\n",
       "      <td>Urgent</td>\n",
       "      <td>2022-10-09</td>\n",
       "      <td>Penicillin</td>\n",
       "      <td>Abnormal</td>\n",
       "    </tr>\n",
       "  </tbody>\n",
       "</table>\n",
       "</div>"
      ],
      "text/plain": [
       "            Name  Age  Gender Blood Type Medical Condition Date of Admission  \\\n",
       "0  Bobby JacksOn   30    Male         B-            Cancer        2024-01-31   \n",
       "1   LesLie TErRy   62    Male         A+           Obesity        2019-08-20   \n",
       "2    DaNnY sMitH   76  Female         A-           Obesity        2022-09-22   \n",
       "3   andrEw waTtS   28  Female         O+          Diabetes        2020-11-18   \n",
       "4  adrIENNE bEll   43  Female        AB+            Cancer        2022-09-19   \n",
       "\n",
       "             Doctor                    Hospital Insurance Provider  \\\n",
       "0     Matthew Smith             Sons and Miller         Blue Cross   \n",
       "1   Samantha Davies                     Kim Inc           Medicare   \n",
       "2  Tiffany Mitchell                    Cook PLC              Aetna   \n",
       "3       Kevin Wells  Hernandez Rogers and Vang,           Medicare   \n",
       "4    Kathleen Hanna                 White-White              Aetna   \n",
       "\n",
       "   Billing Amount  Room Number Admission Type Discharge Date   Medication  \\\n",
       "0    18856.281306          328         Urgent     2024-02-02  Paracetamol   \n",
       "1    33643.327287          265      Emergency     2019-08-26    Ibuprofen   \n",
       "2    27955.096079          205      Emergency     2022-10-07      Aspirin   \n",
       "3    37909.782410          450       Elective     2020-12-18    Ibuprofen   \n",
       "4    14238.317814          458         Urgent     2022-10-09   Penicillin   \n",
       "\n",
       "   Test Results  \n",
       "0        Normal  \n",
       "1  Inconclusive  \n",
       "2        Normal  \n",
       "3      Abnormal  \n",
       "4      Abnormal  "
      ]
     },
     "execution_count": 3,
     "metadata": {},
     "output_type": "execute_result"
    }
   ],
   "source": [
    "df.head(5)"
   ]
  },
  {
   "cell_type": "code",
   "execution_count": 4,
   "id": "99416071",
   "metadata": {
    "execution": {
     "iopub.execute_input": "2025-07-05T19:58:37.941245Z",
     "iopub.status.busy": "2025-07-05T19:58:37.940953Z",
     "iopub.status.idle": "2025-07-05T19:58:37.947810Z",
     "shell.execute_reply": "2025-07-05T19:58:37.947021Z"
    },
    "papermill": {
     "duration": 0.013109,
     "end_time": "2025-07-05T19:58:37.949088",
     "exception": false,
     "start_time": "2025-07-05T19:58:37.935979",
     "status": "completed"
    },
    "tags": []
   },
   "outputs": [
    {
     "data": {
      "text/plain": [
       "Index(['Name', 'Age', 'Gender', 'Blood Type', 'Medical Condition',\n",
       "       'Date of Admission', 'Doctor', 'Hospital', 'Insurance Provider',\n",
       "       'Billing Amount', 'Room Number', 'Admission Type', 'Discharge Date',\n",
       "       'Medication', 'Test Results'],\n",
       "      dtype='object')"
      ]
     },
     "execution_count": 4,
     "metadata": {},
     "output_type": "execute_result"
    }
   ],
   "source": [
    "df.columns"
   ]
  },
  {
   "cell_type": "markdown",
   "id": "a471623c",
   "metadata": {
    "papermill": {
     "duration": 0.003757,
     "end_time": "2025-07-05T19:58:37.957164",
     "exception": false,
     "start_time": "2025-07-05T19:58:37.953407",
     "status": "completed"
    },
    "tags": []
   },
   "source": [
    "# EDA"
   ]
  },
  {
   "cell_type": "code",
   "execution_count": 5,
   "id": "7edb629d",
   "metadata": {
    "execution": {
     "iopub.execute_input": "2025-07-05T19:58:37.966092Z",
     "iopub.status.busy": "2025-07-05T19:58:37.965851Z",
     "iopub.status.idle": "2025-07-05T19:58:37.975225Z",
     "shell.execute_reply": "2025-07-05T19:58:37.974419Z"
    },
    "papermill": {
     "duration": 0.015488,
     "end_time": "2025-07-05T19:58:37.976640",
     "exception": false,
     "start_time": "2025-07-05T19:58:37.961152",
     "status": "completed"
    },
    "tags": []
   },
   "outputs": [],
   "source": [
    "numerical_columns = df.select_dtypes(include=[\"int64\", \"float64\"])\n",
    "categorical_columns = df.select_dtypes(include=[\"object\"])"
   ]
  },
  {
   "cell_type": "code",
   "execution_count": 6,
   "id": "ed54c1bb",
   "metadata": {
    "execution": {
     "iopub.execute_input": "2025-07-05T19:58:37.986319Z",
     "iopub.status.busy": "2025-07-05T19:58:37.986052Z",
     "iopub.status.idle": "2025-07-05T19:58:38.012973Z",
     "shell.execute_reply": "2025-07-05T19:58:38.012096Z"
    },
    "papermill": {
     "duration": 0.033752,
     "end_time": "2025-07-05T19:58:38.014678",
     "exception": false,
     "start_time": "2025-07-05T19:58:37.980926",
     "status": "completed"
    },
    "tags": []
   },
   "outputs": [
    {
     "data": {
      "text/html": [
       "<div>\n",
       "<style scoped>\n",
       "    .dataframe tbody tr th:only-of-type {\n",
       "        vertical-align: middle;\n",
       "    }\n",
       "\n",
       "    .dataframe tbody tr th {\n",
       "        vertical-align: top;\n",
       "    }\n",
       "\n",
       "    .dataframe thead th {\n",
       "        text-align: right;\n",
       "    }\n",
       "</style>\n",
       "<table border=\"1\" class=\"dataframe\">\n",
       "  <thead>\n",
       "    <tr style=\"text-align: right;\">\n",
       "      <th></th>\n",
       "      <th>Age</th>\n",
       "      <th>Billing Amount</th>\n",
       "      <th>Room Number</th>\n",
       "    </tr>\n",
       "  </thead>\n",
       "  <tbody>\n",
       "    <tr>\n",
       "      <th>count</th>\n",
       "      <td>55500.000000</td>\n",
       "      <td>55500.000000</td>\n",
       "      <td>55500.000000</td>\n",
       "    </tr>\n",
       "    <tr>\n",
       "      <th>mean</th>\n",
       "      <td>51.539459</td>\n",
       "      <td>25539.316097</td>\n",
       "      <td>301.134829</td>\n",
       "    </tr>\n",
       "    <tr>\n",
       "      <th>std</th>\n",
       "      <td>19.602454</td>\n",
       "      <td>14211.454431</td>\n",
       "      <td>115.243069</td>\n",
       "    </tr>\n",
       "    <tr>\n",
       "      <th>min</th>\n",
       "      <td>13.000000</td>\n",
       "      <td>-2008.492140</td>\n",
       "      <td>101.000000</td>\n",
       "    </tr>\n",
       "    <tr>\n",
       "      <th>25%</th>\n",
       "      <td>35.000000</td>\n",
       "      <td>13241.224652</td>\n",
       "      <td>202.000000</td>\n",
       "    </tr>\n",
       "    <tr>\n",
       "      <th>50%</th>\n",
       "      <td>52.000000</td>\n",
       "      <td>25538.069376</td>\n",
       "      <td>302.000000</td>\n",
       "    </tr>\n",
       "    <tr>\n",
       "      <th>75%</th>\n",
       "      <td>68.000000</td>\n",
       "      <td>37820.508436</td>\n",
       "      <td>401.000000</td>\n",
       "    </tr>\n",
       "    <tr>\n",
       "      <th>max</th>\n",
       "      <td>89.000000</td>\n",
       "      <td>52764.276736</td>\n",
       "      <td>500.000000</td>\n",
       "    </tr>\n",
       "  </tbody>\n",
       "</table>\n",
       "</div>"
      ],
      "text/plain": [
       "                Age  Billing Amount   Room Number\n",
       "count  55500.000000    55500.000000  55500.000000\n",
       "mean      51.539459    25539.316097    301.134829\n",
       "std       19.602454    14211.454431    115.243069\n",
       "min       13.000000    -2008.492140    101.000000\n",
       "25%       35.000000    13241.224652    202.000000\n",
       "50%       52.000000    25538.069376    302.000000\n",
       "75%       68.000000    37820.508436    401.000000\n",
       "max       89.000000    52764.276736    500.000000"
      ]
     },
     "execution_count": 6,
     "metadata": {},
     "output_type": "execute_result"
    }
   ],
   "source": [
    "numerical_columns.describe()"
   ]
  },
  {
   "cell_type": "markdown",
   "id": "e85a1a4d",
   "metadata": {
    "papermill": {
     "duration": 0.00395,
     "end_time": "2025-07-05T19:58:38.023240",
     "exception": false,
     "start_time": "2025-07-05T19:58:38.019290",
     "status": "completed"
    },
    "tags": []
   },
   "source": [
    "It seems that Age and Billing would be the only numerical columns that would help modeling since room number doesn't convey any medical or clinical meaning. Hopefully, doctors at any hospital treat everyone equally regardless of their room number :)"
   ]
  },
  {
   "cell_type": "code",
   "execution_count": 7,
   "id": "089aa2e3",
   "metadata": {
    "execution": {
     "iopub.execute_input": "2025-07-05T19:58:38.032759Z",
     "iopub.status.busy": "2025-07-05T19:58:38.032472Z",
     "iopub.status.idle": "2025-07-05T19:58:38.168766Z",
     "shell.execute_reply": "2025-07-05T19:58:38.167897Z"
    },
    "papermill": {
     "duration": 0.143015,
     "end_time": "2025-07-05T19:58:38.170538",
     "exception": false,
     "start_time": "2025-07-05T19:58:38.027523",
     "status": "completed"
    },
    "tags": []
   },
   "outputs": [
    {
     "data": {
      "text/html": [
       "<div>\n",
       "<style scoped>\n",
       "    .dataframe tbody tr th:only-of-type {\n",
       "        vertical-align: middle;\n",
       "    }\n",
       "\n",
       "    .dataframe tbody tr th {\n",
       "        vertical-align: top;\n",
       "    }\n",
       "\n",
       "    .dataframe thead th {\n",
       "        text-align: right;\n",
       "    }\n",
       "</style>\n",
       "<table border=\"1\" class=\"dataframe\">\n",
       "  <thead>\n",
       "    <tr style=\"text-align: right;\">\n",
       "      <th></th>\n",
       "      <th>Name</th>\n",
       "      <th>Gender</th>\n",
       "      <th>Blood Type</th>\n",
       "      <th>Medical Condition</th>\n",
       "      <th>Date of Admission</th>\n",
       "      <th>Doctor</th>\n",
       "      <th>Hospital</th>\n",
       "      <th>Insurance Provider</th>\n",
       "      <th>Admission Type</th>\n",
       "      <th>Discharge Date</th>\n",
       "      <th>Medication</th>\n",
       "      <th>Test Results</th>\n",
       "    </tr>\n",
       "  </thead>\n",
       "  <tbody>\n",
       "    <tr>\n",
       "      <th>count</th>\n",
       "      <td>55500</td>\n",
       "      <td>55500</td>\n",
       "      <td>55500</td>\n",
       "      <td>55500</td>\n",
       "      <td>55500</td>\n",
       "      <td>55500</td>\n",
       "      <td>55500</td>\n",
       "      <td>55500</td>\n",
       "      <td>55500</td>\n",
       "      <td>55500</td>\n",
       "      <td>55500</td>\n",
       "      <td>55500</td>\n",
       "    </tr>\n",
       "    <tr>\n",
       "      <th>unique</th>\n",
       "      <td>49992</td>\n",
       "      <td>2</td>\n",
       "      <td>8</td>\n",
       "      <td>6</td>\n",
       "      <td>1827</td>\n",
       "      <td>40341</td>\n",
       "      <td>39876</td>\n",
       "      <td>5</td>\n",
       "      <td>3</td>\n",
       "      <td>1856</td>\n",
       "      <td>5</td>\n",
       "      <td>3</td>\n",
       "    </tr>\n",
       "    <tr>\n",
       "      <th>top</th>\n",
       "      <td>DAvId muNoZ</td>\n",
       "      <td>Male</td>\n",
       "      <td>A-</td>\n",
       "      <td>Arthritis</td>\n",
       "      <td>2024-03-16</td>\n",
       "      <td>Michael Smith</td>\n",
       "      <td>LLC Smith</td>\n",
       "      <td>Cigna</td>\n",
       "      <td>Elective</td>\n",
       "      <td>2020-03-15</td>\n",
       "      <td>Lipitor</td>\n",
       "      <td>Abnormal</td>\n",
       "    </tr>\n",
       "    <tr>\n",
       "      <th>freq</th>\n",
       "      <td>3</td>\n",
       "      <td>27774</td>\n",
       "      <td>6969</td>\n",
       "      <td>9308</td>\n",
       "      <td>50</td>\n",
       "      <td>27</td>\n",
       "      <td>44</td>\n",
       "      <td>11249</td>\n",
       "      <td>18655</td>\n",
       "      <td>53</td>\n",
       "      <td>11140</td>\n",
       "      <td>18627</td>\n",
       "    </tr>\n",
       "  </tbody>\n",
       "</table>\n",
       "</div>"
      ],
      "text/plain": [
       "               Name Gender Blood Type Medical Condition Date of Admission  \\\n",
       "count         55500  55500      55500             55500             55500   \n",
       "unique        49992      2          8                 6              1827   \n",
       "top     DAvId muNoZ   Male         A-         Arthritis        2024-03-16   \n",
       "freq              3  27774       6969              9308                50   \n",
       "\n",
       "               Doctor   Hospital Insurance Provider Admission Type  \\\n",
       "count           55500      55500              55500          55500   \n",
       "unique          40341      39876                  5              3   \n",
       "top     Michael Smith  LLC Smith              Cigna       Elective   \n",
       "freq               27         44              11249          18655   \n",
       "\n",
       "       Discharge Date Medication Test Results  \n",
       "count           55500      55500        55500  \n",
       "unique           1856          5            3  \n",
       "top        2020-03-15    Lipitor     Abnormal  \n",
       "freq               53      11140        18627  "
      ]
     },
     "execution_count": 7,
     "metadata": {},
     "output_type": "execute_result"
    }
   ],
   "source": [
    "categorical_columns.describe()"
   ]
  },
  {
   "cell_type": "markdown",
   "id": "a9bc94b1",
   "metadata": {
    "papermill": {
     "duration": 0.004285,
     "end_time": "2025-07-05T19:58:38.181117",
     "exception": false,
     "start_time": "2025-07-05T19:58:38.176832",
     "status": "completed"
    },
    "tags": []
   },
   "source": [
    "As stated by the provider of this dataset, we can treat this dataset as a Multi-class Classification problem to solve for the Test Results columns. "
   ]
  },
  {
   "cell_type": "code",
   "execution_count": 8,
   "id": "a9ca0449",
   "metadata": {
    "execution": {
     "iopub.execute_input": "2025-07-05T19:58:38.191114Z",
     "iopub.status.busy": "2025-07-05T19:58:38.190824Z",
     "iopub.status.idle": "2025-07-05T19:58:38.459713Z",
     "shell.execute_reply": "2025-07-05T19:58:38.458720Z"
    },
    "papermill": {
     "duration": 0.275672,
     "end_time": "2025-07-05T19:58:38.461327",
     "exception": false,
     "start_time": "2025-07-05T19:58:38.185655",
     "status": "completed"
    },
    "tags": []
   },
   "outputs": [
    {
     "data": {
      "text/html": [
       "<div>\n",
       "<style scoped>\n",
       "    .dataframe tbody tr th:only-of-type {\n",
       "        vertical-align: middle;\n",
       "    }\n",
       "\n",
       "    .dataframe tbody tr th {\n",
       "        vertical-align: top;\n",
       "    }\n",
       "\n",
       "    .dataframe thead th {\n",
       "        text-align: right;\n",
       "    }\n",
       "</style>\n",
       "<table border=\"1\" class=\"dataframe\">\n",
       "  <thead>\n",
       "    <tr style=\"text-align: right;\">\n",
       "      <th></th>\n",
       "      <th>Name</th>\n",
       "      <th>Age</th>\n",
       "      <th>Gender</th>\n",
       "      <th>Blood Type</th>\n",
       "      <th>Medical Condition</th>\n",
       "      <th>Date of Admission</th>\n",
       "      <th>Doctor</th>\n",
       "      <th>Hospital</th>\n",
       "      <th>Insurance Provider</th>\n",
       "      <th>Billing Amount</th>\n",
       "      <th>Room Number</th>\n",
       "      <th>Admission Type</th>\n",
       "      <th>Discharge Date</th>\n",
       "      <th>Medication</th>\n",
       "      <th>Test Results</th>\n",
       "      <th>size</th>\n",
       "    </tr>\n",
       "  </thead>\n",
       "  <tbody>\n",
       "    <tr>\n",
       "      <th>50</th>\n",
       "      <td>ABIgaIL YOung</td>\n",
       "      <td>41</td>\n",
       "      <td>Female</td>\n",
       "      <td>O+</td>\n",
       "      <td>Hypertension</td>\n",
       "      <td>2022-12-15</td>\n",
       "      <td>Edward Kramer</td>\n",
       "      <td>Moore-Mcdaniel</td>\n",
       "      <td>UnitedHealthcare</td>\n",
       "      <td>1983.568297</td>\n",
       "      <td>192</td>\n",
       "      <td>Elective</td>\n",
       "      <td>2023-01-13</td>\n",
       "      <td>Ibuprofen</td>\n",
       "      <td>Normal</td>\n",
       "      <td>2</td>\n",
       "    </tr>\n",
       "    <tr>\n",
       "      <th>195</th>\n",
       "      <td>ALIcia taYLoR</td>\n",
       "      <td>78</td>\n",
       "      <td>Male</td>\n",
       "      <td>O+</td>\n",
       "      <td>Asthma</td>\n",
       "      <td>2022-09-18</td>\n",
       "      <td>Dawn Burton</td>\n",
       "      <td>Wright LLC</td>\n",
       "      <td>Aetna</td>\n",
       "      <td>31465.274979</td>\n",
       "      <td>149</td>\n",
       "      <td>Elective</td>\n",
       "      <td>2022-10-15</td>\n",
       "      <td>Aspirin</td>\n",
       "      <td>Inconclusive</td>\n",
       "      <td>2</td>\n",
       "    </tr>\n",
       "    <tr>\n",
       "      <th>563</th>\n",
       "      <td>AMy GREEN</td>\n",
       "      <td>79</td>\n",
       "      <td>Female</td>\n",
       "      <td>B+</td>\n",
       "      <td>Obesity</td>\n",
       "      <td>2021-03-30</td>\n",
       "      <td>Brett Johnson</td>\n",
       "      <td>Taylor-Williamson</td>\n",
       "      <td>UnitedHealthcare</td>\n",
       "      <td>23402.358491</td>\n",
       "      <td>249</td>\n",
       "      <td>Elective</td>\n",
       "      <td>2021-04-27</td>\n",
       "      <td>Penicillin</td>\n",
       "      <td>Abnormal</td>\n",
       "      <td>2</td>\n",
       "    </tr>\n",
       "  </tbody>\n",
       "</table>\n",
       "</div>"
      ],
      "text/plain": [
       "              Name  Age  Gender Blood Type Medical Condition  \\\n",
       "50   ABIgaIL YOung   41  Female         O+      Hypertension   \n",
       "195  ALIcia taYLoR   78    Male         O+            Asthma   \n",
       "563      AMy GREEN   79  Female         B+           Obesity   \n",
       "\n",
       "    Date of Admission         Doctor           Hospital Insurance Provider  \\\n",
       "50         2022-12-15  Edward Kramer     Moore-Mcdaniel   UnitedHealthcare   \n",
       "195        2022-09-18    Dawn Burton         Wright LLC              Aetna   \n",
       "563        2021-03-30  Brett Johnson  Taylor-Williamson   UnitedHealthcare   \n",
       "\n",
       "     Billing Amount  Room Number Admission Type Discharge Date  Medication  \\\n",
       "50      1983.568297          192       Elective     2023-01-13   Ibuprofen   \n",
       "195    31465.274979          149       Elective     2022-10-15     Aspirin   \n",
       "563    23402.358491          249       Elective     2021-04-27  Penicillin   \n",
       "\n",
       "     Test Results  size  \n",
       "50         Normal     2  \n",
       "195  Inconclusive     2  \n",
       "563      Abnormal     2  "
      ]
     },
     "execution_count": 8,
     "metadata": {},
     "output_type": "execute_result"
    }
   ],
   "source": [
    "grouped_df = df.groupby(df.columns.tolist(), as_index=False).size()\n",
    "grouped_df.loc[grouped_df[\"size\"] > 1].head(3)"
   ]
  },
  {
   "cell_type": "code",
   "execution_count": 9,
   "id": "4556daad",
   "metadata": {
    "execution": {
     "iopub.execute_input": "2025-07-05T19:58:38.472346Z",
     "iopub.status.busy": "2025-07-05T19:58:38.472034Z",
     "iopub.status.idle": "2025-07-05T19:58:38.556589Z",
     "shell.execute_reply": "2025-07-05T19:58:38.555643Z"
    },
    "papermill": {
     "duration": 0.091573,
     "end_time": "2025-07-05T19:58:38.558031",
     "exception": false,
     "start_time": "2025-07-05T19:58:38.466458",
     "status": "completed"
    },
    "tags": []
   },
   "outputs": [
    {
     "data": {
      "text/html": [
       "<div>\n",
       "<style scoped>\n",
       "    .dataframe tbody tr th:only-of-type {\n",
       "        vertical-align: middle;\n",
       "    }\n",
       "\n",
       "    .dataframe tbody tr th {\n",
       "        vertical-align: top;\n",
       "    }\n",
       "\n",
       "    .dataframe thead th {\n",
       "        text-align: right;\n",
       "    }\n",
       "</style>\n",
       "<table border=\"1\" class=\"dataframe\">\n",
       "  <thead>\n",
       "    <tr style=\"text-align: right;\">\n",
       "      <th></th>\n",
       "      <th>Name</th>\n",
       "      <th>Age</th>\n",
       "      <th>Gender</th>\n",
       "      <th>Blood Type</th>\n",
       "      <th>Medical Condition</th>\n",
       "      <th>Date of Admission</th>\n",
       "      <th>Doctor</th>\n",
       "      <th>Hospital</th>\n",
       "      <th>Insurance Provider</th>\n",
       "      <th>Billing Amount</th>\n",
       "      <th>Room Number</th>\n",
       "      <th>Admission Type</th>\n",
       "      <th>Discharge Date</th>\n",
       "      <th>Medication</th>\n",
       "      <th>Test Results</th>\n",
       "    </tr>\n",
       "  </thead>\n",
       "  <tbody>\n",
       "    <tr>\n",
       "      <th>42407</th>\n",
       "      <td>ABIgaIL YOung</td>\n",
       "      <td>41</td>\n",
       "      <td>Female</td>\n",
       "      <td>O+</td>\n",
       "      <td>Hypertension</td>\n",
       "      <td>2022-12-15</td>\n",
       "      <td>Edward Kramer</td>\n",
       "      <td>Moore-Mcdaniel</td>\n",
       "      <td>UnitedHealthcare</td>\n",
       "      <td>1983.568297</td>\n",
       "      <td>192</td>\n",
       "      <td>Elective</td>\n",
       "      <td>2023-01-13</td>\n",
       "      <td>Ibuprofen</td>\n",
       "      <td>Normal</td>\n",
       "    </tr>\n",
       "  </tbody>\n",
       "</table>\n",
       "</div>"
      ],
      "text/plain": [
       "                Name  Age  Gender Blood Type Medical Condition  \\\n",
       "42407  ABIgaIL YOung   41  Female         O+      Hypertension   \n",
       "\n",
       "      Date of Admission         Doctor        Hospital Insurance Provider  \\\n",
       "42407        2022-12-15  Edward Kramer  Moore-Mcdaniel   UnitedHealthcare   \n",
       "\n",
       "       Billing Amount  Room Number Admission Type Discharge Date Medication  \\\n",
       "42407     1983.568297          192       Elective     2023-01-13  Ibuprofen   \n",
       "\n",
       "      Test Results  \n",
       "42407       Normal  "
      ]
     },
     "execution_count": 9,
     "metadata": {},
     "output_type": "execute_result"
    }
   ],
   "source": [
    "df_deduped = df.drop_duplicates()\n",
    "df_deduped.loc[df_deduped[\"Name\"] == \"ABIgaIL YOung\"]"
   ]
  },
  {
   "cell_type": "code",
   "execution_count": 10,
   "id": "bef38f92",
   "metadata": {
    "execution": {
     "iopub.execute_input": "2025-07-05T19:58:38.569854Z",
     "iopub.status.busy": "2025-07-05T19:58:38.569030Z",
     "iopub.status.idle": "2025-07-05T19:58:38.644404Z",
     "shell.execute_reply": "2025-07-05T19:58:38.643492Z"
    },
    "papermill": {
     "duration": 0.082831,
     "end_time": "2025-07-05T19:58:38.646103",
     "exception": false,
     "start_time": "2025-07-05T19:58:38.563272",
     "status": "completed"
    },
    "tags": []
   },
   "outputs": [],
   "source": [
    "df.drop_duplicates(inplace=True)"
   ]
  },
  {
   "cell_type": "code",
   "execution_count": 11,
   "id": "e73edc32",
   "metadata": {
    "execution": {
     "iopub.execute_input": "2025-07-05T19:58:38.657135Z",
     "iopub.status.busy": "2025-07-05T19:58:38.656353Z",
     "iopub.status.idle": "2025-07-05T19:58:38.672510Z",
     "shell.execute_reply": "2025-07-05T19:58:38.671616Z"
    },
    "papermill": {
     "duration": 0.023211,
     "end_time": "2025-07-05T19:58:38.674035",
     "exception": false,
     "start_time": "2025-07-05T19:58:38.650824",
     "status": "completed"
    },
    "tags": []
   },
   "outputs": [
    {
     "data": {
      "text/html": [
       "<div>\n",
       "<style scoped>\n",
       "    .dataframe tbody tr th:only-of-type {\n",
       "        vertical-align: middle;\n",
       "    }\n",
       "\n",
       "    .dataframe tbody tr th {\n",
       "        vertical-align: top;\n",
       "    }\n",
       "\n",
       "    .dataframe thead th {\n",
       "        text-align: right;\n",
       "    }\n",
       "</style>\n",
       "<table border=\"1\" class=\"dataframe\">\n",
       "  <thead>\n",
       "    <tr style=\"text-align: right;\">\n",
       "      <th></th>\n",
       "      <th>Name</th>\n",
       "      <th>Age</th>\n",
       "      <th>Gender</th>\n",
       "      <th>Blood Type</th>\n",
       "      <th>Medical Condition</th>\n",
       "      <th>Date of Admission</th>\n",
       "      <th>Doctor</th>\n",
       "      <th>Hospital</th>\n",
       "      <th>Insurance Provider</th>\n",
       "      <th>Billing Amount</th>\n",
       "      <th>Room Number</th>\n",
       "      <th>Admission Type</th>\n",
       "      <th>Discharge Date</th>\n",
       "      <th>Medication</th>\n",
       "      <th>Test Results</th>\n",
       "    </tr>\n",
       "  </thead>\n",
       "  <tbody>\n",
       "    <tr>\n",
       "      <th>42407</th>\n",
       "      <td>ABIgaIL YOung</td>\n",
       "      <td>41</td>\n",
       "      <td>Female</td>\n",
       "      <td>O+</td>\n",
       "      <td>Hypertension</td>\n",
       "      <td>2022-12-15</td>\n",
       "      <td>Edward Kramer</td>\n",
       "      <td>Moore-Mcdaniel</td>\n",
       "      <td>UnitedHealthcare</td>\n",
       "      <td>1983.568297</td>\n",
       "      <td>192</td>\n",
       "      <td>Elective</td>\n",
       "      <td>2023-01-13</td>\n",
       "      <td>Ibuprofen</td>\n",
       "      <td>Normal</td>\n",
       "    </tr>\n",
       "  </tbody>\n",
       "</table>\n",
       "</div>"
      ],
      "text/plain": [
       "                Name  Age  Gender Blood Type Medical Condition  \\\n",
       "42407  ABIgaIL YOung   41  Female         O+      Hypertension   \n",
       "\n",
       "      Date of Admission         Doctor        Hospital Insurance Provider  \\\n",
       "42407        2022-12-15  Edward Kramer  Moore-Mcdaniel   UnitedHealthcare   \n",
       "\n",
       "       Billing Amount  Room Number Admission Type Discharge Date Medication  \\\n",
       "42407     1983.568297          192       Elective     2023-01-13  Ibuprofen   \n",
       "\n",
       "      Test Results  \n",
       "42407       Normal  "
      ]
     },
     "execution_count": 11,
     "metadata": {},
     "output_type": "execute_result"
    }
   ],
   "source": [
    "df.loc[df[\"Name\"] == \"ABIgaIL YOung\"]"
   ]
  },
  {
   "cell_type": "code",
   "execution_count": 12,
   "id": "3ede14f0",
   "metadata": {
    "execution": {
     "iopub.execute_input": "2025-07-05T19:58:38.685249Z",
     "iopub.status.busy": "2025-07-05T19:58:38.684951Z",
     "iopub.status.idle": "2025-07-05T19:58:38.758714Z",
     "shell.execute_reply": "2025-07-05T19:58:38.757842Z"
    },
    "papermill": {
     "duration": 0.080986,
     "end_time": "2025-07-05T19:58:38.760287",
     "exception": false,
     "start_time": "2025-07-05T19:58:38.679301",
     "status": "completed"
    },
    "tags": []
   },
   "outputs": [
    {
     "data": {
      "text/plain": [
       "0"
      ]
     },
     "execution_count": 12,
     "metadata": {},
     "output_type": "execute_result"
    }
   ],
   "source": [
    "df.duplicated().sum()"
   ]
  },
  {
   "cell_type": "markdown",
   "id": "f470c5d0",
   "metadata": {
    "papermill": {
     "duration": 0.004593,
     "end_time": "2025-07-05T19:58:38.769921",
     "exception": false,
     "start_time": "2025-07-05T19:58:38.765328",
     "status": "completed"
    },
    "tags": []
   },
   "source": [
    "# Data Visualizations"
   ]
  },
  {
   "cell_type": "code",
   "execution_count": 13,
   "id": "d2753b99",
   "metadata": {
    "execution": {
     "iopub.execute_input": "2025-07-05T19:58:38.780774Z",
     "iopub.status.busy": "2025-07-05T19:58:38.780447Z",
     "iopub.status.idle": "2025-07-05T19:58:40.634441Z",
     "shell.execute_reply": "2025-07-05T19:58:40.633451Z"
    },
    "papermill": {
     "duration": 1.861731,
     "end_time": "2025-07-05T19:58:40.636507",
     "exception": false,
     "start_time": "2025-07-05T19:58:38.774776",
     "status": "completed"
    },
    "tags": []
   },
   "outputs": [],
   "source": [
    "import seaborn as sns\n",
    "import matplotlib.pyplot as plt"
   ]
  },
  {
   "cell_type": "code",
   "execution_count": 14,
   "id": "d3bcaca9",
   "metadata": {
    "execution": {
     "iopub.execute_input": "2025-07-05T19:58:40.658214Z",
     "iopub.status.busy": "2025-07-05T19:58:40.657502Z",
     "iopub.status.idle": "2025-07-05T19:58:40.668526Z",
     "shell.execute_reply": "2025-07-05T19:58:40.667562Z"
    },
    "papermill": {
     "duration": 0.02211,
     "end_time": "2025-07-05T19:58:40.670053",
     "exception": false,
     "start_time": "2025-07-05T19:58:40.647943",
     "status": "completed"
    },
    "tags": []
   },
   "outputs": [
    {
     "data": {
      "text/plain": [
       "Age\n",
       "13    14\n",
       "14    18\n",
       "15    28\n",
       "dtype: int64"
      ]
     },
     "execution_count": 14,
     "metadata": {},
     "output_type": "execute_result"
    }
   ],
   "source": [
    "df.groupby(\"Age\").size().head(3)"
   ]
  },
  {
   "cell_type": "code",
   "execution_count": 15,
   "id": "e4465766",
   "metadata": {
    "execution": {
     "iopub.execute_input": "2025-07-05T19:58:40.681077Z",
     "iopub.status.busy": "2025-07-05T19:58:40.680831Z",
     "iopub.status.idle": "2025-07-05T19:58:40.690954Z",
     "shell.execute_reply": "2025-07-05T19:58:40.690004Z"
    },
    "papermill": {
     "duration": 0.017534,
     "end_time": "2025-07-05T19:58:40.692635",
     "exception": false,
     "start_time": "2025-07-05T19:58:40.675101",
     "status": "completed"
    },
    "tags": []
   },
   "outputs": [
    {
     "data": {
      "text/html": [
       "<div>\n",
       "<style scoped>\n",
       "    .dataframe tbody tr th:only-of-type {\n",
       "        vertical-align: middle;\n",
       "    }\n",
       "\n",
       "    .dataframe tbody tr th {\n",
       "        vertical-align: top;\n",
       "    }\n",
       "\n",
       "    .dataframe thead th {\n",
       "        text-align: right;\n",
       "    }\n",
       "</style>\n",
       "<table border=\"1\" class=\"dataframe\">\n",
       "  <thead>\n",
       "    <tr style=\"text-align: right;\">\n",
       "      <th></th>\n",
       "      <th>Age</th>\n",
       "      <th>Count</th>\n",
       "    </tr>\n",
       "  </thead>\n",
       "  <tbody>\n",
       "    <tr>\n",
       "      <th>0</th>\n",
       "      <td>13</td>\n",
       "      <td>14</td>\n",
       "    </tr>\n",
       "    <tr>\n",
       "      <th>1</th>\n",
       "      <td>14</td>\n",
       "      <td>18</td>\n",
       "    </tr>\n",
       "    <tr>\n",
       "      <th>2</th>\n",
       "      <td>15</td>\n",
       "      <td>28</td>\n",
       "    </tr>\n",
       "    <tr>\n",
       "      <th>3</th>\n",
       "      <td>16</td>\n",
       "      <td>24</td>\n",
       "    </tr>\n",
       "    <tr>\n",
       "      <th>4</th>\n",
       "      <td>17</td>\n",
       "      <td>32</td>\n",
       "    </tr>\n",
       "    <tr>\n",
       "      <th>5</th>\n",
       "      <td>18</td>\n",
       "      <td>770</td>\n",
       "    </tr>\n",
       "    <tr>\n",
       "      <th>6</th>\n",
       "      <td>19</td>\n",
       "      <td>791</td>\n",
       "    </tr>\n",
       "    <tr>\n",
       "      <th>7</th>\n",
       "      <td>20</td>\n",
       "      <td>744</td>\n",
       "    </tr>\n",
       "    <tr>\n",
       "      <th>8</th>\n",
       "      <td>21</td>\n",
       "      <td>817</td>\n",
       "    </tr>\n",
       "    <tr>\n",
       "      <th>9</th>\n",
       "      <td>22</td>\n",
       "      <td>810</td>\n",
       "    </tr>\n",
       "  </tbody>\n",
       "</table>\n",
       "</div>"
      ],
      "text/plain": [
       "   Age  Count\n",
       "0   13     14\n",
       "1   14     18\n",
       "2   15     28\n",
       "3   16     24\n",
       "4   17     32\n",
       "5   18    770\n",
       "6   19    791\n",
       "7   20    744\n",
       "8   21    817\n",
       "9   22    810"
      ]
     },
     "execution_count": 15,
     "metadata": {},
     "output_type": "execute_result"
    }
   ],
   "source": [
    "df.groupby(\"Age\").size().reset_index(name=\"Count\").head(10)"
   ]
  },
  {
   "cell_type": "code",
   "execution_count": 16,
   "id": "7cb461fc",
   "metadata": {
    "execution": {
     "iopub.execute_input": "2025-07-05T19:58:40.704953Z",
     "iopub.status.busy": "2025-07-05T19:58:40.704096Z",
     "iopub.status.idle": "2025-07-05T19:58:41.429112Z",
     "shell.execute_reply": "2025-07-05T19:58:41.428106Z"
    },
    "papermill": {
     "duration": 0.733219,
     "end_time": "2025-07-05T19:58:41.431109",
     "exception": false,
     "start_time": "2025-07-05T19:58:40.697890",
     "status": "completed"
    },
    "tags": []
   },
   "outputs": [
    {
     "data": {
      "image/png": "[encoded data removed]",
      "text/plain": [
       "<Figure size 1800x500 with 1 Axes>"
      ]
     },
     "metadata": {},
     "output_type": "display_data"
    }
   ],
   "source": [
    "plt.figure(figsize=(18,5))\n",
    "\n",
    "age_count = df.groupby(\"Age\").size().reset_index(name=\"Count\")\n",
    "sns.barplot(data=age_count, x=\"Age\", y=\"Count\")\n",
    "\n",
    "plt.tight_layout()\n",
    "plt.show()"
   ]
  },
  {
   "cell_type": "code",
   "execution_count": 17,
   "id": "02fa8849",
   "metadata": {
    "execution": {
     "iopub.execute_input": "2025-07-05T19:58:41.444550Z",
     "iopub.status.busy": "2025-07-05T19:58:41.444158Z",
     "iopub.status.idle": "2025-07-05T19:58:41.566548Z",
     "shell.execute_reply": "2025-07-05T19:58:41.565761Z"
    },
    "papermill": {
     "duration": 0.130604,
     "end_time": "2025-07-05T19:58:41.567865",
     "exception": false,
     "start_time": "2025-07-05T19:58:41.437261",
     "status": "completed"
    },
    "tags": []
   },
   "outputs": [
    {
     "data": {
      "image/png": "[encoded data removed]",
      "text/plain": [
       "<Figure size 640x480 with 1 Axes>"
      ]
     },
     "metadata": {},
     "output_type": "display_data"
    }
   ],
   "source": [
    "medical_condition_df = df.groupby(\"Medical Condition\") \\\n",
    "                         .size() \\\n",
    "                         .reset_index(name=\"Count\")\n",
    "\n",
    "plt.pie(medical_condition_df[\"Count\"], labels=medical_condition_df[\"Medical Condition\"], autopct=\"%1.1f%%\")\n",
    "\n",
    "plt.tight_layout()\n",
    "plt.show()"
   ]
  },
  {
   "cell_type": "code",
   "execution_count": 18,
   "id": "902440ab",
   "metadata": {
    "execution": {
     "iopub.execute_input": "2025-07-05T19:58:41.580987Z",
     "iopub.status.busy": "2025-07-05T19:58:41.580728Z",
     "iopub.status.idle": "2025-07-05T19:58:41.586146Z",
     "shell.execute_reply": "2025-07-05T19:58:41.585066Z"
    },
    "papermill": {
     "duration": 0.013732,
     "end_time": "2025-07-05T19:58:41.587663",
     "exception": false,
     "start_time": "2025-07-05T19:58:41.573931",
     "status": "completed"
    },
    "tags": []
   },
   "outputs": [
    {
     "name": "stdout",
     "output_type": "stream",
     "text": [
      "Name\n",
      "Age\n",
      "Gender\n",
      "Blood Type\n",
      "Medical Condition\n",
      "Date of Admission\n",
      "Doctor\n",
      "Hospital\n",
      "Insurance Provider\n",
      "Billing Amount\n",
      "Room Number\n",
      "Admission Type\n",
      "Discharge Date\n",
      "Medication\n"
     ]
    }
   ],
   "source": [
    "for col in df.columns:\n",
    "    if col != \"Test Results\":\n",
    "        print(col)"
   ]
  },
  {
   "cell_type": "markdown",
   "id": "735cfa22",
   "metadata": {
    "papermill": {
     "duration": 0.006064,
     "end_time": "2025-07-05T19:58:41.600086",
     "exception": false,
     "start_time": "2025-07-05T19:58:41.594022",
     "status": "completed"
    },
    "tags": []
   },
   "source": [
    "# Modeling"
   ]
  },
  {
   "cell_type": "code",
   "execution_count": 19,
   "id": "f2b9218d",
   "metadata": {
    "execution": {
     "iopub.execute_input": "2025-07-05T19:58:41.612922Z",
     "iopub.status.busy": "2025-07-05T19:58:41.612662Z",
     "iopub.status.idle": "2025-07-05T19:58:42.568308Z",
     "shell.execute_reply": "2025-07-05T19:58:42.567465Z"
    },
    "papermill": {
     "duration": 0.963721,
     "end_time": "2025-07-05T19:58:42.569733",
     "exception": false,
     "start_time": "2025-07-05T19:58:41.606012",
     "status": "completed"
    },
    "tags": []
   },
   "outputs": [],
   "source": [
    "# Preprocess categorical variables\n",
    "from sklearn.preprocessing import LabelEncoder\n",
    "\n",
    "# Split data into train and test data\n",
    "from sklearn.model_selection import train_test_split\n",
    "\n",
    "# Models to try\n",
    "from sklearn.ensemble import RandomForestRegressor\n",
    "from xgboost import XGBRegressor\n",
    "\n",
    "# Measurements\n",
    "from sklearn.metrics import mean_absolute_error"
   ]
  }
 ],
 "metadata": {
  "kaggle": {
   "accelerator": "none",
   "dataSources": [
    {
     "datasetId": 3934836,
     "sourceId": 8356547,
     "sourceType": "datasetVersion"
    }
   ],
   "dockerImageVersionId": 31040,
   "isGpuEnabled": false,
   "isInternetEnabled": false,
   "language": "python",
   "sourceType": "notebook"
  },
  "kernelspec": {
   "display_name": "Python 3",
   "language": "python",
   "name": "python3"
  },
  "language_info": {
   "codemirror_mode": {
    "name": "ipython",
    "version": 3
   },
   "file_extension": ".py",
   "mimetype": "text/x-python",
   "name": "python",
   "nbconvert_exporter": "python",
   "pygments_lexer": "ipython3",
   "version": "3.11.11"
  },
  "papermill": {
   "default_parameters": {},
   "duration": 11.921043,
   "end_time": "2025-07-05T19:58:43.195098",
   "environment_variables": {},
   "exception": null,
   "input_path": "__notebook__.ipynb",
   "output_path": "__notebook__.ipynb",
   "parameters": {},
   "start_time": "2025-07-05T19:58:31.274055",
   "version": "2.6.0"
  }
 },
 "nbformat": 4,
 "nbformat_minor": 5
}
