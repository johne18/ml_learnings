{
 "cells": [
  {
   "cell_type": "markdown",
   "id": "5cbefac0",
   "metadata": {
    "papermill": {
     "duration": 0.004848,
     "end_time": "2025-07-06T14:44:36.881219",
     "exception": false,
     "start_time": "2025-07-06T14:44:36.876371",
     "status": "completed"
    },
    "tags": []
   },
   "source": [
    "# Goals\n",
    "- Regression Models (Random Forest, XGBoost) to predict billing amount\n",
    "- Classification models (Random Forest, XGBoost, KNN) to predict medical condition\n",
    "- Clustering (K-Means) (?)"
   ]
  },
  {
   "cell_type": "code",
   "execution_count": 1,
   "id": "49dffd4f",
   "metadata": {
    "_cell_guid": "b1076dfc-b9ad-4769-8c92-a6c4dae69d19",
    "_uuid": "8f2839f25d086af736a60e9eeb907d3b93b6e0e5",
    "execution": {
     "iopub.execute_input": "2025-07-06T14:44:36.891688Z",
     "iopub.status.busy": "2025-07-06T14:44:36.890774Z",
     "iopub.status.idle": "2025-07-06T14:44:38.828947Z",
     "shell.execute_reply": "2025-07-06T14:44:38.827800Z"
    },
    "papermill": {
     "duration": 1.945207,
     "end_time": "2025-07-06T14:44:38.830617",
     "exception": false,
     "start_time": "2025-07-06T14:44:36.885410",
     "status": "completed"
    },
    "tags": []
   },
   "outputs": [
    {
     "name": "stdout",
     "output_type": "stream",
     "text": [
      "/kaggle/input/healthcare-dataset/healthcare_dataset.csv\n"
     ]
    }
   ],
   "source": [
    "import warnings\n",
    "warnings.filterwarnings(\"ignore\")\n",
    "import numpy as np\n",
    "import pandas as pd \n",
    "\n",
    "import os\n",
    "for dirname, _, filenames in os.walk('/kaggle/input'):\n",
    "    for filename in filenames:\n",
    "        print(os.path.join(dirname, filename))"
   ]
  },
  {
   "cell_type": "code",
   "execution_count": 2,
   "id": "bcf2a2f0",
   "metadata": {
    "execution": {
     "iopub.execute_input": "2025-07-06T14:44:38.840721Z",
     "iopub.status.busy": "2025-07-06T14:44:38.839732Z",
     "iopub.status.idle": "2025-07-06T14:44:39.209278Z",
     "shell.execute_reply": "2025-07-06T14:44:39.208261Z"
    },
    "papermill": {
     "duration": 0.376408,
     "end_time": "2025-07-06T14:44:39.211249",
     "exception": false,
     "start_time": "2025-07-06T14:44:38.834841",
     "status": "completed"
    },
    "tags": []
   },
   "outputs": [],
   "source": [
    "df = pd.read_csv(\"/kaggle/input/healthcare-dataset/healthcare_dataset.csv\")"
   ]
  },
  {
   "cell_type": "code",
   "execution_count": 3,
   "id": "68679497",
   "metadata": {
    "execution": {
     "iopub.execute_input": "2025-07-06T14:44:39.222060Z",
     "iopub.status.busy": "2025-07-06T14:44:39.221731Z",
     "iopub.status.idle": "2025-07-06T14:44:39.254444Z",
     "shell.execute_reply": "2025-07-06T14:44:39.253199Z"
    },
    "papermill": {
     "duration": 0.040609,
     "end_time": "2025-07-06T14:44:39.256491",
     "exception": false,
     "start_time": "2025-07-06T14:44:39.215882",
     "status": "completed"
    },
    "tags": []
   },
   "outputs": [
    {
     "data": {
      "text/html": [
       "<div>\n",
       "<style scoped>\n",
       "    .dataframe tbody tr th:only-of-type {\n",
       "        vertical-align: middle;\n",
       "    }\n",
       "\n",
       "    .dataframe tbody tr th {\n",
       "        vertical-align: top;\n",
       "    }\n",
       "\n",
       "    .dataframe thead th {\n",
       "        text-align: right;\n",
       "    }\n",
       "</style>\n",
       "<table border=\"1\" class=\"dataframe\">\n",
       "  <thead>\n",
       "    <tr style=\"text-align: right;\">\n",
       "      <th></th>\n",
       "      <th>Name</th>\n",
       "      <th>Age</th>\n",
       "      <th>Gender</th>\n",
       "      <th>Blood Type</th>\n",
       "      <th>Medical Condition</th>\n",
       "      <th>Date of Admission</th>\n",
       "      <th>Doctor</th>\n",
       "      <th>Hospital</th>\n",
       "      <th>Insurance Provider</th>\n",
       "      <th>Billing Amount</th>\n",
       "      <th>Room Number</th>\n",
       "      <th>Admission Type</th>\n",
       "      <th>Discharge Date</th>\n",
       "      <th>Medication</th>\n",
       "      <th>Test Results</th>\n",
       "    </tr>\n",
       "  </thead>\n",
       "  <tbody>\n",
       "    <tr>\n",
       "      <th>0</th>\n",
       "      <td>Bobby JacksOn</td>\n",
       "      <td>30</td>\n",
       "      <td>Male</td>\n",
       "      <td>B-</td>\n",
       "      <td>Cancer</td>\n",
       "      <td>2024-01-31</td>\n",
       "      <td>Matthew Smith</td>\n",
       "      <td>Sons and Miller</td>\n",
       "      <td>Blue Cross</td>\n",
       "      <td>18856.281306</td>\n",
       "      <td>328</td>\n",
       "      <td>Urgent</td>\n",
       "      <td>2024-02-02</td>\n",
       "      <td>Paracetamol</td>\n",
       "      <td>Normal</td>\n",
       "    </tr>\n",
       "    <tr>\n",
       "      <th>1</th>\n",
       "      <td>LesLie TErRy</td>\n",
       "      <td>62</td>\n",
       "      <td>Male</td>\n",
       "      <td>A+</td>\n",
       "      <td>Obesity</td>\n",
       "      <td>2019-08-20</td>\n",
       "      <td>Samantha Davies</td>\n",
       "      <td>Kim Inc</td>\n",
       "      <td>Medicare</td>\n",
       "      <td>33643.327287</td>\n",
       "      <td>265</td>\n",
       "      <td>Emergency</td>\n",
       "      <td>2019-08-26</td>\n",
       "      <td>Ibuprofen</td>\n",
       "      <td>Inconclusive</td>\n",
       "    </tr>\n",
       "    <tr>\n",
       "      <th>2</th>\n",
       "      <td>DaNnY sMitH</td>\n",
       "      <td>76</td>\n",
       "      <td>Female</td>\n",
       "      <td>A-</td>\n",
       "      <td>Obesity</td>\n",
       "      <td>2022-09-22</td>\n",
       "      <td>Tiffany Mitchell</td>\n",
       "      <td>Cook PLC</td>\n",
       "      <td>Aetna</td>\n",
       "      <td>27955.096079</td>\n",
       "      <td>205</td>\n",
       "      <td>Emergency</td>\n",
       "      <td>2022-10-07</td>\n",
       "      <td>Aspirin</td>\n",
       "      <td>Normal</td>\n",
       "    </tr>\n",
       "    <tr>\n",
       "      <th>3</th>\n",
       "      <td>andrEw waTtS</td>\n",
       "      <td>28</td>\n",
       "      <td>Female</td>\n",
       "      <td>O+</td>\n",
       "      <td>Diabetes</td>\n",
       "      <td>2020-11-18</td>\n",
       "      <td>Kevin Wells</td>\n",
       "      <td>Hernandez Rogers and Vang,</td>\n",
       "      <td>Medicare</td>\n",
       "      <td>37909.782410</td>\n",
       "      <td>450</td>\n",
       "      <td>Elective</td>\n",
       "      <td>2020-12-18</td>\n",
       "      <td>Ibuprofen</td>\n",
       "      <td>Abnormal</td>\n",
       "    </tr>\n",
       "    <tr>\n",
       "      <th>4</th>\n",
       "      <td>adrIENNE bEll</td>\n",
       "      <td>43</td>\n",
       "      <td>Female</td>\n",
       "      <td>AB+</td>\n",
       "      <td>Cancer</td>\n",
       "      <td>2022-09-19</td>\n",
       "      <td>Kathleen Hanna</td>\n",
       "      <td>White-White</td>\n",
       "      <td>Aetna</td>\n",
       "      <td>14238.317814</td>\n",
       "      <td>458</td>\n",
       "      <td>Urgent</td>\n",
       "      <td>2022-10-09</td>\n",
       "      <td>Penicillin</td>\n",
       "      <td>Abnormal</td>\n",
       "    </tr>\n",
       "  </tbody>\n",
       "</table>\n",
       "</div>"
      ],
      "text/plain": [
       "            Name  Age  Gender Blood Type Medical Condition Date of Admission  \\\n",
       "0  Bobby JacksOn   30    Male         B-            Cancer        2024-01-31   \n",
       "1   LesLie TErRy   62    Male         A+           Obesity        2019-08-20   \n",
       "2    DaNnY sMitH   76  Female         A-           Obesity        2022-09-22   \n",
       "3   andrEw waTtS   28  Female         O+          Diabetes        2020-11-18   \n",
       "4  adrIENNE bEll   43  Female        AB+            Cancer        2022-09-19   \n",
       "\n",
       "             Doctor                    Hospital Insurance Provider  \\\n",
       "0     Matthew Smith             Sons and Miller         Blue Cross   \n",
       "1   Samantha Davies                     Kim Inc           Medicare   \n",
       "2  Tiffany Mitchell                    Cook PLC              Aetna   \n",
       "3       Kevin Wells  Hernandez Rogers and Vang,           Medicare   \n",
       "4    Kathleen Hanna                 White-White              Aetna   \n",
       "\n",
       "   Billing Amount  Room Number Admission Type Discharge Date   Medication  \\\n",
       "0    18856.281306          328         Urgent     2024-02-02  Paracetamol   \n",
       "1    33643.327287          265      Emergency     2019-08-26    Ibuprofen   \n",
       "2    27955.096079          205      Emergency     2022-10-07      Aspirin   \n",
       "3    37909.782410          450       Elective     2020-12-18    Ibuprofen   \n",
       "4    14238.317814          458         Urgent     2022-10-09   Penicillin   \n",
       "\n",
       "   Test Results  \n",
       "0        Normal  \n",
       "1  Inconclusive  \n",
       "2        Normal  \n",
       "3      Abnormal  \n",
       "4      Abnormal  "
      ]
     },
     "execution_count": 3,
     "metadata": {},
     "output_type": "execute_result"
    }
   ],
   "source": [
    "df.head(5)"
   ]
  },
  {
   "cell_type": "code",
   "execution_count": 4,
   "id": "95ddff92",
   "metadata": {
    "execution": {
     "iopub.execute_input": "2025-07-06T14:44:39.268952Z",
     "iopub.status.busy": "2025-07-06T14:44:39.268534Z",
     "iopub.status.idle": "2025-07-06T14:44:39.276157Z",
     "shell.execute_reply": "2025-07-06T14:44:39.275155Z"
    },
    "papermill": {
     "duration": 0.015442,
     "end_time": "2025-07-06T14:44:39.277907",
     "exception": false,
     "start_time": "2025-07-06T14:44:39.262465",
     "status": "completed"
    },
    "tags": []
   },
   "outputs": [
    {
     "data": {
      "text/plain": [
       "Index(['Name', 'Age', 'Gender', 'Blood Type', 'Medical Condition',\n",
       "       'Date of Admission', 'Doctor', 'Hospital', 'Insurance Provider',\n",
       "       'Billing Amount', 'Room Number', 'Admission Type', 'Discharge Date',\n",
       "       'Medication', 'Test Results'],\n",
       "      dtype='object')"
      ]
     },
     "execution_count": 4,
     "metadata": {},
     "output_type": "execute_result"
    }
   ],
   "source": [
    "df.columns"
   ]
  },
  {
   "cell_type": "markdown",
   "id": "f4d37c2b",
   "metadata": {
    "papermill": {
     "duration": 0.004604,
     "end_time": "2025-07-06T14:44:39.289915",
     "exception": false,
     "start_time": "2025-07-06T14:44:39.285311",
     "status": "completed"
    },
    "tags": []
   },
   "source": [
    "# EDA"
   ]
  },
  {
   "cell_type": "code",
   "execution_count": 5,
   "id": "58980134",
   "metadata": {
    "execution": {
     "iopub.execute_input": "2025-07-06T14:44:39.301338Z",
     "iopub.status.busy": "2025-07-06T14:44:39.301053Z",
     "iopub.status.idle": "2025-07-06T14:44:39.310611Z",
     "shell.execute_reply": "2025-07-06T14:44:39.309746Z"
    },
    "papermill": {
     "duration": 0.01852,
     "end_time": "2025-07-06T14:44:39.313046",
     "exception": false,
     "start_time": "2025-07-06T14:44:39.294526",
     "status": "completed"
    },
    "tags": []
   },
   "outputs": [],
   "source": [
    "numerical_columns = df.select_dtypes(include=[\"int64\", \"float64\"])\n",
    "categorical_columns = df.select_dtypes(include=[\"object\"])"
   ]
  },
  {
   "cell_type": "code",
   "execution_count": 6,
   "id": "d7b9c176",
   "metadata": {
    "execution": {
     "iopub.execute_input": "2025-07-06T14:44:39.328952Z",
     "iopub.status.busy": "2025-07-06T14:44:39.327934Z",
     "iopub.status.idle": "2025-07-06T14:44:39.357558Z",
     "shell.execute_reply": "2025-07-06T14:44:39.356551Z"
    },
    "papermill": {
     "duration": 0.038663,
     "end_time": "2025-07-06T14:44:39.359263",
     "exception": false,
     "start_time": "2025-07-06T14:44:39.320600",
     "status": "completed"
    },
    "tags": []
   },
   "outputs": [
    {
     "data": {
      "text/html": [
       "<div>\n",
       "<style scoped>\n",
       "    .dataframe tbody tr th:only-of-type {\n",
       "        vertical-align: middle;\n",
       "    }\n",
       "\n",
       "    .dataframe tbody tr th {\n",
       "        vertical-align: top;\n",
       "    }\n",
       "\n",
       "    .dataframe thead th {\n",
       "        text-align: right;\n",
       "    }\n",
       "</style>\n",
       "<table border=\"1\" class=\"dataframe\">\n",
       "  <thead>\n",
       "    <tr style=\"text-align: right;\">\n",
       "      <th></th>\n",
       "      <th>Age</th>\n",
       "      <th>Billing Amount</th>\n",
       "      <th>Room Number</th>\n",
       "    </tr>\n",
       "  </thead>\n",
       "  <tbody>\n",
       "    <tr>\n",
       "      <th>count</th>\n",
       "      <td>55500.000000</td>\n",
       "      <td>55500.000000</td>\n",
       "      <td>55500.000000</td>\n",
       "    </tr>\n",
       "    <tr>\n",
       "      <th>mean</th>\n",
       "      <td>51.539459</td>\n",
       "      <td>25539.316097</td>\n",
       "      <td>301.134829</td>\n",
       "    </tr>\n",
       "    <tr>\n",
       "      <th>std</th>\n",
       "      <td>19.602454</td>\n",
       "      <td>14211.454431</td>\n",
       "      <td>115.243069</td>\n",
       "    </tr>\n",
       "    <tr>\n",
       "      <th>min</th>\n",
       "      <td>13.000000</td>\n",
       "      <td>-2008.492140</td>\n",
       "      <td>101.000000</td>\n",
       "    </tr>\n",
       "    <tr>\n",
       "      <th>25%</th>\n",
       "      <td>35.000000</td>\n",
       "      <td>13241.224652</td>\n",
       "      <td>202.000000</td>\n",
       "    </tr>\n",
       "    <tr>\n",
       "      <th>50%</th>\n",
       "      <td>52.000000</td>\n",
       "      <td>25538.069376</td>\n",
       "      <td>302.000000</td>\n",
       "    </tr>\n",
       "    <tr>\n",
       "      <th>75%</th>\n",
       "      <td>68.000000</td>\n",
       "      <td>37820.508436</td>\n",
       "      <td>401.000000</td>\n",
       "    </tr>\n",
       "    <tr>\n",
       "      <th>max</th>\n",
       "      <td>89.000000</td>\n",
       "      <td>52764.276736</td>\n",
       "      <td>500.000000</td>\n",
       "    </tr>\n",
       "  </tbody>\n",
       "</table>\n",
       "</div>"
      ],
      "text/plain": [
       "                Age  Billing Amount   Room Number\n",
       "count  55500.000000    55500.000000  55500.000000\n",
       "mean      51.539459    25539.316097    301.134829\n",
       "std       19.602454    14211.454431    115.243069\n",
       "min       13.000000    -2008.492140    101.000000\n",
       "25%       35.000000    13241.224652    202.000000\n",
       "50%       52.000000    25538.069376    302.000000\n",
       "75%       68.000000    37820.508436    401.000000\n",
       "max       89.000000    52764.276736    500.000000"
      ]
     },
     "execution_count": 6,
     "metadata": {},
     "output_type": "execute_result"
    }
   ],
   "source": [
    "numerical_columns.describe()"
   ]
  },
  {
   "cell_type": "markdown",
   "id": "34ca9fdc",
   "metadata": {
    "papermill": {
     "duration": 0.004328,
     "end_time": "2025-07-06T14:44:39.368787",
     "exception": false,
     "start_time": "2025-07-06T14:44:39.364459",
     "status": "completed"
    },
    "tags": []
   },
   "source": [
    "It seems that Age and Billing would be the only numerical columns that would help modeling since room number doesn't convey any medical or clinical meaning. Hopefully, doctors at any hospital treat everyone equally regardless of their room number :)"
   ]
  },
  {
   "cell_type": "code",
   "execution_count": 7,
   "id": "c6edcf70",
   "metadata": {
    "execution": {
     "iopub.execute_input": "2025-07-06T14:44:39.379004Z",
     "iopub.status.busy": "2025-07-06T14:44:39.378669Z",
     "iopub.status.idle": "2025-07-06T14:44:39.582433Z",
     "shell.execute_reply": "2025-07-06T14:44:39.581548Z"
    },
    "papermill": {
     "duration": 0.210533,
     "end_time": "2025-07-06T14:44:39.583816",
     "exception": false,
     "start_time": "2025-07-06T14:44:39.373283",
     "status": "completed"
    },
    "tags": []
   },
   "outputs": [
    {
     "data": {
      "text/html": [
       "<div>\n",
       "<style scoped>\n",
       "    .dataframe tbody tr th:only-of-type {\n",
       "        vertical-align: middle;\n",
       "    }\n",
       "\n",
       "    .dataframe tbody tr th {\n",
       "        vertical-align: top;\n",
       "    }\n",
       "\n",
       "    .dataframe thead th {\n",
       "        text-align: right;\n",
       "    }\n",
       "</style>\n",
       "<table border=\"1\" class=\"dataframe\">\n",
       "  <thead>\n",
       "    <tr style=\"text-align: right;\">\n",
       "      <th></th>\n",
       "      <th>Name</th>\n",
       "      <th>Gender</th>\n",
       "      <th>Blood Type</th>\n",
       "      <th>Medical Condition</th>\n",
       "      <th>Date of Admission</th>\n",
       "      <th>Doctor</th>\n",
       "      <th>Hospital</th>\n",
       "      <th>Insurance Provider</th>\n",
       "      <th>Admission Type</th>\n",
       "      <th>Discharge Date</th>\n",
       "      <th>Medication</th>\n",
       "      <th>Test Results</th>\n",
       "    </tr>\n",
       "  </thead>\n",
       "  <tbody>\n",
       "    <tr>\n",
       "      <th>count</th>\n",
       "      <td>55500</td>\n",
       "      <td>55500</td>\n",
       "      <td>55500</td>\n",
       "      <td>55500</td>\n",
       "      <td>55500</td>\n",
       "      <td>55500</td>\n",
       "      <td>55500</td>\n",
       "      <td>55500</td>\n",
       "      <td>55500</td>\n",
       "      <td>55500</td>\n",
       "      <td>55500</td>\n",
       "      <td>55500</td>\n",
       "    </tr>\n",
       "    <tr>\n",
       "      <th>unique</th>\n",
       "      <td>49992</td>\n",
       "      <td>2</td>\n",
       "      <td>8</td>\n",
       "      <td>6</td>\n",
       "      <td>1827</td>\n",
       "      <td>40341</td>\n",
       "      <td>39876</td>\n",
       "      <td>5</td>\n",
       "      <td>3</td>\n",
       "      <td>1856</td>\n",
       "      <td>5</td>\n",
       "      <td>3</td>\n",
       "    </tr>\n",
       "    <tr>\n",
       "      <th>top</th>\n",
       "      <td>DAvId muNoZ</td>\n",
       "      <td>Male</td>\n",
       "      <td>A-</td>\n",
       "      <td>Arthritis</td>\n",
       "      <td>2024-03-16</td>\n",
       "      <td>Michael Smith</td>\n",
       "      <td>LLC Smith</td>\n",
       "      <td>Cigna</td>\n",
       "      <td>Elective</td>\n",
       "      <td>2020-03-15</td>\n",
       "      <td>Lipitor</td>\n",
       "      <td>Abnormal</td>\n",
       "    </tr>\n",
       "    <tr>\n",
       "      <th>freq</th>\n",
       "      <td>3</td>\n",
       "      <td>27774</td>\n",
       "      <td>6969</td>\n",
       "      <td>9308</td>\n",
       "      <td>50</td>\n",
       "      <td>27</td>\n",
       "      <td>44</td>\n",
       "      <td>11249</td>\n",
       "      <td>18655</td>\n",
       "      <td>53</td>\n",
       "      <td>11140</td>\n",
       "      <td>18627</td>\n",
       "    </tr>\n",
       "  </tbody>\n",
       "</table>\n",
       "</div>"
      ],
      "text/plain": [
       "               Name Gender Blood Type Medical Condition Date of Admission  \\\n",
       "count         55500  55500      55500             55500             55500   \n",
       "unique        49992      2          8                 6              1827   \n",
       "top     DAvId muNoZ   Male         A-         Arthritis        2024-03-16   \n",
       "freq              3  27774       6969              9308                50   \n",
       "\n",
       "               Doctor   Hospital Insurance Provider Admission Type  \\\n",
       "count           55500      55500              55500          55500   \n",
       "unique          40341      39876                  5              3   \n",
       "top     Michael Smith  LLC Smith              Cigna       Elective   \n",
       "freq               27         44              11249          18655   \n",
       "\n",
       "       Discharge Date Medication Test Results  \n",
       "count           55500      55500        55500  \n",
       "unique           1856          5            3  \n",
       "top        2020-03-15    Lipitor     Abnormal  \n",
       "freq               53      11140        18627  "
      ]
     },
     "execution_count": 7,
     "metadata": {},
     "output_type": "execute_result"
    }
   ],
   "source": [
    "categorical_columns.describe()"
   ]
  },
  {
   "cell_type": "markdown",
   "id": "f1ecfece",
   "metadata": {
    "papermill": {
     "duration": 0.004548,
     "end_time": "2025-07-06T14:44:39.593128",
     "exception": false,
     "start_time": "2025-07-06T14:44:39.588580",
     "status": "completed"
    },
    "tags": []
   },
   "source": [
    "As stated by the provider of this dataset, we can treat this dataset as a Multi-class Classification problem to solve for the Test Results columns. "
   ]
  },
  {
   "cell_type": "code",
   "execution_count": 8,
   "id": "22c86b0a",
   "metadata": {
    "execution": {
     "iopub.execute_input": "2025-07-06T14:44:39.603303Z",
     "iopub.status.busy": "2025-07-06T14:44:39.603015Z",
     "iopub.status.idle": "2025-07-06T14:44:39.906723Z",
     "shell.execute_reply": "2025-07-06T14:44:39.905931Z"
    },
    "papermill": {
     "duration": 0.310513,
     "end_time": "2025-07-06T14:44:39.908118",
     "exception": false,
     "start_time": "2025-07-06T14:44:39.597605",
     "status": "completed"
    },
    "tags": []
   },
   "outputs": [
    {
     "data": {
      "text/html": [
       "<div>\n",
       "<style scoped>\n",
       "    .dataframe tbody tr th:only-of-type {\n",
       "        vertical-align: middle;\n",
       "    }\n",
       "\n",
       "    .dataframe tbody tr th {\n",
       "        vertical-align: top;\n",
       "    }\n",
       "\n",
       "    .dataframe thead th {\n",
       "        text-align: right;\n",
       "    }\n",
       "</style>\n",
       "<table border=\"1\" class=\"dataframe\">\n",
       "  <thead>\n",
       "    <tr style=\"text-align: right;\">\n",
       "      <th></th>\n",
       "      <th>Name</th>\n",
       "      <th>Age</th>\n",
       "      <th>Gender</th>\n",
       "      <th>Blood Type</th>\n",
       "      <th>Medical Condition</th>\n",
       "      <th>Date of Admission</th>\n",
       "      <th>Doctor</th>\n",
       "      <th>Hospital</th>\n",
       "      <th>Insurance Provider</th>\n",
       "      <th>Billing Amount</th>\n",
       "      <th>Room Number</th>\n",
       "      <th>Admission Type</th>\n",
       "      <th>Discharge Date</th>\n",
       "      <th>Medication</th>\n",
       "      <th>Test Results</th>\n",
       "      <th>size</th>\n",
       "    </tr>\n",
       "  </thead>\n",
       "  <tbody>\n",
       "    <tr>\n",
       "      <th>50</th>\n",
       "      <td>ABIgaIL YOung</td>\n",
       "      <td>41</td>\n",
       "      <td>Female</td>\n",
       "      <td>O+</td>\n",
       "      <td>Hypertension</td>\n",
       "      <td>2022-12-15</td>\n",
       "      <td>Edward Kramer</td>\n",
       "      <td>Moore-Mcdaniel</td>\n",
       "      <td>UnitedHealthcare</td>\n",
       "      <td>1983.568297</td>\n",
       "      <td>192</td>\n",
       "      <td>Elective</td>\n",
       "      <td>2023-01-13</td>\n",
       "      <td>Ibuprofen</td>\n",
       "      <td>Normal</td>\n",
       "      <td>2</td>\n",
       "    </tr>\n",
       "    <tr>\n",
       "      <th>195</th>\n",
       "      <td>ALIcia taYLoR</td>\n",
       "      <td>78</td>\n",
       "      <td>Male</td>\n",
       "      <td>O+</td>\n",
       "      <td>Asthma</td>\n",
       "      <td>2022-09-18</td>\n",
       "      <td>Dawn Burton</td>\n",
       "      <td>Wright LLC</td>\n",
       "      <td>Aetna</td>\n",
       "      <td>31465.274979</td>\n",
       "      <td>149</td>\n",
       "      <td>Elective</td>\n",
       "      <td>2022-10-15</td>\n",
       "      <td>Aspirin</td>\n",
       "      <td>Inconclusive</td>\n",
       "      <td>2</td>\n",
       "    </tr>\n",
       "    <tr>\n",
       "      <th>563</th>\n",
       "      <td>AMy GREEN</td>\n",
       "      <td>79</td>\n",
       "      <td>Female</td>\n",
       "      <td>B+</td>\n",
       "      <td>Obesity</td>\n",
       "      <td>2021-03-30</td>\n",
       "      <td>Brett Johnson</td>\n",
       "      <td>Taylor-Williamson</td>\n",
       "      <td>UnitedHealthcare</td>\n",
       "      <td>23402.358491</td>\n",
       "      <td>249</td>\n",
       "      <td>Elective</td>\n",
       "      <td>2021-04-27</td>\n",
       "      <td>Penicillin</td>\n",
       "      <td>Abnormal</td>\n",
       "      <td>2</td>\n",
       "    </tr>\n",
       "  </tbody>\n",
       "</table>\n",
       "</div>"
      ],
      "text/plain": [
       "              Name  Age  Gender Blood Type Medical Condition  \\\n",
       "50   ABIgaIL YOung   41  Female         O+      Hypertension   \n",
       "195  ALIcia taYLoR   78    Male         O+            Asthma   \n",
       "563      AMy GREEN   79  Female         B+           Obesity   \n",
       "\n",
       "    Date of Admission         Doctor           Hospital Insurance Provider  \\\n",
       "50         2022-12-15  Edward Kramer     Moore-Mcdaniel   UnitedHealthcare   \n",
       "195        2022-09-18    Dawn Burton         Wright LLC              Aetna   \n",
       "563        2021-03-30  Brett Johnson  Taylor-Williamson   UnitedHealthcare   \n",
       "\n",
       "     Billing Amount  Room Number Admission Type Discharge Date  Medication  \\\n",
       "50      1983.568297          192       Elective     2023-01-13   Ibuprofen   \n",
       "195    31465.274979          149       Elective     2022-10-15     Aspirin   \n",
       "563    23402.358491          249       Elective     2021-04-27  Penicillin   \n",
       "\n",
       "     Test Results  size  \n",
       "50         Normal     2  \n",
       "195  Inconclusive     2  \n",
       "563      Abnormal     2  "
      ]
     },
     "execution_count": 8,
     "metadata": {},
     "output_type": "execute_result"
    }
   ],
   "source": [
    "grouped_df = df.groupby(df.columns.tolist(), as_index=False).size()\n",
    "grouped_df.loc[grouped_df[\"size\"] > 1].head(3)"
   ]
  },
  {
   "cell_type": "code",
   "execution_count": 9,
   "id": "a6f94058",
   "metadata": {
    "execution": {
     "iopub.execute_input": "2025-07-06T14:44:39.919053Z",
     "iopub.status.busy": "2025-07-06T14:44:39.918541Z",
     "iopub.status.idle": "2025-07-06T14:44:40.003654Z",
     "shell.execute_reply": "2025-07-06T14:44:40.002741Z"
    },
    "papermill": {
     "duration": 0.092089,
     "end_time": "2025-07-06T14:44:40.005148",
     "exception": false,
     "start_time": "2025-07-06T14:44:39.913059",
     "status": "completed"
    },
    "tags": []
   },
   "outputs": [
    {
     "data": {
      "text/html": [
       "<div>\n",
       "<style scoped>\n",
       "    .dataframe tbody tr th:only-of-type {\n",
       "        vertical-align: middle;\n",
       "    }\n",
       "\n",
       "    .dataframe tbody tr th {\n",
       "        vertical-align: top;\n",
       "    }\n",
       "\n",
       "    .dataframe thead th {\n",
       "        text-align: right;\n",
       "    }\n",
       "</style>\n",
       "<table border=\"1\" class=\"dataframe\">\n",
       "  <thead>\n",
       "    <tr style=\"text-align: right;\">\n",
       "      <th></th>\n",
       "      <th>Name</th>\n",
       "      <th>Age</th>\n",
       "      <th>Gender</th>\n",
       "      <th>Blood Type</th>\n",
       "      <th>Medical Condition</th>\n",
       "      <th>Date of Admission</th>\n",
       "      <th>Doctor</th>\n",
       "      <th>Hospital</th>\n",
       "      <th>Insurance Provider</th>\n",
       "      <th>Billing Amount</th>\n",
       "      <th>Room Number</th>\n",
       "      <th>Admission Type</th>\n",
       "      <th>Discharge Date</th>\n",
       "      <th>Medication</th>\n",
       "      <th>Test Results</th>\n",
       "    </tr>\n",
       "  </thead>\n",
       "  <tbody>\n",
       "    <tr>\n",
       "      <th>42407</th>\n",
       "      <td>ABIgaIL YOung</td>\n",
       "      <td>41</td>\n",
       "      <td>Female</td>\n",
       "      <td>O+</td>\n",
       "      <td>Hypertension</td>\n",
       "      <td>2022-12-15</td>\n",
       "      <td>Edward Kramer</td>\n",
       "      <td>Moore-Mcdaniel</td>\n",
       "      <td>UnitedHealthcare</td>\n",
       "      <td>1983.568297</td>\n",
       "      <td>192</td>\n",
       "      <td>Elective</td>\n",
       "      <td>2023-01-13</td>\n",
       "      <td>Ibuprofen</td>\n",
       "      <td>Normal</td>\n",
       "    </tr>\n",
       "  </tbody>\n",
       "</table>\n",
       "</div>"
      ],
      "text/plain": [
       "                Name  Age  Gender Blood Type Medical Condition  \\\n",
       "42407  ABIgaIL YOung   41  Female         O+      Hypertension   \n",
       "\n",
       "      Date of Admission         Doctor        Hospital Insurance Provider  \\\n",
       "42407        2022-12-15  Edward Kramer  Moore-Mcdaniel   UnitedHealthcare   \n",
       "\n",
       "       Billing Amount  Room Number Admission Type Discharge Date Medication  \\\n",
       "42407     1983.568297          192       Elective     2023-01-13  Ibuprofen   \n",
       "\n",
       "      Test Results  \n",
       "42407       Normal  "
      ]
     },
     "execution_count": 9,
     "metadata": {},
     "output_type": "execute_result"
    }
   ],
   "source": [
    "df_deduped = df.drop_duplicates()\n",
    "df_deduped.loc[df_deduped[\"Name\"] == \"ABIgaIL YOung\"]"
   ]
  },
  {
   "cell_type": "code",
   "execution_count": 10,
   "id": "fe6c3738",
   "metadata": {
    "execution": {
     "iopub.execute_input": "2025-07-06T14:44:40.017458Z",
     "iopub.status.busy": "2025-07-06T14:44:40.016842Z",
     "iopub.status.idle": "2025-07-06T14:44:40.094274Z",
     "shell.execute_reply": "2025-07-06T14:44:40.093508Z"
    },
    "papermill": {
     "duration": 0.085514,
     "end_time": "2025-07-06T14:44:40.095775",
     "exception": false,
     "start_time": "2025-07-06T14:44:40.010261",
     "status": "completed"
    },
    "tags": []
   },
   "outputs": [],
   "source": [
    "df.drop_duplicates(inplace=True)"
   ]
  },
  {
   "cell_type": "code",
   "execution_count": 11,
   "id": "f971bca5",
   "metadata": {
    "execution": {
     "iopub.execute_input": "2025-07-06T14:44:40.107056Z",
     "iopub.status.busy": "2025-07-06T14:44:40.106679Z",
     "iopub.status.idle": "2025-07-06T14:44:40.124545Z",
     "shell.execute_reply": "2025-07-06T14:44:40.123760Z"
    },
    "papermill": {
     "duration": 0.02479,
     "end_time": "2025-07-06T14:44:40.125776",
     "exception": false,
     "start_time": "2025-07-06T14:44:40.100986",
     "status": "completed"
    },
    "tags": []
   },
   "outputs": [
    {
     "data": {
      "text/html": [
       "<div>\n",
       "<style scoped>\n",
       "    .dataframe tbody tr th:only-of-type {\n",
       "        vertical-align: middle;\n",
       "    }\n",
       "\n",
       "    .dataframe tbody tr th {\n",
       "        vertical-align: top;\n",
       "    }\n",
       "\n",
       "    .dataframe thead th {\n",
       "        text-align: right;\n",
       "    }\n",
       "</style>\n",
       "<table border=\"1\" class=\"dataframe\">\n",
       "  <thead>\n",
       "    <tr style=\"text-align: right;\">\n",
       "      <th></th>\n",
       "      <th>Name</th>\n",
       "      <th>Age</th>\n",
       "      <th>Gender</th>\n",
       "      <th>Blood Type</th>\n",
       "      <th>Medical Condition</th>\n",
       "      <th>Date of Admission</th>\n",
       "      <th>Doctor</th>\n",
       "      <th>Hospital</th>\n",
       "      <th>Insurance Provider</th>\n",
       "      <th>Billing Amount</th>\n",
       "      <th>Room Number</th>\n",
       "      <th>Admission Type</th>\n",
       "      <th>Discharge Date</th>\n",
       "      <th>Medication</th>\n",
       "      <th>Test Results</th>\n",
       "    </tr>\n",
       "  </thead>\n",
       "  <tbody>\n",
       "    <tr>\n",
       "      <th>42407</th>\n",
       "      <td>ABIgaIL YOung</td>\n",
       "      <td>41</td>\n",
       "      <td>Female</td>\n",
       "      <td>O+</td>\n",
       "      <td>Hypertension</td>\n",
       "      <td>2022-12-15</td>\n",
       "      <td>Edward Kramer</td>\n",
       "      <td>Moore-Mcdaniel</td>\n",
       "      <td>UnitedHealthcare</td>\n",
       "      <td>1983.568297</td>\n",
       "      <td>192</td>\n",
       "      <td>Elective</td>\n",
       "      <td>2023-01-13</td>\n",
       "      <td>Ibuprofen</td>\n",
       "      <td>Normal</td>\n",
       "    </tr>\n",
       "  </tbody>\n",
       "</table>\n",
       "</div>"
      ],
      "text/plain": [
       "                Name  Age  Gender Blood Type Medical Condition  \\\n",
       "42407  ABIgaIL YOung   41  Female         O+      Hypertension   \n",
       "\n",
       "      Date of Admission         Doctor        Hospital Insurance Provider  \\\n",
       "42407        2022-12-15  Edward Kramer  Moore-Mcdaniel   UnitedHealthcare   \n",
       "\n",
       "       Billing Amount  Room Number Admission Type Discharge Date Medication  \\\n",
       "42407     1983.568297          192       Elective     2023-01-13  Ibuprofen   \n",
       "\n",
       "      Test Results  \n",
       "42407       Normal  "
      ]
     },
     "execution_count": 11,
     "metadata": {},
     "output_type": "execute_result"
    }
   ],
   "source": [
    "df.loc[df[\"Name\"] == \"ABIgaIL YOung\"]"
   ]
  },
  {
   "cell_type": "code",
   "execution_count": 12,
   "id": "f0d4654e",
   "metadata": {
    "execution": {
     "iopub.execute_input": "2025-07-06T14:44:40.137316Z",
     "iopub.status.busy": "2025-07-06T14:44:40.137034Z",
     "iopub.status.idle": "2025-07-06T14:44:40.207722Z",
     "shell.execute_reply": "2025-07-06T14:44:40.206946Z"
    },
    "papermill": {
     "duration": 0.078182,
     "end_time": "2025-07-06T14:44:40.209141",
     "exception": false,
     "start_time": "2025-07-06T14:44:40.130959",
     "status": "completed"
    },
    "tags": []
   },
   "outputs": [
    {
     "data": {
      "text/plain": [
       "0"
      ]
     },
     "execution_count": 12,
     "metadata": {},
     "output_type": "execute_result"
    }
   ],
   "source": [
    "df.duplicated().sum()"
   ]
  },
  {
   "cell_type": "markdown",
   "id": "663c34fc",
   "metadata": {
    "papermill": {
     "duration": 0.004879,
     "end_time": "2025-07-06T14:44:40.219161",
     "exception": false,
     "start_time": "2025-07-06T14:44:40.214282",
     "status": "completed"
    },
    "tags": []
   },
   "source": [
    "# Data Visualizations"
   ]
  },
  {
   "cell_type": "code",
   "execution_count": 13,
   "id": "0f00a6b7",
   "metadata": {
    "execution": {
     "iopub.execute_input": "2025-07-06T14:44:40.230374Z",
     "iopub.status.busy": "2025-07-06T14:44:40.230092Z",
     "iopub.status.idle": "2025-07-06T14:44:42.144992Z",
     "shell.execute_reply": "2025-07-06T14:44:42.143976Z"
    },
    "papermill": {
     "duration": 1.922566,
     "end_time": "2025-07-06T14:44:42.146743",
     "exception": false,
     "start_time": "2025-07-06T14:44:40.224177",
     "status": "completed"
    },
    "tags": []
   },
   "outputs": [],
   "source": [
    "import seaborn as sns\n",
    "import matplotlib.pyplot as plt"
   ]
  },
  {
   "cell_type": "code",
   "execution_count": 14,
   "id": "0b6ad5be",
   "metadata": {
    "execution": {
     "iopub.execute_input": "2025-07-06T14:44:42.160248Z",
     "iopub.status.busy": "2025-07-06T14:44:42.159616Z",
     "iopub.status.idle": "2025-07-06T14:44:42.169360Z",
     "shell.execute_reply": "2025-07-06T14:44:42.168471Z"
    },
    "papermill": {
     "duration": 0.018787,
     "end_time": "2025-07-06T14:44:42.171111",
     "exception": false,
     "start_time": "2025-07-06T14:44:42.152324",
     "status": "completed"
    },
    "tags": []
   },
   "outputs": [
    {
     "data": {
      "text/plain": [
       "Age\n",
       "13    14\n",
       "14    18\n",
       "15    28\n",
       "dtype: int64"
      ]
     },
     "execution_count": 14,
     "metadata": {},
     "output_type": "execute_result"
    }
   ],
   "source": [
    "df.groupby(\"Age\").size().head(3)"
   ]
  },
  {
   "cell_type": "code",
   "execution_count": 15,
   "id": "5b5a5927",
   "metadata": {
    "execution": {
     "iopub.execute_input": "2025-07-06T14:44:42.183554Z",
     "iopub.status.busy": "2025-07-06T14:44:42.183179Z",
     "iopub.status.idle": "2025-07-06T14:44:42.194418Z",
     "shell.execute_reply": "2025-07-06T14:44:42.193589Z"
    },
    "papermill": {
     "duration": 0.019468,
     "end_time": "2025-07-06T14:44:42.196083",
     "exception": false,
     "start_time": "2025-07-06T14:44:42.176615",
     "status": "completed"
    },
    "tags": []
   },
   "outputs": [
    {
     "data": {
      "text/html": [
       "<div>\n",
       "<style scoped>\n",
       "    .dataframe tbody tr th:only-of-type {\n",
       "        vertical-align: middle;\n",
       "    }\n",
       "\n",
       "    .dataframe tbody tr th {\n",
       "        vertical-align: top;\n",
       "    }\n",
       "\n",
       "    .dataframe thead th {\n",
       "        text-align: right;\n",
       "    }\n",
       "</style>\n",
       "<table border=\"1\" class=\"dataframe\">\n",
       "  <thead>\n",
       "    <tr style=\"text-align: right;\">\n",
       "      <th></th>\n",
       "      <th>Age</th>\n",
       "      <th>Count</th>\n",
       "    </tr>\n",
       "  </thead>\n",
       "  <tbody>\n",
       "    <tr>\n",
       "      <th>0</th>\n",
       "      <td>13</td>\n",
       "      <td>14</td>\n",
       "    </tr>\n",
       "    <tr>\n",
       "      <th>1</th>\n",
       "      <td>14</td>\n",
       "      <td>18</td>\n",
       "    </tr>\n",
       "    <tr>\n",
       "      <th>2</th>\n",
       "      <td>15</td>\n",
       "      <td>28</td>\n",
       "    </tr>\n",
       "    <tr>\n",
       "      <th>3</th>\n",
       "      <td>16</td>\n",
       "      <td>24</td>\n",
       "    </tr>\n",
       "    <tr>\n",
       "      <th>4</th>\n",
       "      <td>17</td>\n",
       "      <td>32</td>\n",
       "    </tr>\n",
       "    <tr>\n",
       "      <th>5</th>\n",
       "      <td>18</td>\n",
       "      <td>770</td>\n",
       "    </tr>\n",
       "    <tr>\n",
       "      <th>6</th>\n",
       "      <td>19</td>\n",
       "      <td>791</td>\n",
       "    </tr>\n",
       "    <tr>\n",
       "      <th>7</th>\n",
       "      <td>20</td>\n",
       "      <td>744</td>\n",
       "    </tr>\n",
       "    <tr>\n",
       "      <th>8</th>\n",
       "      <td>21</td>\n",
       "      <td>817</td>\n",
       "    </tr>\n",
       "    <tr>\n",
       "      <th>9</th>\n",
       "      <td>22</td>\n",
       "      <td>810</td>\n",
       "    </tr>\n",
       "  </tbody>\n",
       "</table>\n",
       "</div>"
      ],
      "text/plain": [
       "   Age  Count\n",
       "0   13     14\n",
       "1   14     18\n",
       "2   15     28\n",
       "3   16     24\n",
       "4   17     32\n",
       "5   18    770\n",
       "6   19    791\n",
       "7   20    744\n",
       "8   21    817\n",
       "9   22    810"
      ]
     },
     "execution_count": 15,
     "metadata": {},
     "output_type": "execute_result"
    }
   ],
   "source": [
    "df.groupby(\"Age\").size().reset_index(name=\"Count\").head(10)"
   ]
  },
  {
   "cell_type": "code",
   "execution_count": 16,
   "id": "35e10182",
   "metadata": {
    "execution": {
     "iopub.execute_input": "2025-07-06T14:44:42.209703Z",
     "iopub.status.busy": "2025-07-06T14:44:42.208510Z",
     "iopub.status.idle": "2025-07-06T14:44:43.763813Z",
     "shell.execute_reply": "2025-07-06T14:44:43.762953Z"
    },
    "papermill": {
     "duration": 1.563451,
     "end_time": "2025-07-06T14:44:43.765200",
     "exception": false,
     "start_time": "2025-07-06T14:44:42.201749",
     "status": "completed"
    },
    "tags": []
   },
   "outputs": [
    {
     "data": {
      "image/png": "[encoded data removed]",
      "text/plain": [
       "<Figure size 1800x500 with 1 Axes>"
      ]
     },
     "metadata": {},
     "output_type": "display_data"
    },
    {
     "data": {
      "image/png": "[encoded data removed]",
      "text/plain": [
       "<Figure size 1800x500 with 1 Axes>"
      ]
     },
     "metadata": {},
     "output_type": "display_data"
    },
    {
     "data": {
      "image/png": "[encoded data removed]",
      "text/plain": [
       "<Figure size 1800x500 with 1 Axes>"
      ]
     },
     "metadata": {},
     "output_type": "display_data"
    }
   ],
   "source": [
    "plt.rcParams[\"figure.figsize\"] = [18, 5]\n",
    "def show_plot():\n",
    "    plt.tight_layout()\n",
    "    plt.show()\n",
    "\n",
    "# =======================================\n",
    "# Age counts barplot\n",
    "# =======================================\n",
    "age_count = df.groupby(\"Age\").size().reset_index(name=\"Count\")\n",
    "sns.barplot(data=age_count, x=\"Age\", y=\"Count\")\n",
    "show_plot()\n",
    "\n",
    "# =======================================\n",
    "# Medical Conditions Pie Chart\n",
    "# =======================================\n",
    "medical_condition_df = df.groupby(\"Medical Condition\") \\\n",
    "                         .size() \\\n",
    "                         .reset_index(name=\"Count\")\n",
    "plt.pie(medical_condition_df[\"Count\"], \n",
    "        labels=medical_condition_df[\"Medical Condition\"], \n",
    "        autopct=\"%1.1f%%\")\n",
    "show_plot()\n",
    "\n",
    "# =======================================\n",
    "# Billing Histogram Plot\n",
    "# A negative amount could meam\n",
    "# overpayment, resulting in a refund\n",
    "# =======================================\n",
    "sns.histplot(data=df, x=\"Billing Amount\", kde=True)\n",
    "show_plot()"
   ]
  },
  {
   "cell_type": "code",
   "execution_count": 17,
   "id": "c8e9a691",
   "metadata": {
    "execution": {
     "iopub.execute_input": "2025-07-06T14:44:43.781064Z",
     "iopub.status.busy": "2025-07-06T14:44:43.780648Z",
     "iopub.status.idle": "2025-07-06T14:44:43.785750Z",
     "shell.execute_reply": "2025-07-06T14:44:43.784801Z"
    },
    "papermill": {
     "duration": 0.014333,
     "end_time": "2025-07-06T14:44:43.787093",
     "exception": false,
     "start_time": "2025-07-06T14:44:43.772760",
     "status": "completed"
    },
    "tags": []
   },
   "outputs": [
    {
     "name": "stdout",
     "output_type": "stream",
     "text": [
      "Name\n",
      "Age\n",
      "Gender\n",
      "Blood Type\n",
      "Medical Condition\n",
      "Date of Admission\n",
      "Doctor\n",
      "Hospital\n",
      "Insurance Provider\n",
      "Billing Amount\n",
      "Room Number\n",
      "Admission Type\n",
      "Discharge Date\n",
      "Medication\n"
     ]
    }
   ],
   "source": [
    "for col in df.columns:\n",
    "    if col != \"Test Results\":\n",
    "        print(col)"
   ]
  },
  {
   "cell_type": "markdown",
   "id": "8f2aa550",
   "metadata": {
    "papermill": {
     "duration": 0.006843,
     "end_time": "2025-07-06T14:44:43.801069",
     "exception": false,
     "start_time": "2025-07-06T14:44:43.794226",
     "status": "completed"
    },
    "tags": []
   },
   "source": [
    "# Modeling"
   ]
  },
  {
   "cell_type": "code",
   "execution_count": 18,
   "id": "b5b7e4c1",
   "metadata": {
    "execution": {
     "iopub.execute_input": "2025-07-06T14:44:43.815997Z",
     "iopub.status.busy": "2025-07-06T14:44:43.815682Z",
     "iopub.status.idle": "2025-07-06T14:44:44.793194Z",
     "shell.execute_reply": "2025-07-06T14:44:44.792295Z"
    },
    "papermill": {
     "duration": 0.986798,
     "end_time": "2025-07-06T14:44:44.794806",
     "exception": false,
     "start_time": "2025-07-06T14:44:43.808008",
     "status": "completed"
    },
    "tags": []
   },
   "outputs": [],
   "source": [
    "# Preprocess categorical variables\n",
    "from sklearn.preprocessing import LabelEncoder\n",
    "\n",
    "# Split data into train and test data\n",
    "from sklearn.model_selection import train_test_split\n",
    "\n",
    "# Models to try\n",
    "from sklearn.ensemble import RandomForestRegressor\n",
    "from xgboost import XGBRegressor\n",
    "\n",
    "# Measurements\n",
    "from sklearn.metrics import mean_absolute_error"
   ]
  }
 ],
 "metadata": {
  "kaggle": {
   "accelerator": "none",
   "dataSources": [
    {
     "datasetId": 3934836,
     "sourceId": 8356547,
     "sourceType": "datasetVersion"
    }
   ],
   "dockerImageVersionId": 31040,
   "isGpuEnabled": false,
   "isInternetEnabled": false,
   "language": "python",
   "sourceType": "notebook"
  },
  "kernelspec": {
   "display_name": "Python 3",
   "language": "python",
   "name": "python3"
  },
  "language_info": {
   "codemirror_mode": {
    "name": "ipython",
    "version": 3
   },
   "file_extension": ".py",
   "mimetype": "text/x-python",
   "name": "python",
   "nbconvert_exporter": "python",
   "pygments_lexer": "ipython3",
   "version": "3.11.11"
  },
  "papermill": {
   "default_parameters": {},
   "duration": 13.769101,
   "end_time": "2025-07-06T14:44:45.824878",
   "environment_variables": {},
   "exception": null,
   "input_path": "__notebook__.ipynb",
   "output_path": "__notebook__.ipynb",
   "parameters": {},
   "start_time": "2025-07-06T14:44:32.055777",
   "version": "2.6.0"
  }
 },
 "nbformat": 4,
 "nbformat_minor": 5
}
